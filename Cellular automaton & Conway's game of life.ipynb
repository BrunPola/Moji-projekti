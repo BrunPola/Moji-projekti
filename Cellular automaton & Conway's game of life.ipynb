{
  "cells": [
    {
      "cell_type": "markdown",
      "metadata": {
        "id": "BQL9Evg88FPA"
      },
      "source": [
        "#**Cellular automaton & Conway's game of life**\n",
        "*Drugi projektni zadatak iz umjetne inteligencije*\n",
        "\n",
        "**Izradili:** Bruno Polančec i Josip Plazanić\n",
        "\nLink na bilježnicu u colabu: https://colab.research.google.com/drive/1zPVySn427CcyG-dQldmIL8gdYMLR7HNv?usp=sharing"
      ]
    },
    {
      "cell_type": "markdown",
      "metadata": {
        "id": "z6PjrS0X34b1"
      },
      "source": [
        "## **Cellular Automaton**"
      ]
    },
    {
      "cell_type": "markdown",
      "metadata": {
        "id": "FownIpDDZVa6"
      },
      "source": [
        "### Teorijski dio"
      ]
    },
    {
      "cell_type": "markdown",
      "metadata": {
        "id": "yyrA49s14IWW"
      },
      "source": [
        "*Cellular automata* (skraćeno: CA) je diskretni model računanja proučavan u teoriji automata. *Cellular automata* nazivaju se i ćelijskim prostorima, automatskim teselacijama (teselacija - proces podjele prostora na jednostavne geometrijske oblike ili ćelije kako bi se olakšala analiza i manipulacija podacima), homogenim strukturama, ćelijskim strukturama, teselacijskim strukturama te iterativnim nizovima. *Cellular automati* našli su primjenu u različitim područjima, uključujući fiziku, teorijsku biologiju te modeliranje mikrostruktura.\n",
        "\n",
        "*Cellular automata* sastoji se od pravilne rešetke ćelija, svaka u jednom od konačnog broja stanja, poput uključeno i isključeno (za razliku od povezanih mapa rešetke). Rešetka može biti u bilo kojem konačnom broju dimenzija. Za svaku ćeliju definiran je skup ćelija nazvan njezino susjedstvo u odnosu na određenu ćeliju. Početno stanje (vrijeme t = 0) odabire se dodjeljivanjem stanja za svaku ćeliju. Stvara se nova generacija (napredovanjem t za 1), prema nekom fiksnom pravilu (u pravilu, matematičkoj funkciji) koje određuje novo stanje svake ćelije u smislu trenutnog stanja ćelije i stanja ćelija u njezinom susjedstvu. Uobičajeno je pravilo za ažuriranje stanja ćelija isto za svaku ćeliju, ne mijenja se tijekom vremena, i primjenjuje se na cijelu rešetku istovremeno, iako su poznate iznimke poput stohastičnog *cellular automata* i asinkronog *cellular automata*."
      ]
    },
    {
      "cell_type": "markdown",
      "metadata": {
        "id": "4QEMZP2x5mqW"
      },
      "source": [
        "Koncept je izvorno otkriven 1940-ih godina od strane *Stanislawa Ulama* i *Johna von Neumanna* dok su bili dio tima u Nacionalnom laboratoriju Los Alamos. Iako su neki istraživali ovu temu tijekom 1950-ih i 1960-ih godina, tek je s pojavom Conwayeve igre života, dvodimenzionalnog *cellular automata*, interes za temu proširen izvan akademske zajednice. Tijekom 1980-ih, *Stephen Wolfram* se angažirao u sustavnom istraživanju jednodimenzionalnih *cellular automata*, ili kako ih naziva osnovnim *cellular automatima*; njegov istraživački asistent *Matthew Cook* pokazao je da je jedno od ovih pravila Turing-kompletno.\n",
        "\n",
        "Primarne klasifikacije *cellular automata*, kako je izložio Wolfram, numerirane su od jedan do četiri.\n",
        "To su, redom:\n",
        "\n",
        "1.   automati u kojima se obrasci uglavnom stabiliziraju u homogenost,\n",
        "2.   automati u kojima obrasci evoluiraju u većinom stabilne ili oscilirajuće strukture,\n",
        "3.   automati u kojima obrasci evoluiraju na naizgled kaotičan način,\n",
        "4.   i automati u kojima obrasci postaju izuzetno složeni i mogu trajati dugo, sa stabilnim lokalnim strukturama.\n",
        "\n",
        "Ova posljednja klasa smatra se računalno univerzalnom, ili sposobnom za simuliranje *Turingovog stroja*. Posebne vrste *cellular automata* su reverzibilne, gdje samo jedna konfiguracija direktno vodi do sljedeće, i totalističke, u kojima buduća vrijednost pojedinih ćelija ovisi samo o ukupnoj vrijednosti grupe susjednih ćelija. *Cellular automati* mogu simulirati različite sustave u stvarnom svijetu, uključujući biološke i kemijske."
      ]
    },
    {
      "cell_type": "markdown",
      "metadata": {
        "id": "-YzR2ZvM61bI"
      },
      "source": [
        "Jedan način za simulaciju dvodimenzionalnog *cellular automata* je pomoću beskonačnog lista grafičkog papira zajedno sa setom pravila koje ćelije slijede. Svaki kvadrat naziva se \"ćelija\", a svaka ćelija ima dva moguća stanja, crno i bijelo. Susjedstvo ćelije su obližnje, obično susjedne, ćelije. Dva najčešća tipa susjedstava su *von Neumannovo susjedstvo* i *Mooreovo susjedstvo*. Prvo, nazvano po osnivaču teorije *cellular automata*, sastoji se od četiri ortogonalno susjedne ćelije. Potonje uključuje *von Neumannovo susjedstvo* kao i četiri dijagonalno susjedne ćelije. Za takvu ćeliju i njezino *Mooreovo susjedstvo*, postoji 512 (= $2^9$) mogućih obrazaca. Za svaki od 512 mogućih obrazaca, tablica pravila bi navela hoće li središnja ćelija biti crna ili bijela u sljedećem vremenskom intervalu. Conwayeva igra života je popularna verzija ovog modela. Još jedan uobičajeni tip susjedstva je *prošireno von Neumannovo susjedstvo*, koje uključuje dvije najbliže ćelije u svakom ortogonalnom smjeru, ukupno osam. Opća jednadžba za ukupan broj mogućih automata je ${k^k}^s$, gdje je $k$ broj mogućih stanja za ćeliju, a $s$ je broj susjednih ćelija (uključujući ćeliju koja se trenutno računa) koji se koriste za određivanje sljedećeg stanja ćelije. Dakle, u dvodimenzionalnom sustavu s *Mooreovim susjedstvom*, ukupan broj mogućih automata bio bi ${2^2}^9$, odnosno $1.34×10^{154}$."
      ]
    },
    {
      "cell_type": "markdown",
      "metadata": {
        "id": "bLovh7VX_C9M"
      },
      "source": [
        "Uobičajeno je pretpostaviti da svaka ćelija u svijetu počinje u istom stanju, osim za konačan broj ćelija u drugim stanjima; dodjela vrijednosti stanja naziva se konfiguracija. Općenito, ponekad se pretpostavlja da se svijet počinje s periodičnim uzorkom, i samo konačan broj ćelija krši taj uzorak. Ova druga pretpostavka uobičajena je kod jednodimenzionalnih *cellular automata*.\n",
        "\n",
        "*Cellular automati* često se simuliraju na konačnoj rešetki umjesto na beskonačnoj. U dvije dimenzije, svijet bi bio pravokutnik umjesto beskonačne ravnine."
      ]
    },
    {
      "cell_type": "markdown",
      "metadata": {
        "id": "UEJuMSP385XO"
      },
      "source": [
        "### Praktični dio\n",
        "\n",
        "Krenimo od jednodimenzionalnog CA modela s dva moguća stadija: 1 i 0, 'živo' i 'mrtvo', ⬛ i ⬜.\n",
        "\n",
        "Ako imamo neko početno stanje: ⬛⬛⬛⬜⬛⬜⬜⬜⬛⬛, za svaku ćeliju\n",
        "moramo odrediti hoće li se njezino stanje promijeniti ili ne. To radimo na temelju njezinog susjedstva. Najjednostavniji model za susjedstvo uzima jednu ćeliju lijevo i jednu desno od one koju promatramo. Tako dobivamo 8 mogućih susjedstava:\n",
        "\n",
        "\n",
        "*   ⬜⬜⬜, &emsp; binarno: 000, &emsp; dekadski: 0\n",
        "*   ⬜⬜⬛, &emsp; binarno: 001, &emsp; dekadski: 1\n",
        "*   ⬜⬛⬜, &emsp; binarno: 010, &emsp; dekadski: 2\n",
        "*   ⬜⬛⬛, &emsp; binarno: 011, &emsp; dekadski: 3\n",
        "*   ⬛⬜⬜, &emsp; binarno: 100, &emsp; dekadski: 4\n",
        "*   ⬛⬜⬛, &emsp; binarno: 101, &emsp; dekadski: 5\n",
        "*   ⬛⬛⬜, &emsp; binarno: 110, &emsp; dekadski: 6\n",
        "*   ⬛⬛⬛, &emsp; binarno: 111, &emsp; dekadski: 7\n",
        "\n",
        "S obzirom u kojem susjedstvu se nalazi ćelija, definiramo hoće li ta ćelija u idućoj generaciji biti ⬛ ili ⬜, tj. 1 ili 0. Dakle \"pravilo\" je zapravo uređeni skup od 8 elemenata 0 ili 1. Zato se pravilo može sažeto opisati dekadskim brojem 0-255 na način da u uređeni skup spremimo binarni zapis tog broja.\n"
      ]
    },
    {
      "cell_type": "markdown",
      "metadata": {
        "id": "Z3V2m8JjHtjG"
      },
      "source": [
        "####Implementacija 1D CA\n",
        "Za početak, definirajmo pravilo i funkciju koja generira novu generaciju."
      ]
    },
    {
      "cell_type": "code",
      "execution_count": 2,
      "metadata": {
        "colab": {
          "base_uri": "https://localhost:8080/"
        },
        "id": "xNUvyZCfINEh",
        "outputId": "486c4b15-e1ad-4d2c-f8d4-6dae386fa360"
      },
      "outputs": [
        {
          "name": "stdout",
          "output_type": "stream",
          "text": [
            "Pravilo =  [0, 1, 1, 1, 1, 1, 1, 0]\n",
            "⬛⬛⬛⬜⬛⬜⬜⬜⬛⬛\n",
            "⬜⬜⬛⬛⬛⬛⬜⬛⬛⬜\n"
          ]
        }
      ],
      "source": [
        "# Funkcija koja vraća pravilo zadanog broja\n",
        "def nabaviPravilo(broj):\n",
        "    pravilo = [0]*8\n",
        "    for i in range(8):\n",
        "        pravilo[i] = broj%2\n",
        "        broj//=2\n",
        "    return pravilo\n",
        "\n",
        "# Funkcija koja generira sljedeću generaciju\n",
        "def novaGeneracija(stanje, pravilo):\n",
        "    novoStanje = [0]*len(stanje)\n",
        "    for i in range(len(stanje)):\n",
        "        susjedstvo = 4*stanje[(i-1)%len(stanje)] + 2*stanje[i] + 1*stanje[(i+1)%len(stanje)]\n",
        "        novoStanje[i] = pravilo[susjedstvo]\n",
        "    return novoStanje\n",
        "\n",
        "# Estetska funkcija\n",
        "def print1DCA(stanje):\n",
        "    s=\"\"\n",
        "    for i in stanje:\n",
        "        if i == 1:\n",
        "            s+=\"⬛\"\n",
        "        elif i == 0:\n",
        "            s+=\"⬜\"\n",
        "        else:\n",
        "            s+=i\n",
        "    print(s)\n",
        "\n",
        "# Ovdje zadajemo pravilo ⬇\n",
        "pravilo = nabaviPravilo(126)\n",
        "print(\"Pravilo = \", pravilo)\n",
        "\n",
        "stanje = [1,1,1,0,1,0,0,0,1,1]     #⬛⬛⬛⬜⬛⬜⬜⬜⬛⬛\n",
        "\n",
        "print1DCA(stanje) # Gen 0\n",
        "print1DCA(novaGeneracija(stanje, pravilo)) # Gen 1\n"
      ]
    },
    {
      "cell_type": "markdown",
      "metadata": {
        "id": "Nek6I37a-JJX"
      },
      "source": [
        "Ova implementacija sprema pravilo tako da dekadska reprezentacija susjedstva označava index elementa u polju. (Dakle obrnutim redosljedom od binarnog zapisa broja pravila).\n",
        "\n",
        "U funkciji koja generira novu generaciju prvo smo susjedstvo pretvorili u dekadski zapis:\n",
        "```\n",
        "susjedstvo = 4*stanje[(i-1)%len(stanje)] + 2*stanje[i] + 1*stanje[(i+1)%len(stanje)]        \n",
        "```\n",
        "Razlog zašto koristimo `index % len(stanje)` je da obradimo granične slučajeve. CA koji smo implementirali ne definira što će se dogoditi u ćelijama koje nemaju 2 susjeda. Mogli smo definirati poseban set pravila za te ćelije ili definirati da je nepostojeći susjed uvijek 0 (ili 1). Mi smo odlučili gledati naše polje kao zatvoreni krug, tj. lijevi susjed **prvog** elemnta je **zadnji** element i desni susjed **zadnjeg** elementa je **prvi** element.\n",
        "\n",
        "Zadnja funkcija koju smo gore definirali pretvara polje elemenata u (vizualno jasnije) crne i bijele ćelije."
      ]
    },
    {
      "cell_type": "markdown",
      "metadata": {
        "id": "hqIwbYwKJiXn"
      },
      "source": [
        "#### Demonstracija 1D CA\n",
        "Pogledajmo sad neke Automate koji pripadaju određenim Wolframovim klasifikacijama.\n",
        "1. automati u kojima se obrasci uglavnom stabiliziraju u homogenost"
      ]
    },
    {
      "cell_type": "code",
      "execution_count": 3,
      "metadata": {
        "colab": {
          "base_uri": "https://localhost:8080/"
        },
        "id": "MvET_A05J6mo",
        "outputId": "b17b033f-a0f0-4f0a-a30c-669a896231f8"
      },
      "outputs": [
        {
          "name": "stdout",
          "output_type": "stream",
          "text": [
            "⬜⬜⬜⬜⬜⬜⬜⬜⬜⬜⬜⬜⬜⬜⬜⬜⬜⬜⬜⬜⬜⬜⬜⬜⬜⬛⬜⬜⬜⬜⬜⬜⬜⬜⬜⬜⬜⬜⬜⬜⬜⬜⬜⬜⬜⬜⬜⬜⬜⬜⬜⬜\n",
            "⬜⬜⬜⬜⬜⬜⬜⬜⬜⬜⬜⬜⬜⬜⬜⬜⬜⬜⬜⬜⬜⬜⬜⬜⬛⬛⬛⬜⬜⬜⬜⬜⬜⬜⬜⬜⬜⬜⬜⬜⬜⬜⬜⬜⬜⬜⬜⬜⬜⬜⬜⬜\n",
            "⬜⬜⬜⬜⬜⬜⬜⬜⬜⬜⬜⬜⬜⬜⬜⬜⬜⬜⬜⬜⬜⬜⬜⬛⬛⬛⬛⬛⬜⬜⬜⬜⬜⬜⬜⬜⬜⬜⬜⬜⬜⬜⬜⬜⬜⬜⬜⬜⬜⬜⬜⬜\n",
            "⬜⬜⬜⬜⬜⬜⬜⬜⬜⬜⬜⬜⬜⬜⬜⬜⬜⬜⬜⬜⬜⬜⬛⬛⬛⬛⬛⬛⬛⬜⬜⬜⬜⬜⬜⬜⬜⬜⬜⬜⬜⬜⬜⬜⬜⬜⬜⬜⬜⬜⬜⬜\n",
            "⬜⬜⬜⬜⬜⬜⬜⬜⬜⬜⬜⬜⬜⬜⬜⬜⬜⬜⬜⬜⬜⬛⬛⬛⬛⬛⬛⬛⬛⬛⬜⬜⬜⬜⬜⬜⬜⬜⬜⬜⬜⬜⬜⬜⬜⬜⬜⬜⬜⬜⬜⬜\n",
            "⬜⬜⬜⬜⬜⬜⬜⬜⬜⬜⬜⬜⬜⬜⬜⬜⬜⬜⬜⬜⬛⬛⬛⬛⬛⬛⬛⬛⬛⬛⬛⬜⬜⬜⬜⬜⬜⬜⬜⬜⬜⬜⬜⬜⬜⬜⬜⬜⬜⬜⬜⬜\n",
            "⬜⬜⬜⬜⬜⬜⬜⬜⬜⬜⬜⬜⬜⬜⬜⬜⬜⬜⬜⬛⬛⬛⬛⬛⬛⬛⬛⬛⬛⬛⬛⬛⬜⬜⬜⬜⬜⬜⬜⬜⬜⬜⬜⬜⬜⬜⬜⬜⬜⬜⬜⬜\n",
            "⬜⬜⬜⬜⬜⬜⬜⬜⬜⬜⬜⬜⬜⬜⬜⬜⬜⬜⬛⬛⬛⬛⬛⬛⬛⬛⬛⬛⬛⬛⬛⬛⬛⬜⬜⬜⬜⬜⬜⬜⬜⬜⬜⬜⬜⬜⬜⬜⬜⬜⬜⬜\n",
            "⬜⬜⬜⬜⬜⬜⬜⬜⬜⬜⬜⬜⬜⬜⬜⬜⬜⬛⬛⬛⬛⬛⬛⬛⬛⬛⬛⬛⬛⬛⬛⬛⬛⬛⬜⬜⬜⬜⬜⬜⬜⬜⬜⬜⬜⬜⬜⬜⬜⬜⬜⬜\n",
            "⬜⬜⬜⬜⬜⬜⬜⬜⬜⬜⬜⬜⬜⬜⬜⬜⬛⬛⬛⬛⬛⬛⬛⬛⬛⬛⬛⬛⬛⬛⬛⬛⬛⬛⬛⬜⬜⬜⬜⬜⬜⬜⬜⬜⬜⬜⬜⬜⬜⬜⬜⬜\n",
            "⬜⬜⬜⬜⬜⬜⬜⬜⬜⬜⬜⬜⬜⬜⬜⬛⬛⬛⬛⬛⬛⬛⬛⬛⬛⬛⬛⬛⬛⬛⬛⬛⬛⬛⬛⬛⬜⬜⬜⬜⬜⬜⬜⬜⬜⬜⬜⬜⬜⬜⬜⬜\n",
            "⬜⬜⬜⬜⬜⬜⬜⬜⬜⬜⬜⬜⬜⬜⬛⬛⬛⬛⬛⬛⬛⬛⬛⬛⬛⬛⬛⬛⬛⬛⬛⬛⬛⬛⬛⬛⬛⬜⬜⬜⬜⬜⬜⬜⬜⬜⬜⬜⬜⬜⬜⬜\n",
            "⬜⬜⬜⬜⬜⬜⬜⬜⬜⬜⬜⬜⬜⬛⬛⬛⬛⬛⬛⬛⬛⬛⬛⬛⬛⬛⬛⬛⬛⬛⬛⬛⬛⬛⬛⬛⬛⬛⬜⬜⬜⬜⬜⬜⬜⬜⬜⬜⬜⬜⬜⬜\n",
            "⬜⬜⬜⬜⬜⬜⬜⬜⬜⬜⬜⬜⬛⬛⬛⬛⬛⬛⬛⬛⬛⬛⬛⬛⬛⬛⬛⬛⬛⬛⬛⬛⬛⬛⬛⬛⬛⬛⬛⬜⬜⬜⬜⬜⬜⬜⬜⬜⬜⬜⬜⬜\n",
            "⬜⬜⬜⬜⬜⬜⬜⬜⬜⬜⬜⬛⬛⬛⬛⬛⬛⬛⬛⬛⬛⬛⬛⬛⬛⬛⬛⬛⬛⬛⬛⬛⬛⬛⬛⬛⬛⬛⬛⬛⬜⬜⬜⬜⬜⬜⬜⬜⬜⬜⬜⬜\n",
            "⬜⬜⬜⬜⬜⬜⬜⬜⬜⬜⬛⬛⬛⬛⬛⬛⬛⬛⬛⬛⬛⬛⬛⬛⬛⬛⬛⬛⬛⬛⬛⬛⬛⬛⬛⬛⬛⬛⬛⬛⬛⬜⬜⬜⬜⬜⬜⬜⬜⬜⬜⬜\n",
            "⬜⬜⬜⬜⬜⬜⬜⬜⬜⬛⬛⬛⬛⬛⬛⬛⬛⬛⬛⬛⬛⬛⬛⬛⬛⬛⬛⬛⬛⬛⬛⬛⬛⬛⬛⬛⬛⬛⬛⬛⬛⬛⬜⬜⬜⬜⬜⬜⬜⬜⬜⬜\n",
            "⬜⬜⬜⬜⬜⬜⬜⬜⬛⬛⬛⬛⬛⬛⬛⬛⬛⬛⬛⬛⬛⬛⬛⬛⬛⬛⬛⬛⬛⬛⬛⬛⬛⬛⬛⬛⬛⬛⬛⬛⬛⬛⬛⬜⬜⬜⬜⬜⬜⬜⬜⬜\n",
            "⬜⬜⬜⬜⬜⬜⬜⬛⬛⬛⬛⬛⬛⬛⬛⬛⬛⬛⬛⬛⬛⬛⬛⬛⬛⬛⬛⬛⬛⬛⬛⬛⬛⬛⬛⬛⬛⬛⬛⬛⬛⬛⬛⬛⬜⬜⬜⬜⬜⬜⬜⬜\n",
            "⬜⬜⬜⬜⬜⬜⬛⬛⬛⬛⬛⬛⬛⬛⬛⬛⬛⬛⬛⬛⬛⬛⬛⬛⬛⬛⬛⬛⬛⬛⬛⬛⬛⬛⬛⬛⬛⬛⬛⬛⬛⬛⬛⬛⬛⬜⬜⬜⬜⬜⬜⬜\n",
            "⬜⬜⬜⬜⬜⬛⬛⬛⬛⬛⬛⬛⬛⬛⬛⬛⬛⬛⬛⬛⬛⬛⬛⬛⬛⬛⬛⬛⬛⬛⬛⬛⬛⬛⬛⬛⬛⬛⬛⬛⬛⬛⬛⬛⬛⬛⬜⬜⬜⬜⬜⬜\n",
            "⬜⬜⬜⬜⬛⬛⬛⬛⬛⬛⬛⬛⬛⬛⬛⬛⬛⬛⬛⬛⬛⬛⬛⬛⬛⬛⬛⬛⬛⬛⬛⬛⬛⬛⬛⬛⬛⬛⬛⬛⬛⬛⬛⬛⬛⬛⬛⬜⬜⬜⬜⬜\n",
            "⬜⬜⬜⬛⬛⬛⬛⬛⬛⬛⬛⬛⬛⬛⬛⬛⬛⬛⬛⬛⬛⬛⬛⬛⬛⬛⬛⬛⬛⬛⬛⬛⬛⬛⬛⬛⬛⬛⬛⬛⬛⬛⬛⬛⬛⬛⬛⬛⬜⬜⬜⬜\n",
            "⬜⬜⬛⬛⬛⬛⬛⬛⬛⬛⬛⬛⬛⬛⬛⬛⬛⬛⬛⬛⬛⬛⬛⬛⬛⬛⬛⬛⬛⬛⬛⬛⬛⬛⬛⬛⬛⬛⬛⬛⬛⬛⬛⬛⬛⬛⬛⬛⬛⬜⬜⬜\n",
            "⬜⬛⬛⬛⬛⬛⬛⬛⬛⬛⬛⬛⬛⬛⬛⬛⬛⬛⬛⬛⬛⬛⬛⬛⬛⬛⬛⬛⬛⬛⬛⬛⬛⬛⬛⬛⬛⬛⬛⬛⬛⬛⬛⬛⬛⬛⬛⬛⬛⬛⬜⬜\n",
            "⬛⬛⬛⬛⬛⬛⬛⬛⬛⬛⬛⬛⬛⬛⬛⬛⬛⬛⬛⬛⬛⬛⬛⬛⬛⬛⬛⬛⬛⬛⬛⬛⬛⬛⬛⬛⬛⬛⬛⬛⬛⬛⬛⬛⬛⬛⬛⬛⬛⬛⬛⬜\n",
            "⬛⬛⬛⬛⬛⬛⬛⬛⬛⬛⬛⬛⬛⬛⬛⬛⬛⬛⬛⬛⬛⬛⬛⬛⬛⬛⬛⬛⬛⬛⬛⬛⬛⬛⬛⬛⬛⬛⬛⬛⬛⬛⬛⬛⬛⬛⬛⬛⬛⬛⬛⬜\n",
            "⬛⬛⬛⬛⬛⬛⬛⬛⬛⬛⬛⬛⬛⬛⬛⬛⬛⬛⬛⬛⬛⬛⬛⬛⬛⬛⬛⬛⬛⬛⬛⬛⬛⬛⬛⬛⬛⬛⬛⬛⬛⬛⬛⬛⬛⬛⬛⬛⬛⬛⬛⬜\n",
            "⬛⬛⬛⬛⬛⬛⬛⬛⬛⬛⬛⬛⬛⬛⬛⬛⬛⬛⬛⬛⬛⬛⬛⬛⬛⬛⬛⬛⬛⬛⬛⬛⬛⬛⬛⬛⬛⬛⬛⬛⬛⬛⬛⬛⬛⬛⬛⬛⬛⬛⬛⬜\n",
            "⬛⬛⬛⬛⬛⬛⬛⬛⬛⬛⬛⬛⬛⬛⬛⬛⬛⬛⬛⬛⬛⬛⬛⬛⬛⬛⬛⬛⬛⬛⬛⬛⬛⬛⬛⬛⬛⬛⬛⬛⬛⬛⬛⬛⬛⬛⬛⬛⬛⬛⬛⬜\n",
            "⬛⬛⬛⬛⬛⬛⬛⬛⬛⬛⬛⬛⬛⬛⬛⬛⬛⬛⬛⬛⬛⬛⬛⬛⬛⬛⬛⬛⬛⬛⬛⬛⬛⬛⬛⬛⬛⬛⬛⬛⬛⬛⬛⬛⬛⬛⬛⬛⬛⬛⬛⬜\n",
            "⬛⬛⬛⬛⬛⬛⬛⬛⬛⬛⬛⬛⬛⬛⬛⬛⬛⬛⬛⬛⬛⬛⬛⬛⬛⬛⬛⬛⬛⬛⬛⬛⬛⬛⬛⬛⬛⬛⬛⬛⬛⬛⬛⬛⬛⬛⬛⬛⬛⬛⬛⬜\n",
            "⬛⬛⬛⬛⬛⬛⬛⬛⬛⬛⬛⬛⬛⬛⬛⬛⬛⬛⬛⬛⬛⬛⬛⬛⬛⬛⬛⬛⬛⬛⬛⬛⬛⬛⬛⬛⬛⬛⬛⬛⬛⬛⬛⬛⬛⬛⬛⬛⬛⬛⬛⬜\n",
            "⬛⬛⬛⬛⬛⬛⬛⬛⬛⬛⬛⬛⬛⬛⬛⬛⬛⬛⬛⬛⬛⬛⬛⬛⬛⬛⬛⬛⬛⬛⬛⬛⬛⬛⬛⬛⬛⬛⬛⬛⬛⬛⬛⬛⬛⬛⬛⬛⬛⬛⬛⬜\n",
            "⬛⬛⬛⬛⬛⬛⬛⬛⬛⬛⬛⬛⬛⬛⬛⬛⬛⬛⬛⬛⬛⬛⬛⬛⬛⬛⬛⬛⬛⬛⬛⬛⬛⬛⬛⬛⬛⬛⬛⬛⬛⬛⬛⬛⬛⬛⬛⬛⬛⬛⬛⬜\n",
            "⬛⬛⬛⬛⬛⬛⬛⬛⬛⬛⬛⬛⬛⬛⬛⬛⬛⬛⬛⬛⬛⬛⬛⬛⬛⬛⬛⬛⬛⬛⬛⬛⬛⬛⬛⬛⬛⬛⬛⬛⬛⬛⬛⬛⬛⬛⬛⬛⬛⬛⬛⬜\n",
            "⬛⬛⬛⬛⬛⬛⬛⬛⬛⬛⬛⬛⬛⬛⬛⬛⬛⬛⬛⬛⬛⬛⬛⬛⬛⬛⬛⬛⬛⬛⬛⬛⬛⬛⬛⬛⬛⬛⬛⬛⬛⬛⬛⬛⬛⬛⬛⬛⬛⬛⬛⬜\n",
            "⬛⬛⬛⬛⬛⬛⬛⬛⬛⬛⬛⬛⬛⬛⬛⬛⬛⬛⬛⬛⬛⬛⬛⬛⬛⬛⬛⬛⬛⬛⬛⬛⬛⬛⬛⬛⬛⬛⬛⬛⬛⬛⬛⬛⬛⬛⬛⬛⬛⬛⬛⬜\n",
            "⬛⬛⬛⬛⬛⬛⬛⬛⬛⬛⬛⬛⬛⬛⬛⬛⬛⬛⬛⬛⬛⬛⬛⬛⬛⬛⬛⬛⬛⬛⬛⬛⬛⬛⬛⬛⬛⬛⬛⬛⬛⬛⬛⬛⬛⬛⬛⬛⬛⬛⬛⬜\n",
            "⬛⬛⬛⬛⬛⬛⬛⬛⬛⬛⬛⬛⬛⬛⬛⬛⬛⬛⬛⬛⬛⬛⬛⬛⬛⬛⬛⬛⬛⬛⬛⬛⬛⬛⬛⬛⬛⬛⬛⬛⬛⬛⬛⬛⬛⬛⬛⬛⬛⬛⬛⬜\n",
            "⬛⬛⬛⬛⬛⬛⬛⬛⬛⬛⬛⬛⬛⬛⬛⬛⬛⬛⬛⬛⬛⬛⬛⬛⬛⬛⬛⬛⬛⬛⬛⬛⬛⬛⬛⬛⬛⬛⬛⬛⬛⬛⬛⬛⬛⬛⬛⬛⬛⬛⬛⬜\n",
            "⬛⬛⬛⬛⬛⬛⬛⬛⬛⬛⬛⬛⬛⬛⬛⬛⬛⬛⬛⬛⬛⬛⬛⬛⬛⬛⬛⬛⬛⬛⬛⬛⬛⬛⬛⬛⬛⬛⬛⬛⬛⬛⬛⬛⬛⬛⬛⬛⬛⬛⬛⬜\n",
            "⬛⬛⬛⬛⬛⬛⬛⬛⬛⬛⬛⬛⬛⬛⬛⬛⬛⬛⬛⬛⬛⬛⬛⬛⬛⬛⬛⬛⬛⬛⬛⬛⬛⬛⬛⬛⬛⬛⬛⬛⬛⬛⬛⬛⬛⬛⬛⬛⬛⬛⬛⬜\n",
            "⬛⬛⬛⬛⬛⬛⬛⬛⬛⬛⬛⬛⬛⬛⬛⬛⬛⬛⬛⬛⬛⬛⬛⬛⬛⬛⬛⬛⬛⬛⬛⬛⬛⬛⬛⬛⬛⬛⬛⬛⬛⬛⬛⬛⬛⬛⬛⬛⬛⬛⬛⬜\n",
            "⬛⬛⬛⬛⬛⬛⬛⬛⬛⬛⬛⬛⬛⬛⬛⬛⬛⬛⬛⬛⬛⬛⬛⬛⬛⬛⬛⬛⬛⬛⬛⬛⬛⬛⬛⬛⬛⬛⬛⬛⬛⬛⬛⬛⬛⬛⬛⬛⬛⬛⬛⬜\n",
            "⬛⬛⬛⬛⬛⬛⬛⬛⬛⬛⬛⬛⬛⬛⬛⬛⬛⬛⬛⬛⬛⬛⬛⬛⬛⬛⬛⬛⬛⬛⬛⬛⬛⬛⬛⬛⬛⬛⬛⬛⬛⬛⬛⬛⬛⬛⬛⬛⬛⬛⬛⬜\n",
            "⬛⬛⬛⬛⬛⬛⬛⬛⬛⬛⬛⬛⬛⬛⬛⬛⬛⬛⬛⬛⬛⬛⬛⬛⬛⬛⬛⬛⬛⬛⬛⬛⬛⬛⬛⬛⬛⬛⬛⬛⬛⬛⬛⬛⬛⬛⬛⬛⬛⬛⬛⬜\n",
            "⬛⬛⬛⬛⬛⬛⬛⬛⬛⬛⬛⬛⬛⬛⬛⬛⬛⬛⬛⬛⬛⬛⬛⬛⬛⬛⬛⬛⬛⬛⬛⬛⬛⬛⬛⬛⬛⬛⬛⬛⬛⬛⬛⬛⬛⬛⬛⬛⬛⬛⬛⬜\n",
            "⬛⬛⬛⬛⬛⬛⬛⬛⬛⬛⬛⬛⬛⬛⬛⬛⬛⬛⬛⬛⬛⬛⬛⬛⬛⬛⬛⬛⬛⬛⬛⬛⬛⬛⬛⬛⬛⬛⬛⬛⬛⬛⬛⬛⬛⬛⬛⬛⬛⬛⬛⬜\n",
            "⬛⬛⬛⬛⬛⬛⬛⬛⬛⬛⬛⬛⬛⬛⬛⬛⬛⬛⬛⬛⬛⬛⬛⬛⬛⬛⬛⬛⬛⬛⬛⬛⬛⬛⬛⬛⬛⬛⬛⬛⬛⬛⬛⬛⬛⬛⬛⬛⬛⬛⬛⬜\n",
            "⬛⬛⬛⬛⬛⬛⬛⬛⬛⬛⬛⬛⬛⬛⬛⬛⬛⬛⬛⬛⬛⬛⬛⬛⬛⬛⬛⬛⬛⬛⬛⬛⬛⬛⬛⬛⬛⬛⬛⬛⬛⬛⬛⬛⬛⬛⬛⬛⬛⬛⬛⬜\n",
            "⬛⬛⬛⬛⬛⬛⬛⬛⬛⬛⬛⬛⬛⬛⬛⬛⬛⬛⬛⬛⬛⬛⬛⬛⬛⬛⬛⬛⬛⬛⬛⬛⬛⬛⬛⬛⬛⬛⬛⬛⬛⬛⬛⬛⬛⬛⬛⬛⬛⬛⬛⬜\n",
            "⬛⬛⬛⬛⬛⬛⬛⬛⬛⬛⬛⬛⬛⬛⬛⬛⬛⬛⬛⬛⬛⬛⬛⬛⬛⬛⬛⬛⬛⬛⬛⬛⬛⬛⬛⬛⬛⬛⬛⬛⬛⬛⬛⬛⬛⬛⬛⬛⬛⬛⬛⬜\n",
            "⬛⬛⬛⬛⬛⬛⬛⬛⬛⬛⬛⬛⬛⬛⬛⬛⬛⬛⬛⬛⬛⬛⬛⬛⬛⬛⬛⬛⬛⬛⬛⬛⬛⬛⬛⬛⬛⬛⬛⬛⬛⬛⬛⬛⬛⬛⬛⬛⬛⬛⬛⬜\n",
            "⬛⬛⬛⬛⬛⬛⬛⬛⬛⬛⬛⬛⬛⬛⬛⬛⬛⬛⬛⬛⬛⬛⬛⬛⬛⬛⬛⬛⬛⬛⬛⬛⬛⬛⬛⬛⬛⬛⬛⬛⬛⬛⬛⬛⬛⬛⬛⬛⬛⬛⬛⬜\n"
          ]
        }
      ],
      "source": [
        "# Počinjemo sa širokim poljem 0 i jednom jedinicom\n",
        "stanje = [0]*25+[1]+[0]*26\n",
        "\n",
        "pravilo = nabaviPravilo(222) # 238, 222, 223, 251, 253... -> CRNO\n",
        "                             # 0, 96, 72... -> BIJELO   (U jednom koraku za ovako definirano početno stanje)\n",
        "\n",
        "for i in range(55):\n",
        "    print1DCA(stanje)\n",
        "    stanje = novaGeneracija(stanje, pravilo)"
      ]
    },
    {
      "cell_type": "markdown",
      "metadata": {
        "id": "XcBn26ZmO_G7"
      },
      "source": [
        "2. automati u kojima obrasci evoluiraju u većinom stabilne ili oscilirajuće strukture"
      ]
    },
    {
      "cell_type": "code",
      "execution_count": 4,
      "metadata": {
        "colab": {
          "base_uri": "https://localhost:8080/"
        },
        "id": "vRwbweoePjAj",
        "outputId": "fad5910d-0ee4-4cca-c283-fdb0921438ad"
      },
      "outputs": [
        {
          "name": "stdout",
          "output_type": "stream",
          "text": [
            "⬜⬜⬜⬜⬜⬜⬜⬜⬜⬜⬜⬜⬜⬜⬜⬜⬜⬜⬜⬜⬜⬜⬜⬜⬜⬛⬜⬜⬜⬜⬜⬜⬜⬜⬜⬜⬜⬜⬜⬜⬜⬜⬜⬜⬜⬜⬜⬜⬜⬜⬜⬜\n",
            "⬜⬜⬜⬜⬜⬜⬜⬜⬜⬜⬜⬜⬜⬜⬜⬜⬜⬜⬜⬜⬜⬜⬜⬜⬛⬛⬛⬜⬜⬜⬜⬜⬜⬜⬜⬜⬜⬜⬜⬜⬜⬜⬜⬜⬜⬜⬜⬜⬜⬜⬜⬜\n",
            "⬜⬜⬜⬜⬜⬜⬜⬜⬜⬜⬜⬜⬜⬜⬜⬜⬜⬜⬜⬜⬜⬜⬜⬛⬛⬜⬛⬛⬜⬜⬜⬜⬜⬜⬜⬜⬜⬜⬜⬜⬜⬜⬜⬜⬜⬜⬜⬜⬜⬜⬜⬜\n",
            "⬜⬜⬜⬜⬜⬜⬜⬜⬜⬜⬜⬜⬜⬜⬜⬜⬜⬜⬜⬜⬜⬜⬛⬛⬛⬜⬛⬛⬛⬜⬜⬜⬜⬜⬜⬜⬜⬜⬜⬜⬜⬜⬜⬜⬜⬜⬜⬜⬜⬜⬜⬜\n",
            "⬜⬜⬜⬜⬜⬜⬜⬜⬜⬜⬜⬜⬜⬜⬜⬜⬜⬜⬜⬜⬜⬛⬛⬜⬛⬜⬛⬜⬛⬛⬜⬜⬜⬜⬜⬜⬜⬜⬜⬜⬜⬜⬜⬜⬜⬜⬜⬜⬜⬜⬜⬜\n",
            "⬜⬜⬜⬜⬜⬜⬜⬜⬜⬜⬜⬜⬜⬜⬜⬜⬜⬜⬜⬜⬛⬛⬛⬜⬛⬜⬛⬜⬛⬛⬛⬜⬜⬜⬜⬜⬜⬜⬜⬜⬜⬜⬜⬜⬜⬜⬜⬜⬜⬜⬜⬜\n",
            "⬜⬜⬜⬜⬜⬜⬜⬜⬜⬜⬜⬜⬜⬜⬜⬜⬜⬜⬜⬛⬛⬜⬛⬜⬛⬜⬛⬜⬛⬜⬛⬛⬜⬜⬜⬜⬜⬜⬜⬜⬜⬜⬜⬜⬜⬜⬜⬜⬜⬜⬜⬜\n",
            "⬜⬜⬜⬜⬜⬜⬜⬜⬜⬜⬜⬜⬜⬜⬜⬜⬜⬜⬛⬛⬛⬜⬛⬜⬛⬜⬛⬜⬛⬜⬛⬛⬛⬜⬜⬜⬜⬜⬜⬜⬜⬜⬜⬜⬜⬜⬜⬜⬜⬜⬜⬜\n",
            "⬜⬜⬜⬜⬜⬜⬜⬜⬜⬜⬜⬜⬜⬜⬜⬜⬜⬛⬛⬜⬛⬜⬛⬜⬛⬜⬛⬜⬛⬜⬛⬜⬛⬛⬜⬜⬜⬜⬜⬜⬜⬜⬜⬜⬜⬜⬜⬜⬜⬜⬜⬜\n",
            "⬜⬜⬜⬜⬜⬜⬜⬜⬜⬜⬜⬜⬜⬜⬜⬜⬛⬛⬛⬜⬛⬜⬛⬜⬛⬜⬛⬜⬛⬜⬛⬜⬛⬛⬛⬜⬜⬜⬜⬜⬜⬜⬜⬜⬜⬜⬜⬜⬜⬜⬜⬜\n",
            "⬜⬜⬜⬜⬜⬜⬜⬜⬜⬜⬜⬜⬜⬜⬜⬛⬛⬜⬛⬜⬛⬜⬛⬜⬛⬜⬛⬜⬛⬜⬛⬜⬛⬜⬛⬛⬜⬜⬜⬜⬜⬜⬜⬜⬜⬜⬜⬜⬜⬜⬜⬜\n",
            "⬜⬜⬜⬜⬜⬜⬜⬜⬜⬜⬜⬜⬜⬜⬛⬛⬛⬜⬛⬜⬛⬜⬛⬜⬛⬜⬛⬜⬛⬜⬛⬜⬛⬜⬛⬛⬛⬜⬜⬜⬜⬜⬜⬜⬜⬜⬜⬜⬜⬜⬜⬜\n",
            "⬜⬜⬜⬜⬜⬜⬜⬜⬜⬜⬜⬜⬜⬛⬛⬜⬛⬜⬛⬜⬛⬜⬛⬜⬛⬜⬛⬜⬛⬜⬛⬜⬛⬜⬛⬜⬛⬛⬜⬜⬜⬜⬜⬜⬜⬜⬜⬜⬜⬜⬜⬜\n",
            "⬜⬜⬜⬜⬜⬜⬜⬜⬜⬜⬜⬜⬛⬛⬛⬜⬛⬜⬛⬜⬛⬜⬛⬜⬛⬜⬛⬜⬛⬜⬛⬜⬛⬜⬛⬜⬛⬛⬛⬜⬜⬜⬜⬜⬜⬜⬜⬜⬜⬜⬜⬜\n",
            "⬜⬜⬜⬜⬜⬜⬜⬜⬜⬜⬜⬛⬛⬜⬛⬜⬛⬜⬛⬜⬛⬜⬛⬜⬛⬜⬛⬜⬛⬜⬛⬜⬛⬜⬛⬜⬛⬜⬛⬛⬜⬜⬜⬜⬜⬜⬜⬜⬜⬜⬜⬜\n",
            "⬜⬜⬜⬜⬜⬜⬜⬜⬜⬜⬛⬛⬛⬜⬛⬜⬛⬜⬛⬜⬛⬜⬛⬜⬛⬜⬛⬜⬛⬜⬛⬜⬛⬜⬛⬜⬛⬜⬛⬛⬛⬜⬜⬜⬜⬜⬜⬜⬜⬜⬜⬜\n",
            "⬜⬜⬜⬜⬜⬜⬜⬜⬜⬛⬛⬜⬛⬜⬛⬜⬛⬜⬛⬜⬛⬜⬛⬜⬛⬜⬛⬜⬛⬜⬛⬜⬛⬜⬛⬜⬛⬜⬛⬜⬛⬛⬜⬜⬜⬜⬜⬜⬜⬜⬜⬜\n",
            "⬜⬜⬜⬜⬜⬜⬜⬜⬛⬛⬛⬜⬛⬜⬛⬜⬛⬜⬛⬜⬛⬜⬛⬜⬛⬜⬛⬜⬛⬜⬛⬜⬛⬜⬛⬜⬛⬜⬛⬜⬛⬛⬛⬜⬜⬜⬜⬜⬜⬜⬜⬜\n",
            "⬜⬜⬜⬜⬜⬜⬜⬛⬛⬜⬛⬜⬛⬜⬛⬜⬛⬜⬛⬜⬛⬜⬛⬜⬛⬜⬛⬜⬛⬜⬛⬜⬛⬜⬛⬜⬛⬜⬛⬜⬛⬜⬛⬛⬜⬜⬜⬜⬜⬜⬜⬜\n",
            "⬜⬜⬜⬜⬜⬜⬛⬛⬛⬜⬛⬜⬛⬜⬛⬜⬛⬜⬛⬜⬛⬜⬛⬜⬛⬜⬛⬜⬛⬜⬛⬜⬛⬜⬛⬜⬛⬜⬛⬜⬛⬜⬛⬛⬛⬜⬜⬜⬜⬜⬜⬜\n",
            "⬜⬜⬜⬜⬜⬛⬛⬜⬛⬜⬛⬜⬛⬜⬛⬜⬛⬜⬛⬜⬛⬜⬛⬜⬛⬜⬛⬜⬛⬜⬛⬜⬛⬜⬛⬜⬛⬜⬛⬜⬛⬜⬛⬜⬛⬛⬜⬜⬜⬜⬜⬜\n",
            "⬜⬜⬜⬜⬛⬛⬛⬜⬛⬜⬛⬜⬛⬜⬛⬜⬛⬜⬛⬜⬛⬜⬛⬜⬛⬜⬛⬜⬛⬜⬛⬜⬛⬜⬛⬜⬛⬜⬛⬜⬛⬜⬛⬜⬛⬛⬛⬜⬜⬜⬜⬜\n",
            "⬜⬜⬜⬛⬛⬜⬛⬜⬛⬜⬛⬜⬛⬜⬛⬜⬛⬜⬛⬜⬛⬜⬛⬜⬛⬜⬛⬜⬛⬜⬛⬜⬛⬜⬛⬜⬛⬜⬛⬜⬛⬜⬛⬜⬛⬜⬛⬛⬜⬜⬜⬜\n",
            "⬜⬜⬛⬛⬛⬜⬛⬜⬛⬜⬛⬜⬛⬜⬛⬜⬛⬜⬛⬜⬛⬜⬛⬜⬛⬜⬛⬜⬛⬜⬛⬜⬛⬜⬛⬜⬛⬜⬛⬜⬛⬜⬛⬜⬛⬜⬛⬛⬛⬜⬜⬜\n",
            "⬜⬛⬛⬜⬛⬜⬛⬜⬛⬜⬛⬜⬛⬜⬛⬜⬛⬜⬛⬜⬛⬜⬛⬜⬛⬜⬛⬜⬛⬜⬛⬜⬛⬜⬛⬜⬛⬜⬛⬜⬛⬜⬛⬜⬛⬜⬛⬜⬛⬛⬜⬜\n",
            "⬛⬛⬛⬜⬛⬜⬛⬜⬛⬜⬛⬜⬛⬜⬛⬜⬛⬜⬛⬜⬛⬜⬛⬜⬛⬜⬛⬜⬛⬜⬛⬜⬛⬜⬛⬜⬛⬜⬛⬜⬛⬜⬛⬜⬛⬜⬛⬜⬛⬛⬛⬜\n",
            "⬛⬜⬛⬜⬛⬜⬛⬜⬛⬜⬛⬜⬛⬜⬛⬜⬛⬜⬛⬜⬛⬜⬛⬜⬛⬜⬛⬜⬛⬜⬛⬜⬛⬜⬛⬜⬛⬜⬛⬜⬛⬜⬛⬜⬛⬜⬛⬜⬛⬜⬛⬜\n",
            "⬛⬜⬛⬜⬛⬜⬛⬜⬛⬜⬛⬜⬛⬜⬛⬜⬛⬜⬛⬜⬛⬜⬛⬜⬛⬜⬛⬜⬛⬜⬛⬜⬛⬜⬛⬜⬛⬜⬛⬜⬛⬜⬛⬜⬛⬜⬛⬜⬛⬜⬛⬜\n",
            "⬛⬜⬛⬜⬛⬜⬛⬜⬛⬜⬛⬜⬛⬜⬛⬜⬛⬜⬛⬜⬛⬜⬛⬜⬛⬜⬛⬜⬛⬜⬛⬜⬛⬜⬛⬜⬛⬜⬛⬜⬛⬜⬛⬜⬛⬜⬛⬜⬛⬜⬛⬜\n",
            "⬛⬜⬛⬜⬛⬜⬛⬜⬛⬜⬛⬜⬛⬜⬛⬜⬛⬜⬛⬜⬛⬜⬛⬜⬛⬜⬛⬜⬛⬜⬛⬜⬛⬜⬛⬜⬛⬜⬛⬜⬛⬜⬛⬜⬛⬜⬛⬜⬛⬜⬛⬜\n",
            "⬛⬜⬛⬜⬛⬜⬛⬜⬛⬜⬛⬜⬛⬜⬛⬜⬛⬜⬛⬜⬛⬜⬛⬜⬛⬜⬛⬜⬛⬜⬛⬜⬛⬜⬛⬜⬛⬜⬛⬜⬛⬜⬛⬜⬛⬜⬛⬜⬛⬜⬛⬜\n",
            "⬛⬜⬛⬜⬛⬜⬛⬜⬛⬜⬛⬜⬛⬜⬛⬜⬛⬜⬛⬜⬛⬜⬛⬜⬛⬜⬛⬜⬛⬜⬛⬜⬛⬜⬛⬜⬛⬜⬛⬜⬛⬜⬛⬜⬛⬜⬛⬜⬛⬜⬛⬜\n",
            "⬛⬜⬛⬜⬛⬜⬛⬜⬛⬜⬛⬜⬛⬜⬛⬜⬛⬜⬛⬜⬛⬜⬛⬜⬛⬜⬛⬜⬛⬜⬛⬜⬛⬜⬛⬜⬛⬜⬛⬜⬛⬜⬛⬜⬛⬜⬛⬜⬛⬜⬛⬜\n",
            "⬛⬜⬛⬜⬛⬜⬛⬜⬛⬜⬛⬜⬛⬜⬛⬜⬛⬜⬛⬜⬛⬜⬛⬜⬛⬜⬛⬜⬛⬜⬛⬜⬛⬜⬛⬜⬛⬜⬛⬜⬛⬜⬛⬜⬛⬜⬛⬜⬛⬜⬛⬜\n",
            "⬛⬜⬛⬜⬛⬜⬛⬜⬛⬜⬛⬜⬛⬜⬛⬜⬛⬜⬛⬜⬛⬜⬛⬜⬛⬜⬛⬜⬛⬜⬛⬜⬛⬜⬛⬜⬛⬜⬛⬜⬛⬜⬛⬜⬛⬜⬛⬜⬛⬜⬛⬜\n",
            "⬛⬜⬛⬜⬛⬜⬛⬜⬛⬜⬛⬜⬛⬜⬛⬜⬛⬜⬛⬜⬛⬜⬛⬜⬛⬜⬛⬜⬛⬜⬛⬜⬛⬜⬛⬜⬛⬜⬛⬜⬛⬜⬛⬜⬛⬜⬛⬜⬛⬜⬛⬜\n",
            "⬛⬜⬛⬜⬛⬜⬛⬜⬛⬜⬛⬜⬛⬜⬛⬜⬛⬜⬛⬜⬛⬜⬛⬜⬛⬜⬛⬜⬛⬜⬛⬜⬛⬜⬛⬜⬛⬜⬛⬜⬛⬜⬛⬜⬛⬜⬛⬜⬛⬜⬛⬜\n",
            "⬛⬜⬛⬜⬛⬜⬛⬜⬛⬜⬛⬜⬛⬜⬛⬜⬛⬜⬛⬜⬛⬜⬛⬜⬛⬜⬛⬜⬛⬜⬛⬜⬛⬜⬛⬜⬛⬜⬛⬜⬛⬜⬛⬜⬛⬜⬛⬜⬛⬜⬛⬜\n",
            "⬛⬜⬛⬜⬛⬜⬛⬜⬛⬜⬛⬜⬛⬜⬛⬜⬛⬜⬛⬜⬛⬜⬛⬜⬛⬜⬛⬜⬛⬜⬛⬜⬛⬜⬛⬜⬛⬜⬛⬜⬛⬜⬛⬜⬛⬜⬛⬜⬛⬜⬛⬜\n",
            "⬛⬜⬛⬜⬛⬜⬛⬜⬛⬜⬛⬜⬛⬜⬛⬜⬛⬜⬛⬜⬛⬜⬛⬜⬛⬜⬛⬜⬛⬜⬛⬜⬛⬜⬛⬜⬛⬜⬛⬜⬛⬜⬛⬜⬛⬜⬛⬜⬛⬜⬛⬜\n",
            "⬛⬜⬛⬜⬛⬜⬛⬜⬛⬜⬛⬜⬛⬜⬛⬜⬛⬜⬛⬜⬛⬜⬛⬜⬛⬜⬛⬜⬛⬜⬛⬜⬛⬜⬛⬜⬛⬜⬛⬜⬛⬜⬛⬜⬛⬜⬛⬜⬛⬜⬛⬜\n",
            "⬛⬜⬛⬜⬛⬜⬛⬜⬛⬜⬛⬜⬛⬜⬛⬜⬛⬜⬛⬜⬛⬜⬛⬜⬛⬜⬛⬜⬛⬜⬛⬜⬛⬜⬛⬜⬛⬜⬛⬜⬛⬜⬛⬜⬛⬜⬛⬜⬛⬜⬛⬜\n",
            "⬛⬜⬛⬜⬛⬜⬛⬜⬛⬜⬛⬜⬛⬜⬛⬜⬛⬜⬛⬜⬛⬜⬛⬜⬛⬜⬛⬜⬛⬜⬛⬜⬛⬜⬛⬜⬛⬜⬛⬜⬛⬜⬛⬜⬛⬜⬛⬜⬛⬜⬛⬜\n",
            "⬛⬜⬛⬜⬛⬜⬛⬜⬛⬜⬛⬜⬛⬜⬛⬜⬛⬜⬛⬜⬛⬜⬛⬜⬛⬜⬛⬜⬛⬜⬛⬜⬛⬜⬛⬜⬛⬜⬛⬜⬛⬜⬛⬜⬛⬜⬛⬜⬛⬜⬛⬜\n",
            "⬛⬜⬛⬜⬛⬜⬛⬜⬛⬜⬛⬜⬛⬜⬛⬜⬛⬜⬛⬜⬛⬜⬛⬜⬛⬜⬛⬜⬛⬜⬛⬜⬛⬜⬛⬜⬛⬜⬛⬜⬛⬜⬛⬜⬛⬜⬛⬜⬛⬜⬛⬜\n",
            "⬛⬜⬛⬜⬛⬜⬛⬜⬛⬜⬛⬜⬛⬜⬛⬜⬛⬜⬛⬜⬛⬜⬛⬜⬛⬜⬛⬜⬛⬜⬛⬜⬛⬜⬛⬜⬛⬜⬛⬜⬛⬜⬛⬜⬛⬜⬛⬜⬛⬜⬛⬜\n",
            "⬛⬜⬛⬜⬛⬜⬛⬜⬛⬜⬛⬜⬛⬜⬛⬜⬛⬜⬛⬜⬛⬜⬛⬜⬛⬜⬛⬜⬛⬜⬛⬜⬛⬜⬛⬜⬛⬜⬛⬜⬛⬜⬛⬜⬛⬜⬛⬜⬛⬜⬛⬜\n",
            "⬛⬜⬛⬜⬛⬜⬛⬜⬛⬜⬛⬜⬛⬜⬛⬜⬛⬜⬛⬜⬛⬜⬛⬜⬛⬜⬛⬜⬛⬜⬛⬜⬛⬜⬛⬜⬛⬜⬛⬜⬛⬜⬛⬜⬛⬜⬛⬜⬛⬜⬛⬜\n",
            "⬛⬜⬛⬜⬛⬜⬛⬜⬛⬜⬛⬜⬛⬜⬛⬜⬛⬜⬛⬜⬛⬜⬛⬜⬛⬜⬛⬜⬛⬜⬛⬜⬛⬜⬛⬜⬛⬜⬛⬜⬛⬜⬛⬜⬛⬜⬛⬜⬛⬜⬛⬜\n",
            "⬛⬜⬛⬜⬛⬜⬛⬜⬛⬜⬛⬜⬛⬜⬛⬜⬛⬜⬛⬜⬛⬜⬛⬜⬛⬜⬛⬜⬛⬜⬛⬜⬛⬜⬛⬜⬛⬜⬛⬜⬛⬜⬛⬜⬛⬜⬛⬜⬛⬜⬛⬜\n",
            "⬛⬜⬛⬜⬛⬜⬛⬜⬛⬜⬛⬜⬛⬜⬛⬜⬛⬜⬛⬜⬛⬜⬛⬜⬛⬜⬛⬜⬛⬜⬛⬜⬛⬜⬛⬜⬛⬜⬛⬜⬛⬜⬛⬜⬛⬜⬛⬜⬛⬜⬛⬜\n",
            "⬛⬜⬛⬜⬛⬜⬛⬜⬛⬜⬛⬜⬛⬜⬛⬜⬛⬜⬛⬜⬛⬜⬛⬜⬛⬜⬛⬜⬛⬜⬛⬜⬛⬜⬛⬜⬛⬜⬛⬜⬛⬜⬛⬜⬛⬜⬛⬜⬛⬜⬛⬜\n",
            "⬛⬜⬛⬜⬛⬜⬛⬜⬛⬜⬛⬜⬛⬜⬛⬜⬛⬜⬛⬜⬛⬜⬛⬜⬛⬜⬛⬜⬛⬜⬛⬜⬛⬜⬛⬜⬛⬜⬛⬜⬛⬜⬛⬜⬛⬜⬛⬜⬛⬜⬛⬜\n",
            "⬛⬜⬛⬜⬛⬜⬛⬜⬛⬜⬛⬜⬛⬜⬛⬜⬛⬜⬛⬜⬛⬜⬛⬜⬛⬜⬛⬜⬛⬜⬛⬜⬛⬜⬛⬜⬛⬜⬛⬜⬛⬜⬛⬜⬛⬜⬛⬜⬛⬜⬛⬜\n",
            "⬛⬜⬛⬜⬛⬜⬛⬜⬛⬜⬛⬜⬛⬜⬛⬜⬛⬜⬛⬜⬛⬜⬛⬜⬛⬜⬛⬜⬛⬜⬛⬜⬛⬜⬛⬜⬛⬜⬛⬜⬛⬜⬛⬜⬛⬜⬛⬜⬛⬜⬛⬜\n"
          ]
        }
      ],
      "source": [
        "# Počinjemo sa širokim poljem 0 i jednom jedinicom\n",
        "stanje = [0]*25+[1]+[0]*26\n",
        "\n",
        "pravilo = nabaviPravilo(94) # 94, 108, 77, 93, 4 -> STABILNE\n",
        "                            # 114, 250 -> OSCILIRAJUĆE\n",
        "\n",
        "for i in range(55):\n",
        "    print1DCA(stanje)\n",
        "    stanje = novaGeneracija(stanje, pravilo)"
      ]
    },
    {
      "cell_type": "markdown",
      "metadata": {
        "id": "zIZvAJrvSdSX"
      },
      "source": [
        "3. automati u kojima obrasci evoluiraju na naizgled kaotičan način"
      ]
    },
    {
      "cell_type": "code",
      "execution_count": 5,
      "metadata": {
        "colab": {
          "base_uri": "https://localhost:8080/"
        },
        "id": "rsYZlmR7Snm5",
        "outputId": "d6a1d57b-68a4-439d-b15e-20705eb43894"
      },
      "outputs": [
        {
          "name": "stdout",
          "output_type": "stream",
          "text": [
            "⬜⬜⬜⬜⬜⬜⬜⬜⬜⬜⬜⬜⬜⬜⬜⬜⬜⬜⬜⬜⬜⬜⬜⬜⬜⬛⬜⬜⬜⬜⬜⬜⬜⬜⬜⬜⬜⬜⬜⬜⬜⬜⬜⬜⬜⬜⬜⬜⬜⬜⬜\n",
            "⬜⬜⬜⬜⬜⬜⬜⬜⬜⬜⬜⬜⬜⬜⬜⬜⬜⬜⬜⬜⬜⬜⬜⬜⬛⬛⬛⬜⬜⬜⬜⬜⬜⬜⬜⬜⬜⬜⬜⬜⬜⬜⬜⬜⬜⬜⬜⬜⬜⬜⬜\n",
            "⬜⬜⬜⬜⬜⬜⬜⬜⬜⬜⬜⬜⬜⬜⬜⬜⬜⬜⬜⬜⬜⬜⬜⬛⬛⬜⬜⬛⬜⬜⬜⬜⬜⬜⬜⬜⬜⬜⬜⬜⬜⬜⬜⬜⬜⬜⬜⬜⬜⬜⬜\n",
            "⬜⬜⬜⬜⬜⬜⬜⬜⬜⬜⬜⬜⬜⬜⬜⬜⬜⬜⬜⬜⬜⬜⬛⬛⬜⬛⬛⬛⬛⬜⬜⬜⬜⬜⬜⬜⬜⬜⬜⬜⬜⬜⬜⬜⬜⬜⬜⬜⬜⬜⬜\n",
            "⬜⬜⬜⬜⬜⬜⬜⬜⬜⬜⬜⬜⬜⬜⬜⬜⬜⬜⬜⬜⬜⬛⬛⬜⬜⬛⬜⬜⬜⬛⬜⬜⬜⬜⬜⬜⬜⬜⬜⬜⬜⬜⬜⬜⬜⬜⬜⬜⬜⬜⬜\n",
            "⬜⬜⬜⬜⬜⬜⬜⬜⬜⬜⬜⬜⬜⬜⬜⬜⬜⬜⬜⬜⬛⬛⬜⬛⬛⬛⬛⬜⬛⬛⬛⬜⬜⬜⬜⬜⬜⬜⬜⬜⬜⬜⬜⬜⬜⬜⬜⬜⬜⬜⬜\n",
            "⬜⬜⬜⬜⬜⬜⬜⬜⬜⬜⬜⬜⬜⬜⬜⬜⬜⬜⬜⬛⬛⬜⬜⬛⬜⬜⬜⬜⬛⬜⬜⬛⬜⬜⬜⬜⬜⬜⬜⬜⬜⬜⬜⬜⬜⬜⬜⬜⬜⬜⬜\n",
            "⬜⬜⬜⬜⬜⬜⬜⬜⬜⬜⬜⬜⬜⬜⬜⬜⬜⬜⬛⬛⬜⬛⬛⬛⬛⬜⬜⬛⬛⬛⬛⬛⬛⬜⬜⬜⬜⬜⬜⬜⬜⬜⬜⬜⬜⬜⬜⬜⬜⬜⬜\n",
            "⬜⬜⬜⬜⬜⬜⬜⬜⬜⬜⬜⬜⬜⬜⬜⬜⬜⬛⬛⬜⬜⬛⬜⬜⬜⬛⬛⬛⬜⬜⬜⬜⬜⬛⬜⬜⬜⬜⬜⬜⬜⬜⬜⬜⬜⬜⬜⬜⬜⬜⬜\n",
            "⬜⬜⬜⬜⬜⬜⬜⬜⬜⬜⬜⬜⬜⬜⬜⬜⬛⬛⬜⬛⬛⬛⬛⬜⬛⬛⬜⬜⬛⬜⬜⬜⬛⬛⬛⬜⬜⬜⬜⬜⬜⬜⬜⬜⬜⬜⬜⬜⬜⬜⬜\n",
            "⬜⬜⬜⬜⬜⬜⬜⬜⬜⬜⬜⬜⬜⬜⬜⬛⬛⬜⬜⬛⬜⬜⬜⬜⬛⬜⬛⬛⬛⬛⬜⬛⬛⬜⬜⬛⬜⬜⬜⬜⬜⬜⬜⬜⬜⬜⬜⬜⬜⬜⬜\n",
            "⬜⬜⬜⬜⬜⬜⬜⬜⬜⬜⬜⬜⬜⬜⬛⬛⬜⬛⬛⬛⬛⬜⬜⬛⬛⬜⬛⬜⬜⬜⬜⬛⬜⬛⬛⬛⬛⬜⬜⬜⬜⬜⬜⬜⬜⬜⬜⬜⬜⬜⬜\n",
            "⬜⬜⬜⬜⬜⬜⬜⬜⬜⬜⬜⬜⬜⬛⬛⬜⬜⬛⬜⬜⬜⬛⬛⬛⬜⬜⬛⬛⬜⬜⬛⬛⬜⬛⬜⬜⬜⬛⬜⬜⬜⬜⬜⬜⬜⬜⬜⬜⬜⬜⬜\n",
            "⬜⬜⬜⬜⬜⬜⬜⬜⬜⬜⬜⬜⬛⬛⬜⬛⬛⬛⬛⬜⬛⬛⬜⬜⬛⬛⬛⬜⬛⬛⬛⬜⬜⬛⬛⬜⬛⬛⬛⬜⬜⬜⬜⬜⬜⬜⬜⬜⬜⬜⬜\n",
            "⬜⬜⬜⬜⬜⬜⬜⬜⬜⬜⬜⬛⬛⬜⬜⬛⬜⬜⬜⬜⬛⬜⬛⬛⬛⬜⬜⬜⬛⬜⬜⬛⬛⬛⬜⬜⬛⬜⬜⬛⬜⬜⬜⬜⬜⬜⬜⬜⬜⬜⬜\n",
            "⬜⬜⬜⬜⬜⬜⬜⬜⬜⬜⬛⬛⬜⬛⬛⬛⬛⬜⬜⬛⬛⬜⬛⬜⬜⬛⬜⬛⬛⬛⬛⬛⬜⬜⬛⬛⬛⬛⬛⬛⬛⬜⬜⬜⬜⬜⬜⬜⬜⬜⬜\n",
            "⬜⬜⬜⬜⬜⬜⬜⬜⬜⬛⬛⬜⬜⬛⬜⬜⬜⬛⬛⬛⬜⬜⬛⬛⬛⬛⬜⬛⬜⬜⬜⬜⬛⬛⬛⬜⬜⬜⬜⬜⬜⬛⬜⬜⬜⬜⬜⬜⬜⬜⬜\n",
            "⬜⬜⬜⬜⬜⬜⬜⬜⬛⬛⬜⬛⬛⬛⬛⬜⬛⬛⬜⬜⬛⬛⬛⬜⬜⬜⬜⬛⬛⬜⬜⬛⬛⬜⬜⬛⬜⬜⬜⬜⬛⬛⬛⬜⬜⬜⬜⬜⬜⬜⬜\n",
            "⬜⬜⬜⬜⬜⬜⬜⬛⬛⬜⬜⬛⬜⬜⬜⬜⬛⬜⬛⬛⬛⬜⬜⬛⬜⬜⬛⬛⬜⬛⬛⬛⬜⬛⬛⬛⬛⬜⬜⬛⬛⬜⬜⬛⬜⬜⬜⬜⬜⬜⬜\n",
            "⬜⬜⬜⬜⬜⬜⬛⬛⬜⬛⬛⬛⬛⬜⬜⬛⬛⬜⬛⬜⬜⬛⬛⬛⬛⬛⬛⬜⬜⬛⬜⬜⬜⬛⬜⬜⬜⬛⬛⬛⬜⬛⬛⬛⬛⬜⬜⬜⬜⬜⬜\n",
            "⬜⬜⬜⬜⬜⬛⬛⬜⬜⬛⬜⬜⬜⬛⬛⬛⬜⬜⬛⬛⬛⬛⬜⬜⬜⬜⬜⬛⬛⬛⬛⬜⬛⬛⬛⬜⬛⬛⬜⬜⬜⬛⬜⬜⬜⬛⬜⬜⬜⬜⬜\n",
            "⬜⬜⬜⬜⬛⬛⬜⬛⬛⬛⬛⬜⬛⬛⬜⬜⬛⬛⬛⬜⬜⬜⬛⬜⬜⬜⬛⬛⬜⬜⬜⬜⬛⬜⬜⬜⬛⬜⬛⬜⬛⬛⬛⬜⬛⬛⬛⬜⬜⬜⬜\n",
            "⬜⬜⬜⬛⬛⬜⬜⬛⬜⬜⬜⬜⬛⬜⬛⬛⬛⬜⬜⬛⬜⬛⬛⬛⬜⬛⬛⬜⬛⬜⬜⬛⬛⬛⬜⬛⬛⬜⬛⬜⬛⬜⬜⬜⬛⬜⬜⬛⬜⬜⬜\n",
            "⬜⬜⬛⬛⬜⬛⬛⬛⬛⬜⬜⬛⬛⬜⬛⬜⬜⬛⬛⬛⬜⬛⬜⬜⬜⬛⬜⬜⬛⬛⬛⬛⬜⬜⬜⬛⬜⬜⬛⬜⬛⬛⬜⬛⬛⬛⬛⬛⬛⬜⬜\n",
            "⬜⬛⬛⬜⬜⬛⬜⬜⬜⬛⬛⬛⬜⬜⬛⬛⬛⬛⬜⬜⬜⬛⬛⬜⬛⬛⬛⬛⬛⬜⬜⬜⬛⬜⬛⬛⬛⬛⬛⬜⬛⬜⬜⬛⬜⬜⬜⬜⬜⬛⬜\n",
            "⬛⬛⬜⬛⬛⬛⬛⬜⬛⬛⬜⬜⬛⬛⬛⬜⬜⬜⬛⬜⬛⬛⬜⬜⬛⬜⬜⬜⬜⬛⬜⬛⬛⬜⬛⬜⬜⬜⬜⬜⬛⬛⬛⬛⬛⬜⬜⬜⬛⬛⬛\n",
            "⬜⬜⬜⬛⬜⬜⬜⬜⬛⬜⬛⬛⬛⬜⬜⬛⬜⬛⬛⬜⬛⬜⬛⬛⬛⬛⬜⬜⬛⬛⬜⬛⬜⬜⬛⬛⬜⬜⬜⬛⬛⬜⬜⬜⬜⬛⬜⬛⬛⬜⬜\n",
            "⬜⬜⬛⬛⬛⬜⬜⬛⬛⬜⬛⬜⬜⬛⬛⬛⬜⬛⬜⬜⬛⬜⬛⬜⬜⬜⬛⬛⬛⬜⬜⬛⬛⬛⬛⬜⬛⬜⬛⬛⬜⬛⬜⬜⬛⬛⬜⬛⬜⬛⬜\n",
            "⬜⬛⬛⬜⬜⬛⬛⬛⬜⬜⬛⬛⬛⬛⬜⬜⬜⬛⬛⬛⬛⬜⬛⬛⬜⬛⬛⬜⬜⬛⬛⬛⬜⬜⬜⬜⬛⬜⬛⬜⬜⬛⬛⬛⬛⬜⬜⬛⬜⬛⬛\n",
            "⬜⬛⬜⬛⬛⬛⬜⬜⬛⬛⬛⬜⬜⬜⬛⬜⬛⬛⬜⬜⬜⬜⬛⬜⬜⬛⬜⬛⬛⬛⬜⬜⬛⬜⬜⬛⬛⬜⬛⬛⬛⬛⬜⬜⬜⬛⬛⬛⬜⬛⬜\n",
            "⬛⬛⬜⬛⬜⬜⬛⬛⬛⬜⬜⬛⬜⬛⬛⬜⬛⬜⬛⬜⬜⬛⬛⬛⬛⬛⬜⬛⬜⬜⬛⬛⬛⬛⬛⬛⬜⬜⬛⬜⬜⬜⬛⬜⬛⬛⬜⬜⬜⬛⬛\n",
            "⬜⬜⬜⬛⬛⬛⬛⬜⬜⬛⬛⬛⬜⬛⬜⬜⬛⬜⬛⬛⬛⬛⬜⬜⬜⬜⬜⬛⬛⬛⬛⬜⬜⬜⬜⬜⬛⬛⬛⬛⬜⬛⬛⬜⬛⬜⬛⬜⬛⬛⬜\n",
            "⬜⬜⬛⬛⬜⬜⬜⬛⬛⬛⬜⬜⬜⬛⬛⬛⬛⬜⬛⬜⬜⬜⬛⬜⬜⬜⬛⬛⬜⬜⬜⬛⬜⬜⬜⬛⬛⬜⬜⬜⬜⬛⬜⬜⬛⬜⬛⬜⬛⬜⬛\n",
            "⬛⬛⬛⬜⬛⬜⬛⬛⬜⬜⬛⬜⬛⬛⬜⬜⬜⬜⬛⬛⬜⬛⬛⬛⬜⬛⬛⬜⬛⬜⬛⬛⬛⬜⬛⬛⬜⬛⬜⬜⬛⬛⬛⬛⬛⬜⬛⬜⬛⬜⬛\n",
            "⬜⬜⬜⬜⬛⬜⬛⬜⬛⬛⬛⬜⬛⬜⬛⬜⬜⬛⬛⬜⬜⬛⬜⬜⬜⬛⬜⬜⬛⬜⬛⬜⬜⬜⬛⬜⬜⬛⬛⬛⬛⬜⬜⬜⬜⬜⬛⬜⬛⬜⬛\n",
            "⬛⬜⬜⬛⬛⬜⬛⬜⬛⬜⬜⬜⬛⬜⬛⬛⬛⬛⬜⬛⬛⬛⬛⬜⬛⬛⬛⬛⬛⬜⬛⬛⬜⬛⬛⬛⬛⬛⬜⬜⬜⬛⬜⬜⬜⬛⬛⬜⬛⬜⬛\n",
            "⬜⬛⬛⬛⬜⬜⬛⬜⬛⬛⬜⬛⬛⬜⬛⬜⬜⬜⬜⬛⬜⬜⬜⬜⬛⬜⬜⬜⬜⬜⬛⬜⬜⬛⬜⬜⬜⬜⬛⬜⬛⬛⬛⬜⬛⬛⬜⬜⬛⬜⬛\n",
            "⬜⬛⬜⬜⬛⬛⬛⬜⬛⬜⬜⬛⬜⬜⬛⬛⬜⬜⬛⬛⬛⬜⬜⬛⬛⬛⬜⬜⬜⬛⬛⬛⬛⬛⬛⬜⬜⬛⬛⬜⬛⬜⬜⬜⬛⬜⬛⬛⬛⬜⬛\n",
            "⬜⬛⬛⬛⬛⬜⬜⬜⬛⬛⬛⬛⬛⬛⬛⬜⬛⬛⬛⬜⬜⬛⬛⬛⬜⬜⬛⬜⬛⬛⬜⬜⬜⬜⬜⬛⬛⬛⬜⬜⬛⬛⬜⬛⬛⬜⬛⬜⬜⬜⬛\n",
            "⬜⬛⬜⬜⬜⬛⬜⬛⬛⬜⬜⬜⬜⬜⬜⬜⬛⬜⬜⬛⬛⬛⬜⬜⬛⬛⬛⬜⬛⬜⬛⬜⬜⬜⬛⬛⬜⬜⬛⬛⬛⬜⬜⬛⬜⬜⬛⬛⬜⬛⬛\n",
            "⬜⬛⬛⬜⬛⬛⬜⬛⬜⬛⬜⬜⬜⬜⬜⬛⬛⬛⬛⬛⬜⬜⬛⬛⬛⬜⬜⬜⬛⬜⬛⬛⬜⬛⬛⬜⬛⬛⬛⬜⬜⬛⬛⬛⬛⬛⬛⬜⬜⬛⬜\n",
            "⬛⬛⬜⬜⬛⬜⬜⬛⬜⬛⬛⬜⬜⬜⬛⬛⬜⬜⬜⬜⬛⬛⬛⬜⬜⬛⬜⬛⬛⬜⬛⬜⬜⬛⬜⬜⬛⬜⬜⬛⬛⬛⬜⬜⬜⬜⬜⬛⬛⬛⬛\n",
            "⬜⬜⬛⬛⬛⬛⬛⬛⬜⬛⬜⬛⬜⬛⬛⬜⬛⬜⬜⬛⬛⬜⬜⬛⬛⬛⬜⬛⬜⬜⬛⬛⬛⬛⬛⬛⬛⬛⬛⬛⬜⬜⬛⬜⬜⬜⬛⬛⬜⬜⬜\n",
            "⬜⬛⬛⬜⬜⬜⬜⬜⬜⬛⬜⬛⬜⬛⬜⬜⬛⬛⬛⬛⬜⬛⬛⬛⬜⬜⬜⬛⬛⬛⬛⬜⬜⬜⬜⬜⬜⬜⬜⬜⬛⬛⬛⬛⬜⬛⬛⬜⬛⬜⬜\n",
            "⬛⬛⬜⬛⬜⬜⬜⬜⬛⬛⬜⬛⬜⬛⬛⬛⬛⬜⬜⬜⬜⬛⬜⬜⬛⬜⬛⬛⬜⬜⬜⬛⬜⬜⬜⬜⬜⬜⬜⬛⬛⬜⬜⬜⬜⬛⬜⬜⬛⬛⬜\n",
            "⬛⬜⬜⬛⬛⬜⬜⬛⬛⬜⬜⬛⬜⬛⬜⬜⬜⬛⬜⬜⬛⬛⬛⬛⬛⬜⬛⬜⬛⬜⬛⬛⬛⬜⬜⬜⬜⬜⬛⬛⬜⬛⬜⬜⬛⬛⬛⬛⬛⬜⬜\n",
            "⬛⬛⬛⬛⬜⬛⬛⬛⬜⬛⬛⬛⬜⬛⬛⬜⬛⬛⬛⬛⬛⬜⬜⬜⬜⬜⬛⬜⬛⬜⬛⬜⬜⬛⬜⬜⬜⬛⬛⬜⬜⬛⬛⬛⬛⬜⬜⬜⬜⬛⬛\n",
            "⬜⬜⬜⬜⬜⬛⬜⬜⬜⬛⬜⬜⬜⬛⬜⬜⬛⬜⬜⬜⬜⬛⬜⬜⬜⬛⬛⬜⬛⬜⬛⬛⬛⬛⬛⬜⬛⬛⬜⬛⬛⬛⬜⬜⬜⬛⬜⬜⬛⬛⬜\n",
            "⬜⬜⬜⬜⬛⬛⬛⬜⬛⬛⬛⬜⬛⬛⬛⬛⬛⬛⬜⬜⬛⬛⬛⬜⬛⬛⬜⬜⬛⬜⬛⬜⬜⬜⬜⬜⬛⬜⬜⬛⬜⬜⬛⬜⬛⬛⬛⬛⬛⬜⬛\n",
            "⬛⬜⬜⬛⬛⬜⬜⬜⬛⬜⬜⬜⬛⬜⬜⬜⬜⬜⬛⬛⬛⬜⬜⬜⬛⬜⬛⬛⬛⬜⬛⬛⬜⬜⬜⬛⬛⬛⬛⬛⬛⬛⬛⬜⬛⬜⬜⬜⬜⬜⬛\n",
            "⬜⬛⬛⬛⬜⬛⬜⬛⬛⬛⬜⬛⬛⬛⬜⬜⬜⬛⬛⬜⬜⬛⬜⬛⬛⬜⬛⬜⬜⬜⬛⬜⬛⬜⬛⬛⬜⬜⬜⬜⬜⬜⬜⬜⬛⬛⬜⬜⬜⬛⬛\n",
            "⬜⬛⬜⬜⬜⬛⬜⬛⬜⬜⬜⬛⬜⬜⬛⬜⬛⬛⬜⬛⬛⬛⬜⬛⬜⬜⬛⬛⬜⬛⬛⬜⬛⬜⬛⬜⬛⬜⬜⬜⬜⬜⬜⬛⬛⬜⬛⬜⬛⬛⬜\n",
            "⬛⬛⬛⬜⬛⬛⬜⬛⬛⬜⬛⬛⬛⬛⬛⬜⬛⬜⬜⬛⬜⬜⬜⬛⬛⬛⬛⬜⬜⬛⬜⬜⬛⬜⬛⬜⬛⬛⬜⬜⬜⬜⬛⬛⬜⬜⬛⬜⬛⬜⬛\n",
            "⬜⬜⬜⬜⬛⬜⬜⬛⬜⬜⬛⬜⬜⬜⬜⬜⬛⬛⬛⬛⬛⬜⬛⬛⬜⬜⬜⬛⬛⬛⬛⬛⬛⬜⬛⬜⬛⬜⬛⬜⬜⬛⬛⬜⬛⬛⬛⬜⬛⬜⬛\n",
            "⬛⬜⬜⬛⬛⬛⬛⬛⬛⬛⬛⬛⬜⬜⬜⬛⬛⬜⬜⬜⬜⬜⬛⬜⬛⬜⬛⬛⬜⬜⬜⬜⬜⬜⬛⬜⬛⬜⬛⬛⬛⬛⬜⬜⬛⬜⬜⬜⬛⬜⬛\n"
          ]
        }
      ],
      "source": [
        "# Počinjemo sa širokim poljem 0 i jednom jedinicom\n",
        "stanje = [0]*25+[1]+[0]*25\n",
        "\n",
        "pravilo = nabaviPravilo(30) # 22, 30, 126, 150, 182\n",
        "\n",
        "for i in range(55):\n",
        "    print1DCA(stanje)\n",
        "    stanje = novaGeneracija(stanje, pravilo)"
      ]
    },
    {
      "cell_type": "markdown",
      "metadata": {
        "id": "oY5KoPCSVyLy"
      },
      "source": [
        "4. automati u kojima obrasci postaju izuzetno složeni i mogu trajati dugo, sa stabilnim lokalnim strukturama"
      ]
    },
    {
      "cell_type": "code",
      "execution_count": 6,
      "metadata": {
        "colab": {
          "base_uri": "https://localhost:8080/"
        },
        "id": "OsRqi7oIW0lC",
        "outputId": "832aa905-f1b0-455c-dc77-2c166a9ecff0"
      },
      "outputs": [
        {
          "name": "stdout",
          "output_type": "stream",
          "text": [
            "⬜⬜⬜⬜⬜⬜⬜⬜⬜⬜⬜⬜⬜⬜⬜⬜⬜⬜⬜⬜⬜⬜⬜⬜⬜⬛⬜⬜⬜⬜⬜⬜⬜⬜⬜⬜⬜⬜⬜⬜⬜⬜⬜⬜⬜⬜⬜⬜⬜⬜⬜\n",
            "⬜⬜⬜⬜⬜⬜⬜⬜⬜⬜⬜⬜⬜⬜⬜⬜⬜⬜⬜⬜⬜⬜⬜⬜⬛⬛⬜⬜⬜⬜⬜⬜⬜⬜⬜⬜⬜⬜⬜⬜⬜⬜⬜⬜⬜⬜⬜⬜⬜⬜⬜\n",
            "⬜⬜⬜⬜⬜⬜⬜⬜⬜⬜⬜⬜⬜⬜⬜⬜⬜⬜⬜⬜⬜⬜⬜⬛⬛⬛⬜⬜⬜⬜⬜⬜⬜⬜⬜⬜⬜⬜⬜⬜⬜⬜⬜⬜⬜⬜⬜⬜⬜⬜⬜\n",
            "⬜⬜⬜⬜⬜⬜⬜⬜⬜⬜⬜⬜⬜⬜⬜⬜⬜⬜⬜⬜⬜⬜⬛⬛⬜⬛⬜⬜⬜⬜⬜⬜⬜⬜⬜⬜⬜⬜⬜⬜⬜⬜⬜⬜⬜⬜⬜⬜⬜⬜⬜\n",
            "⬜⬜⬜⬜⬜⬜⬜⬜⬜⬜⬜⬜⬜⬜⬜⬜⬜⬜⬜⬜⬜⬛⬛⬛⬛⬛⬜⬜⬜⬜⬜⬜⬜⬜⬜⬜⬜⬜⬜⬜⬜⬜⬜⬜⬜⬜⬜⬜⬜⬜⬜\n",
            "⬜⬜⬜⬜⬜⬜⬜⬜⬜⬜⬜⬜⬜⬜⬜⬜⬜⬜⬜⬜⬛⬛⬜⬜⬜⬛⬜⬜⬜⬜⬜⬜⬜⬜⬜⬜⬜⬜⬜⬜⬜⬜⬜⬜⬜⬜⬜⬜⬜⬜⬜\n",
            "⬜⬜⬜⬜⬜⬜⬜⬜⬜⬜⬜⬜⬜⬜⬜⬜⬜⬜⬜⬛⬛⬛⬜⬜⬛⬛⬜⬜⬜⬜⬜⬜⬜⬜⬜⬜⬜⬜⬜⬜⬜⬜⬜⬜⬜⬜⬜⬜⬜⬜⬜\n",
            "⬜⬜⬜⬜⬜⬜⬜⬜⬜⬜⬜⬜⬜⬜⬜⬜⬜⬜⬛⬛⬜⬛⬜⬛⬛⬛⬜⬜⬜⬜⬜⬜⬜⬜⬜⬜⬜⬜⬜⬜⬜⬜⬜⬜⬜⬜⬜⬜⬜⬜⬜\n",
            "⬜⬜⬜⬜⬜⬜⬜⬜⬜⬜⬜⬜⬜⬜⬜⬜⬜⬛⬛⬛⬛⬛⬛⬛⬜⬛⬜⬜⬜⬜⬜⬜⬜⬜⬜⬜⬜⬜⬜⬜⬜⬜⬜⬜⬜⬜⬜⬜⬜⬜⬜\n",
            "⬜⬜⬜⬜⬜⬜⬜⬜⬜⬜⬜⬜⬜⬜⬜⬜⬛⬛⬜⬜⬜⬜⬜⬛⬛⬛⬜⬜⬜⬜⬜⬜⬜⬜⬜⬜⬜⬜⬜⬜⬜⬜⬜⬜⬜⬜⬜⬜⬜⬜⬜\n",
            "⬜⬜⬜⬜⬜⬜⬜⬜⬜⬜⬜⬜⬜⬜⬜⬛⬛⬛⬜⬜⬜⬜⬛⬛⬜⬛⬜⬜⬜⬜⬜⬜⬜⬜⬜⬜⬜⬜⬜⬜⬜⬜⬜⬜⬜⬜⬜⬜⬜⬜⬜\n",
            "⬜⬜⬜⬜⬜⬜⬜⬜⬜⬜⬜⬜⬜⬜⬛⬛⬜⬛⬜⬜⬜⬛⬛⬛⬛⬛⬜⬜⬜⬜⬜⬜⬜⬜⬜⬜⬜⬜⬜⬜⬜⬜⬜⬜⬜⬜⬜⬜⬜⬜⬜\n",
            "⬜⬜⬜⬜⬜⬜⬜⬜⬜⬜⬜⬜⬜⬛⬛⬛⬛⬛⬜⬜⬛⬛⬜⬜⬜⬛⬜⬜⬜⬜⬜⬜⬜⬜⬜⬜⬜⬜⬜⬜⬜⬜⬜⬜⬜⬜⬜⬜⬜⬜⬜\n",
            "⬜⬜⬜⬜⬜⬜⬜⬜⬜⬜⬜⬜⬛⬛⬜⬜⬜⬛⬜⬛⬛⬛⬜⬜⬛⬛⬜⬜⬜⬜⬜⬜⬜⬜⬜⬜⬜⬜⬜⬜⬜⬜⬜⬜⬜⬜⬜⬜⬜⬜⬜\n",
            "⬜⬜⬜⬜⬜⬜⬜⬜⬜⬜⬜⬛⬛⬛⬜⬜⬛⬛⬛⬛⬜⬛⬜⬛⬛⬛⬜⬜⬜⬜⬜⬜⬜⬜⬜⬜⬜⬜⬜⬜⬜⬜⬜⬜⬜⬜⬜⬜⬜⬜⬜\n",
            "⬜⬜⬜⬜⬜⬜⬜⬜⬜⬜⬛⬛⬜⬛⬜⬛⬛⬜⬜⬛⬛⬛⬛⬛⬜⬛⬜⬜⬜⬜⬜⬜⬜⬜⬜⬜⬜⬜⬜⬜⬜⬜⬜⬜⬜⬜⬜⬜⬜⬜⬜\n",
            "⬜⬜⬜⬜⬜⬜⬜⬜⬜⬛⬛⬛⬛⬛⬛⬛⬛⬜⬛⬛⬜⬜⬜⬛⬛⬛⬜⬜⬜⬜⬜⬜⬜⬜⬜⬜⬜⬜⬜⬜⬜⬜⬜⬜⬜⬜⬜⬜⬜⬜⬜\n",
            "⬜⬜⬜⬜⬜⬜⬜⬜⬛⬛⬜⬜⬜⬜⬜⬜⬛⬛⬛⬛⬜⬜⬛⬛⬜⬛⬜⬜⬜⬜⬜⬜⬜⬜⬜⬜⬜⬜⬜⬜⬜⬜⬜⬜⬜⬜⬜⬜⬜⬜⬜\n",
            "⬜⬜⬜⬜⬜⬜⬜⬛⬛⬛⬜⬜⬜⬜⬜⬛⬛⬜⬜⬛⬜⬛⬛⬛⬛⬛⬜⬜⬜⬜⬜⬜⬜⬜⬜⬜⬜⬜⬜⬜⬜⬜⬜⬜⬜⬜⬜⬜⬜⬜⬜\n",
            "⬜⬜⬜⬜⬜⬜⬛⬛⬜⬛⬜⬜⬜⬜⬛⬛⬛⬜⬛⬛⬛⬛⬜⬜⬜⬛⬜⬜⬜⬜⬜⬜⬜⬜⬜⬜⬜⬜⬜⬜⬜⬜⬜⬜⬜⬜⬜⬜⬜⬜⬜\n",
            "⬜⬜⬜⬜⬜⬛⬛⬛⬛⬛⬜⬜⬜⬛⬛⬜⬛⬛⬛⬜⬜⬛⬜⬜⬛⬛⬜⬜⬜⬜⬜⬜⬜⬜⬜⬜⬜⬜⬜⬜⬜⬜⬜⬜⬜⬜⬜⬜⬜⬜⬜\n",
            "⬜⬜⬜⬜⬛⬛⬜⬜⬜⬛⬜⬜⬛⬛⬛⬛⬛⬜⬛⬜⬛⬛⬜⬛⬛⬛⬜⬜⬜⬜⬜⬜⬜⬜⬜⬜⬜⬜⬜⬜⬜⬜⬜⬜⬜⬜⬜⬜⬜⬜⬜\n",
            "⬜⬜⬜⬛⬛⬛⬜⬜⬛⬛⬜⬛⬛⬜⬜⬜⬛⬛⬛⬛⬛⬛⬛⬛⬜⬛⬜⬜⬜⬜⬜⬜⬜⬜⬜⬜⬜⬜⬜⬜⬜⬜⬜⬜⬜⬜⬜⬜⬜⬜⬜\n",
            "⬜⬜⬛⬛⬜⬛⬜⬛⬛⬛⬛⬛⬛⬜⬜⬛⬛⬜⬜⬜⬜⬜⬜⬛⬛⬛⬜⬜⬜⬜⬜⬜⬜⬜⬜⬜⬜⬜⬜⬜⬜⬜⬜⬜⬜⬜⬜⬜⬜⬜⬜\n",
            "⬜⬛⬛⬛⬛⬛⬛⬛⬜⬜⬜⬜⬛⬜⬛⬛⬛⬜⬜⬜⬜⬜⬛⬛⬜⬛⬜⬜⬜⬜⬜⬜⬜⬜⬜⬜⬜⬜⬜⬜⬜⬜⬜⬜⬜⬜⬜⬜⬜⬜⬜\n",
            "⬛⬛⬜⬜⬜⬜⬜⬛⬜⬜⬜⬛⬛⬛⬛⬜⬛⬜⬜⬜⬜⬛⬛⬛⬛⬛⬜⬜⬜⬜⬜⬜⬜⬜⬜⬜⬜⬜⬜⬜⬜⬜⬜⬜⬜⬜⬜⬜⬜⬜⬜\n",
            "⬛⬛⬜⬜⬜⬜⬛⬛⬜⬜⬛⬛⬜⬜⬛⬛⬛⬜⬜⬜⬛⬛⬜⬜⬜⬛⬜⬜⬜⬜⬜⬜⬜⬜⬜⬜⬜⬜⬜⬜⬜⬜⬜⬜⬜⬜⬜⬜⬜⬜⬛\n",
            "⬜⬛⬜⬜⬜⬛⬛⬛⬜⬛⬛⬛⬜⬛⬛⬜⬛⬜⬜⬛⬛⬛⬜⬜⬛⬛⬜⬜⬜⬜⬜⬜⬜⬜⬜⬜⬜⬜⬜⬜⬜⬜⬜⬜⬜⬜⬜⬜⬜⬛⬛\n",
            "⬛⬛⬜⬜⬛⬛⬜⬛⬛⬛⬜⬛⬛⬛⬛⬛⬛⬜⬛⬛⬜⬛⬜⬛⬛⬛⬜⬜⬜⬜⬜⬜⬜⬜⬜⬜⬜⬜⬜⬜⬜⬜⬜⬜⬜⬜⬜⬜⬛⬛⬛\n",
            "⬜⬛⬜⬛⬛⬛⬛⬛⬜⬛⬛⬛⬜⬜⬜⬜⬛⬛⬛⬛⬛⬛⬛⬛⬜⬛⬜⬜⬜⬜⬜⬜⬜⬜⬜⬜⬜⬜⬜⬜⬜⬜⬜⬜⬜⬜⬜⬛⬛⬜⬜\n",
            "⬛⬛⬛⬛⬜⬜⬜⬛⬛⬛⬜⬛⬜⬜⬜⬛⬛⬜⬜⬜⬜⬜⬜⬛⬛⬛⬜⬜⬜⬜⬜⬜⬜⬜⬜⬜⬜⬜⬜⬜⬜⬜⬜⬜⬜⬜⬛⬛⬛⬜⬜\n",
            "⬛⬜⬜⬛⬜⬜⬛⬛⬜⬛⬛⬛⬜⬜⬛⬛⬛⬜⬜⬜⬜⬜⬛⬛⬜⬛⬜⬜⬜⬜⬜⬜⬜⬜⬜⬜⬜⬜⬜⬜⬜⬜⬜⬜⬜⬛⬛⬜⬛⬜⬛\n",
            "⬛⬜⬛⬛⬜⬛⬛⬛⬛⬛⬜⬛⬜⬛⬛⬜⬛⬜⬜⬜⬜⬛⬛⬛⬛⬛⬜⬜⬜⬜⬜⬜⬜⬜⬜⬜⬜⬜⬜⬜⬜⬜⬜⬜⬛⬛⬛⬛⬛⬛⬛\n",
            "⬛⬛⬛⬛⬛⬛⬜⬜⬜⬛⬛⬛⬛⬛⬛⬛⬛⬜⬜⬜⬛⬛⬜⬜⬜⬛⬜⬜⬜⬜⬜⬜⬜⬜⬜⬜⬜⬜⬜⬜⬜⬜⬜⬛⬛⬜⬜⬜⬜⬜⬜\n",
            "⬛⬜⬜⬜⬜⬛⬜⬜⬛⬛⬜⬜⬜⬜⬜⬜⬛⬜⬜⬛⬛⬛⬜⬜⬛⬛⬜⬜⬜⬜⬜⬜⬜⬜⬜⬜⬜⬜⬜⬜⬜⬜⬛⬛⬛⬜⬜⬜⬜⬜⬛\n",
            "⬛⬜⬜⬜⬛⬛⬜⬛⬛⬛⬜⬜⬜⬜⬜⬛⬛⬜⬛⬛⬜⬛⬜⬛⬛⬛⬜⬜⬜⬜⬜⬜⬜⬜⬜⬜⬜⬜⬜⬜⬜⬛⬛⬜⬛⬜⬜⬜⬜⬛⬛\n",
            "⬛⬜⬜⬛⬛⬛⬛⬛⬜⬛⬜⬜⬜⬜⬛⬛⬛⬛⬛⬛⬛⬛⬛⬛⬜⬛⬜⬜⬜⬜⬜⬜⬜⬜⬜⬜⬜⬜⬜⬜⬛⬛⬛⬛⬛⬜⬜⬜⬛⬛⬜\n",
            "⬛⬜⬛⬛⬜⬜⬜⬛⬛⬛⬜⬜⬜⬛⬛⬜⬜⬜⬜⬜⬜⬜⬜⬛⬛⬛⬜⬜⬜⬜⬜⬜⬜⬜⬜⬜⬜⬜⬜⬛⬛⬜⬜⬜⬛⬜⬜⬛⬛⬛⬛\n",
            "⬛⬛⬛⬛⬜⬜⬛⬛⬜⬛⬜⬜⬛⬛⬛⬜⬜⬜⬜⬜⬜⬜⬛⬛⬜⬛⬜⬜⬜⬜⬜⬜⬜⬜⬜⬜⬜⬜⬛⬛⬛⬜⬜⬛⬛⬜⬛⬛⬜⬜⬜\n",
            "⬛⬜⬜⬛⬜⬛⬛⬛⬛⬛⬜⬛⬛⬜⬛⬜⬜⬜⬜⬜⬜⬛⬛⬛⬛⬛⬜⬜⬜⬜⬜⬜⬜⬜⬜⬜⬜⬛⬛⬜⬛⬜⬛⬛⬛⬛⬛⬛⬜⬜⬛\n",
            "⬛⬜⬛⬛⬛⬛⬜⬜⬜⬛⬛⬛⬛⬛⬛⬜⬜⬜⬜⬜⬛⬛⬜⬜⬜⬛⬜⬜⬜⬜⬜⬜⬜⬜⬜⬜⬛⬛⬛⬛⬛⬛⬛⬜⬜⬜⬜⬛⬜⬛⬛\n",
            "⬛⬛⬛⬜⬜⬛⬜⬜⬛⬛⬜⬜⬜⬜⬛⬜⬜⬜⬜⬛⬛⬛⬜⬜⬛⬛⬜⬜⬜⬜⬜⬜⬜⬜⬜⬛⬛⬜⬜⬜⬜⬜⬛⬜⬜⬜⬛⬛⬛⬛⬜\n",
            "⬛⬜⬛⬜⬛⬛⬜⬛⬛⬛⬜⬜⬜⬛⬛⬜⬜⬜⬛⬛⬜⬛⬜⬛⬛⬛⬜⬜⬜⬜⬜⬜⬜⬜⬛⬛⬛⬜⬜⬜⬜⬛⬛⬜⬜⬛⬛⬜⬜⬛⬛\n",
            "⬛⬛⬛⬛⬛⬛⬛⬛⬜⬛⬜⬜⬛⬛⬛⬜⬜⬛⬛⬛⬛⬛⬛⬛⬜⬛⬜⬜⬜⬜⬜⬜⬜⬛⬛⬜⬛⬜⬜⬜⬛⬛⬛⬜⬛⬛⬛⬜⬛⬛⬜\n",
            "⬛⬜⬜⬜⬜⬜⬜⬛⬛⬛⬜⬛⬛⬜⬛⬜⬛⬛⬜⬜⬜⬜⬜⬛⬛⬛⬜⬜⬜⬜⬜⬜⬛⬛⬛⬛⬛⬜⬜⬛⬛⬜⬛⬛⬛⬜⬛⬛⬛⬛⬛\n",
            "⬛⬜⬜⬜⬜⬜⬛⬛⬜⬛⬛⬛⬛⬛⬛⬛⬛⬛⬜⬜⬜⬜⬛⬛⬜⬛⬜⬜⬜⬜⬜⬛⬛⬜⬜⬜⬛⬜⬛⬛⬛⬛⬛⬜⬛⬛⬛⬜⬜⬜⬜\n",
            "⬛⬜⬜⬜⬜⬛⬛⬛⬛⬛⬜⬜⬜⬜⬜⬜⬜⬛⬜⬜⬜⬛⬛⬛⬛⬛⬜⬜⬜⬜⬛⬛⬛⬜⬜⬛⬛⬛⬛⬜⬜⬜⬛⬛⬛⬜⬛⬜⬜⬜⬛\n",
            "⬛⬜⬜⬜⬛⬛⬜⬜⬜⬛⬜⬜⬜⬜⬜⬜⬛⬛⬜⬜⬛⬛⬜⬜⬜⬛⬜⬜⬜⬛⬛⬜⬛⬜⬛⬛⬜⬜⬛⬜⬜⬛⬛⬜⬛⬛⬛⬜⬜⬛⬛\n",
            "⬛⬜⬜⬛⬛⬛⬜⬜⬛⬛⬜⬜⬜⬜⬜⬛⬛⬛⬜⬛⬛⬛⬜⬜⬛⬛⬜⬜⬛⬛⬛⬛⬛⬛⬛⬛⬜⬛⬛⬜⬛⬛⬛⬛⬛⬜⬛⬜⬛⬛⬜\n",
            "⬛⬜⬛⬛⬜⬛⬜⬛⬛⬛⬜⬜⬜⬜⬛⬛⬜⬛⬛⬛⬜⬛⬜⬛⬛⬛⬜⬛⬛⬜⬜⬜⬜⬜⬜⬛⬛⬛⬛⬛⬛⬜⬜⬜⬛⬛⬛⬛⬛⬛⬛\n",
            "⬛⬛⬛⬛⬛⬛⬛⬛⬜⬛⬜⬜⬜⬛⬛⬛⬛⬛⬜⬛⬛⬛⬛⬛⬜⬛⬛⬛⬛⬜⬜⬜⬜⬜⬛⬛⬜⬜⬜⬜⬛⬜⬜⬛⬛⬜⬜⬜⬜⬜⬜\n",
            "⬛⬜⬜⬜⬜⬜⬜⬛⬛⬛⬜⬜⬛⬛⬜⬜⬜⬛⬛⬛⬜⬜⬜⬛⬛⬛⬜⬜⬛⬜⬜⬜⬜⬛⬛⬛⬜⬜⬜⬛⬛⬜⬛⬛⬛⬜⬜⬜⬜⬜⬛\n",
            "⬛⬜⬜⬜⬜⬜⬛⬛⬜⬛⬜⬛⬛⬛⬜⬜⬛⬛⬜⬛⬜⬜⬛⬛⬜⬛⬜⬛⬛⬜⬜⬜⬛⬛⬜⬛⬜⬜⬛⬛⬛⬛⬛⬜⬛⬜⬜⬜⬜⬛⬛\n",
            "⬛⬜⬜⬜⬜⬛⬛⬛⬛⬛⬛⬛⬜⬛⬜⬛⬛⬛⬛⬛⬜⬛⬛⬛⬛⬛⬛⬛⬛⬜⬜⬛⬛⬛⬛⬛⬜⬛⬛⬜⬜⬜⬛⬛⬛⬜⬜⬜⬛⬛⬜\n",
            "⬛⬜⬜⬜⬛⬛⬜⬜⬜⬜⬜⬛⬛⬛⬛⬛⬜⬜⬜⬛⬛⬛⬜⬜⬜⬜⬜⬜⬛⬜⬛⬛⬜⬜⬜⬛⬛⬛⬛⬜⬜⬛⬛⬜⬛⬜⬜⬛⬛⬛⬛\n",
            "⬛⬜⬜⬛⬛⬛⬜⬜⬜⬜⬛⬛⬜⬜⬜⬛⬜⬜⬛⬛⬜⬛⬜⬜⬜⬜⬜⬛⬛⬛⬛⬛⬜⬜⬛⬛⬜⬜⬛⬜⬛⬛⬛⬛⬛⬜⬛⬛⬜⬜⬜\n",
            "⬛⬜⬛⬛⬜⬛⬜⬜⬜⬛⬛⬛⬜⬜⬛⬛⬜⬛⬛⬛⬛⬛⬜⬜⬜⬜⬛⬛⬜⬜⬜⬛⬜⬛⬛⬛⬜⬛⬛⬛⬛⬜⬜⬜⬛⬛⬛⬛⬜⬜⬛\n",
            "⬛⬛⬛⬛⬛⬛⬜⬜⬛⬛⬜⬛⬜⬛⬛⬛⬛⬛⬜⬜⬜⬛⬜⬜⬜⬛⬛⬛⬜⬜⬛⬛⬛⬛⬜⬛⬛⬛⬜⬜⬛⬜⬜⬛⬛⬜⬜⬛⬜⬛⬛\n",
            "⬜⬜⬜⬜⬜⬛⬜⬛⬛⬛⬛⬛⬛⬛⬜⬜⬜⬛⬜⬜⬛⬛⬜⬜⬛⬛⬜⬛⬜⬛⬛⬜⬜⬛⬛⬛⬜⬛⬜⬛⬛⬜⬛⬛⬛⬜⬛⬛⬛⬛⬜\n",
            "⬜⬜⬜⬜⬛⬛⬛⬛⬜⬜⬜⬜⬜⬛⬜⬜⬛⬛⬜⬛⬛⬛⬜⬛⬛⬛⬛⬛⬛⬛⬛⬜⬛⬛⬜⬛⬛⬛⬛⬛⬛⬛⬛⬜⬛⬛⬛⬜⬜⬛⬜\n",
            "⬜⬜⬜⬛⬛⬜⬜⬛⬜⬜⬜⬜⬛⬛⬜⬛⬛⬛⬛⬛⬜⬛⬛⬛⬜⬜⬜⬜⬜⬜⬛⬛⬛⬛⬛⬛⬜⬜⬜⬜⬜⬜⬛⬛⬛⬜⬛⬜⬛⬛⬜\n",
            "⬜⬜⬛⬛⬛⬜⬛⬛⬜⬜⬜⬛⬛⬛⬛⬛⬜⬜⬜⬛⬛⬛⬜⬛⬜⬜⬜⬜⬜⬛⬛⬜⬜⬜⬜⬛⬜⬜⬜⬜⬜⬛⬛⬜⬛⬛⬛⬛⬛⬛⬜\n",
            "⬜⬛⬛⬜⬛⬛⬛⬛⬜⬜⬛⬛⬜⬜⬜⬛⬜⬜⬛⬛⬜⬛⬛⬛⬜⬜⬜⬜⬛⬛⬛⬜⬜⬜⬛⬛⬜⬜⬜⬜⬛⬛⬛⬛⬛⬜⬜⬜⬜⬛⬜\n",
            "⬛⬛⬛⬛⬛⬜⬜⬛⬜⬛⬛⬛⬜⬜⬛⬛⬜⬛⬛⬛⬛⬛⬜⬛⬜⬜⬜⬛⬛⬜⬛⬜⬜⬛⬛⬛⬜⬜⬜⬛⬛⬜⬜⬜⬛⬜⬜⬜⬛⬛⬜\n",
            "⬛⬜⬜⬜⬛⬜⬛⬛⬛⬛⬜⬛⬜⬛⬛⬛⬛⬛⬜⬜⬜⬛⬛⬛⬜⬜⬛⬛⬛⬛⬛⬜⬛⬛⬜⬛⬜⬜⬛⬛⬛⬜⬜⬛⬛⬜⬜⬛⬛⬛⬛\n",
            "⬛⬜⬜⬛⬛⬛⬛⬜⬜⬛⬛⬛⬛⬛⬜⬜⬜⬛⬜⬜⬛⬛⬜⬛⬜⬛⬛⬜⬜⬜⬛⬛⬛⬛⬛⬛⬜⬛⬛⬜⬛⬜⬛⬛⬛⬜⬛⬛⬜⬜⬜\n",
            "⬛⬜⬛⬛⬜⬜⬛⬜⬛⬛⬜⬜⬜⬛⬜⬜⬛⬛⬜⬛⬛⬛⬛⬛⬛⬛⬛⬜⬜⬛⬛⬜⬜⬜⬜⬛⬛⬛⬛⬛⬛⬛⬛⬜⬛⬛⬛⬛⬜⬜⬛\n",
            "⬛⬛⬛⬛⬜⬛⬛⬛⬛⬛⬜⬜⬛⬛⬜⬛⬛⬛⬛⬛⬜⬜⬜⬜⬜⬜⬛⬜⬛⬛⬛⬜⬜⬜⬛⬛⬜⬜⬜⬜⬜⬜⬛⬛⬛⬜⬜⬛⬜⬛⬛\n",
            "⬜⬜⬜⬛⬛⬛⬜⬜⬜⬛⬜⬛⬛⬛⬛⬛⬜⬜⬜⬛⬜⬜⬜⬜⬜⬛⬛⬛⬛⬜⬛⬜⬜⬛⬛⬛⬜⬜⬜⬜⬜⬛⬛⬜⬛⬜⬛⬛⬛⬛⬜\n",
            "⬜⬜⬛⬛⬜⬛⬜⬜⬛⬛⬛⬛⬜⬜⬜⬛⬜⬜⬛⬛⬜⬜⬜⬜⬛⬛⬜⬜⬛⬛⬛⬜⬛⬛⬜⬛⬜⬜⬜⬜⬛⬛⬛⬛⬛⬛⬛⬜⬜⬛⬜\n",
            "⬜⬛⬛⬛⬛⬛⬜⬛⬛⬜⬜⬛⬜⬜⬛⬛⬜⬛⬛⬛⬜⬜⬜⬛⬛⬛⬜⬛⬛⬜⬛⬛⬛⬛⬛⬛⬜⬜⬜⬛⬛⬜⬜⬜⬜⬜⬛⬜⬛⬛⬜\n",
            "⬛⬛⬜⬜⬜⬛⬛⬛⬛⬜⬛⬛⬜⬛⬛⬛⬛⬛⬜⬛⬜⬜⬛⬛⬜⬛⬛⬛⬛⬛⬛⬜⬜⬜⬜⬛⬜⬜⬛⬛⬛⬜⬜⬜⬜⬛⬛⬛⬛⬛⬜\n",
            "⬛⬛⬜⬜⬛⬛⬜⬜⬛⬛⬛⬛⬛⬛⬜⬜⬜⬛⬛⬛⬜⬛⬛⬛⬛⬛⬜⬜⬜⬜⬛⬜⬜⬜⬛⬛⬜⬛⬛⬜⬛⬜⬜⬜⬛⬛⬜⬜⬜⬛⬛\n",
            "⬜⬛⬜⬛⬛⬛⬜⬛⬛⬜⬜⬜⬜⬛⬜⬜⬛⬛⬜⬛⬛⬛⬜⬜⬜⬛⬜⬜⬜⬛⬛⬜⬜⬛⬛⬛⬛⬛⬛⬛⬛⬜⬜⬛⬛⬛⬜⬜⬛⬛⬜\n",
            "⬛⬛⬛⬛⬜⬛⬛⬛⬛⬜⬜⬜⬛⬛⬜⬛⬛⬛⬛⬛⬜⬛⬜⬜⬛⬛⬜⬜⬛⬛⬛⬜⬛⬛⬜⬜⬜⬜⬜⬜⬛⬜⬛⬛⬜⬛⬜⬛⬛⬛⬜\n",
            "⬛⬜⬜⬛⬛⬛⬜⬜⬛⬜⬜⬛⬛⬛⬛⬛⬜⬜⬜⬛⬛⬛⬜⬛⬛⬛⬜⬛⬛⬜⬛⬛⬛⬛⬜⬜⬜⬜⬜⬛⬛⬛⬛⬛⬛⬛⬛⬛⬜⬛⬛\n",
            "⬛⬜⬛⬛⬜⬛⬜⬛⬛⬜⬛⬛⬜⬜⬜⬛⬜⬜⬛⬛⬜⬛⬛⬛⬜⬛⬛⬛⬛⬛⬛⬜⬜⬛⬜⬜⬜⬜⬛⬛⬜⬜⬜⬜⬜⬜⬜⬛⬛⬛⬜\n",
            "⬛⬛⬛⬛⬛⬛⬛⬛⬛⬛⬛⬛⬜⬜⬛⬛⬜⬛⬛⬛⬛⬛⬜⬛⬛⬛⬜⬜⬜⬜⬛⬜⬛⬛⬜⬜⬜⬛⬛⬛⬜⬜⬜⬜⬜⬜⬛⬛⬜⬛⬛\n",
            "⬜⬜⬜⬜⬜⬜⬜⬜⬜⬜⬜⬛⬜⬛⬛⬛⬛⬛⬜⬜⬜⬛⬛⬛⬜⬛⬜⬜⬜⬛⬛⬛⬛⬛⬜⬜⬛⬛⬜⬛⬜⬜⬜⬜⬜⬛⬛⬛⬛⬛⬜\n",
            "⬜⬜⬜⬜⬜⬜⬜⬜⬜⬜⬛⬛⬛⬛⬜⬜⬜⬛⬜⬜⬛⬛⬜⬛⬛⬛⬜⬜⬛⬛⬜⬜⬜⬛⬜⬛⬛⬛⬛⬛⬜⬜⬜⬜⬛⬛⬜⬜⬜⬛⬜\n",
            "⬜⬜⬜⬜⬜⬜⬜⬜⬜⬛⬛⬜⬜⬛⬜⬜⬛⬛⬜⬛⬛⬛⬛⬛⬜⬛⬜⬛⬛⬛⬜⬜⬛⬛⬛⬛⬜⬜⬜⬛⬜⬜⬜⬛⬛⬛⬜⬜⬛⬛⬜\n",
            "⬜⬜⬜⬜⬜⬜⬜⬜⬛⬛⬛⬜⬛⬛⬜⬛⬛⬛⬛⬛⬜⬜⬜⬛⬛⬛⬛⬛⬜⬛⬜⬛⬛⬜⬜⬛⬜⬜⬛⬛⬜⬜⬛⬛⬜⬛⬜⬛⬛⬛⬜\n",
            "⬜⬜⬜⬜⬜⬜⬜⬛⬛⬜⬛⬛⬛⬛⬛⬛⬜⬜⬜⬛⬜⬜⬛⬛⬜⬜⬜⬛⬛⬛⬛⬛⬛⬜⬛⬛⬜⬛⬛⬛⬜⬛⬛⬛⬛⬛⬛⬛⬜⬛⬜\n",
            "⬜⬜⬜⬜⬜⬜⬛⬛⬛⬛⬛⬜⬜⬜⬜⬛⬜⬜⬛⬛⬜⬛⬛⬛⬜⬜⬛⬛⬜⬜⬜⬜⬛⬛⬛⬛⬛⬛⬜⬛⬛⬛⬜⬜⬜⬜⬜⬛⬛⬛⬜\n",
            "⬜⬜⬜⬜⬜⬛⬛⬜⬜⬜⬛⬜⬜⬜⬛⬛⬜⬛⬛⬛⬛⬛⬜⬛⬜⬛⬛⬛⬜⬜⬜⬛⬛⬜⬜⬜⬜⬛⬛⬛⬜⬛⬜⬜⬜⬜⬛⬛⬜⬛⬜\n",
            "⬜⬜⬜⬜⬛⬛⬛⬜⬜⬛⬛⬜⬜⬛⬛⬛⬛⬛⬜⬜⬜⬛⬛⬛⬛⬛⬜⬛⬜⬜⬛⬛⬛⬜⬜⬜⬛⬛⬜⬛⬛⬛⬜⬜⬜⬛⬛⬛⬛⬛⬜\n",
            "⬜⬜⬜⬛⬛⬜⬛⬜⬛⬛⬛⬜⬛⬛⬜⬜⬜⬛⬜⬜⬛⬛⬜⬜⬜⬛⬛⬛⬜⬛⬛⬜⬛⬜⬜⬛⬛⬛⬛⬛⬜⬛⬜⬜⬛⬛⬜⬜⬜⬛⬜\n",
            "⬜⬜⬛⬛⬛⬛⬛⬛⬛⬜⬛⬛⬛⬛⬜⬜⬛⬛⬜⬛⬛⬛⬜⬜⬛⬛⬜⬛⬛⬛⬛⬛⬛⬜⬛⬛⬜⬜⬜⬛⬛⬛⬜⬛⬛⬛⬜⬜⬛⬛⬜\n",
            "⬜⬛⬛⬜⬜⬜⬜⬜⬛⬛⬛⬜⬜⬛⬜⬛⬛⬛⬛⬛⬜⬛⬜⬛⬛⬛⬛⬛⬜⬜⬜⬜⬛⬛⬛⬛⬜⬜⬛⬛⬜⬛⬛⬛⬜⬛⬜⬛⬛⬛⬜\n",
            "⬛⬛⬛⬜⬜⬜⬜⬛⬛⬜⬛⬜⬛⬛⬛⬛⬜⬜⬜⬛⬛⬛⬛⬛⬜⬜⬜⬛⬜⬜⬜⬛⬛⬜⬜⬛⬜⬛⬛⬛⬛⬛⬜⬛⬛⬛⬛⬛⬜⬛⬜\n",
            "⬛⬜⬛⬜⬜⬜⬛⬛⬛⬛⬛⬛⬛⬜⬜⬛⬜⬜⬛⬛⬜⬜⬜⬛⬜⬜⬛⬛⬜⬜⬛⬛⬛⬜⬛⬛⬛⬛⬜⬜⬜⬛⬛⬛⬜⬜⬜⬛⬛⬛⬛\n",
            "⬛⬛⬛⬜⬜⬛⬛⬜⬜⬜⬜⬜⬛⬜⬛⬛⬜⬛⬛⬛⬜⬜⬛⬛⬜⬛⬛⬛⬜⬛⬛⬜⬛⬛⬛⬜⬜⬛⬜⬜⬛⬛⬜⬛⬜⬜⬛⬛⬜⬜⬜\n",
            "⬛⬜⬛⬜⬛⬛⬛⬜⬜⬜⬜⬛⬛⬛⬛⬛⬛⬛⬜⬛⬜⬛⬛⬛⬛⬛⬜⬛⬛⬛⬛⬛⬛⬜⬛⬜⬛⬛⬜⬛⬛⬛⬛⬛⬜⬛⬛⬛⬜⬜⬛\n",
            "⬛⬛⬛⬛⬛⬜⬛⬜⬜⬜⬛⬛⬜⬜⬜⬜⬜⬛⬛⬛⬛⬛⬜⬜⬜⬛⬛⬛⬜⬜⬜⬜⬛⬛⬛⬛⬛⬛⬛⬛⬜⬜⬜⬛⬛⬛⬜⬛⬜⬛⬛\n",
            "⬜⬜⬜⬜⬛⬛⬛⬜⬜⬛⬛⬛⬜⬜⬜⬜⬛⬛⬜⬜⬜⬛⬜⬜⬛⬛⬜⬛⬜⬜⬜⬛⬛⬜⬜⬜⬜⬜⬜⬛⬜⬜⬛⬛⬜⬛⬛⬛⬛⬛⬜\n",
            "⬜⬜⬜⬛⬛⬜⬛⬜⬛⬛⬜⬛⬜⬜⬜⬛⬛⬛⬜⬜⬛⬛⬜⬛⬛⬛⬛⬛⬜⬜⬛⬛⬛⬜⬜⬜⬜⬜⬛⬛⬜⬛⬛⬛⬛⬛⬜⬜⬜⬛⬜\n",
            "⬜⬜⬛⬛⬛⬛⬛⬛⬛⬛⬛⬛⬜⬜⬛⬛⬜⬛⬜⬛⬛⬛⬛⬛⬜⬜⬜⬛⬜⬛⬛⬜⬛⬜⬜⬜⬜⬛⬛⬛⬛⬛⬜⬜⬜⬛⬜⬜⬛⬛⬜\n",
            "⬜⬛⬛⬜⬜⬜⬜⬜⬜⬜⬜⬛⬜⬛⬛⬛⬛⬛⬛⬛⬜⬜⬜⬛⬜⬜⬛⬛⬛⬛⬛⬛⬛⬜⬜⬜⬛⬛⬜⬜⬜⬛⬜⬜⬛⬛⬜⬛⬛⬛⬜\n",
            "⬛⬛⬛⬜⬜⬜⬜⬜⬜⬜⬛⬛⬛⬛⬜⬜⬜⬜⬜⬛⬜⬜⬛⬛⬜⬛⬛⬜⬜⬜⬜⬜⬛⬜⬜⬛⬛⬛⬜⬜⬛⬛⬜⬛⬛⬛⬛⬛⬜⬛⬜\n",
            "⬛⬜⬛⬜⬜⬜⬜⬜⬜⬛⬛⬜⬜⬛⬜⬜⬜⬜⬛⬛⬜⬛⬛⬛⬛⬛⬛⬜⬜⬜⬜⬛⬛⬜⬛⬛⬜⬛⬜⬛⬛⬛⬛⬛⬜⬜⬜⬛⬛⬛⬛\n",
            "⬛⬛⬛⬜⬜⬜⬜⬜⬛⬛⬛⬜⬛⬛⬜⬜⬜⬛⬛⬛⬛⬛⬜⬜⬜⬜⬛⬜⬜⬜⬛⬛⬛⬛⬛⬛⬛⬛⬛⬛⬜⬜⬜⬛⬜⬜⬛⬛⬜⬜⬜\n",
            "⬛⬜⬛⬜⬜⬜⬜⬛⬛⬜⬛⬛⬛⬛⬜⬜⬛⬛⬜⬜⬜⬛⬜⬜⬜⬛⬛⬜⬜⬛⬛⬜⬜⬜⬜⬜⬜⬜⬜⬛⬜⬜⬛⬛⬜⬛⬛⬛⬜⬜⬛\n",
            "⬛⬛⬛⬜⬜⬜⬛⬛⬛⬛⬛⬜⬜⬛⬜⬛⬛⬛⬜⬜⬛⬛⬜⬜⬛⬛⬛⬜⬛⬛⬛⬜⬜⬜⬜⬜⬜⬜⬛⬛⬜⬛⬛⬛⬛⬛⬜⬛⬜⬛⬛\n",
            "⬜⬜⬛⬜⬜⬛⬛⬜⬜⬜⬛⬜⬛⬛⬛⬛⬜⬛⬜⬛⬛⬛⬜⬛⬛⬜⬛⬛⬛⬜⬛⬜⬜⬜⬜⬜⬜⬛⬛⬛⬛⬛⬜⬜⬜⬛⬛⬛⬛⬛⬜\n",
            "⬜⬛⬛⬜⬛⬛⬛⬜⬜⬛⬛⬛⬛⬜⬜⬛⬛⬛⬛⬛⬜⬛⬛⬛⬛⬛⬛⬜⬛⬛⬛⬜⬜⬜⬜⬜⬛⬛⬜⬜⬜⬛⬜⬜⬛⬛⬜⬜⬜⬛⬜\n",
            "⬛⬛⬛⬛⬛⬜⬛⬜⬛⬛⬜⬜⬛⬜⬛⬛⬜⬜⬜⬛⬛⬛⬜⬜⬜⬜⬛⬛⬛⬜⬛⬜⬜⬜⬜⬛⬛⬛⬜⬜⬛⬛⬜⬛⬛⬛⬜⬜⬛⬛⬜\n",
            "⬛⬜⬜⬜⬛⬛⬛⬛⬛⬛⬜⬛⬛⬛⬛⬛⬜⬜⬛⬛⬜⬛⬜⬜⬜⬛⬛⬜⬛⬛⬛⬜⬜⬜⬛⬛⬜⬛⬜⬛⬛⬛⬛⬛⬜⬛⬜⬛⬛⬛⬛\n",
            "⬛⬜⬜⬛⬛⬜⬜⬜⬜⬛⬛⬛⬜⬜⬜⬛⬜⬛⬛⬛⬛⬛⬜⬜⬛⬛⬛⬛⬛⬜⬛⬜⬜⬛⬛⬛⬛⬛⬛⬛⬜⬜⬜⬛⬛⬛⬛⬛⬜⬜⬜\n",
            "⬛⬜⬛⬛⬛⬜⬜⬜⬛⬛⬜⬛⬜⬜⬛⬛⬛⬛⬜⬜⬜⬛⬜⬛⬛⬜⬜⬜⬛⬛⬛⬜⬛⬛⬜⬜⬜⬜⬜⬛⬜⬜⬛⬛⬜⬜⬜⬛⬜⬜⬛\n",
            "⬛⬛⬛⬜⬛⬜⬜⬛⬛⬛⬛⬛⬜⬛⬛⬜⬜⬛⬜⬜⬛⬛⬛⬛⬛⬜⬜⬛⬛⬜⬛⬛⬛⬛⬜⬜⬜⬜⬛⬛⬜⬛⬛⬛⬜⬜⬛⬛⬜⬛⬛\n",
            "⬜⬜⬛⬛⬛⬜⬛⬛⬜⬜⬜⬛⬛⬛⬛⬜⬛⬛⬜⬛⬛⬜⬜⬜⬛⬜⬛⬛⬛⬛⬛⬜⬜⬛⬜⬜⬜⬛⬛⬛⬛⬛⬜⬛⬜⬛⬛⬛⬛⬛⬜\n",
            "⬜⬛⬛⬜⬛⬛⬛⬛⬜⬜⬛⬛⬜⬜⬛⬛⬛⬛⬛⬛⬛⬜⬜⬛⬛⬛⬛⬜⬜⬜⬛⬜⬛⬛⬜⬜⬛⬛⬜⬜⬜⬛⬛⬛⬛⬛⬜⬜⬜⬛⬜\n",
            "⬛⬛⬛⬛⬛⬜⬜⬛⬜⬛⬛⬛⬜⬛⬛⬜⬜⬜⬜⬜⬛⬜⬛⬛⬜⬜⬛⬜⬜⬛⬛⬛⬛⬛⬜⬛⬛⬛⬜⬜⬛⬛⬜⬜⬜⬛⬜⬜⬛⬛⬜\n",
            "⬛⬜⬜⬜⬛⬜⬛⬛⬛⬛⬜⬛⬛⬛⬛⬜⬜⬜⬜⬛⬛⬛⬛⬛⬜⬛⬛⬜⬛⬛⬜⬜⬜⬛⬛⬛⬜⬛⬜⬛⬛⬛⬜⬜⬛⬛⬜⬛⬛⬛⬛\n",
            "⬛⬜⬜⬛⬛⬛⬛⬜⬜⬛⬛⬛⬜⬜⬛⬜⬜⬜⬛⬛⬜⬜⬜⬛⬛⬛⬛⬛⬛⬛⬜⬜⬛⬛⬜⬛⬛⬛⬛⬛⬜⬛⬜⬛⬛⬛⬛⬛⬜⬜⬜\n",
            "⬛⬜⬛⬛⬜⬜⬛⬜⬛⬛⬜⬛⬜⬛⬛⬜⬜⬛⬛⬛⬜⬜⬛⬛⬜⬜⬜⬜⬜⬛⬜⬛⬛⬛⬛⬛⬜⬜⬜⬛⬛⬛⬛⬛⬜⬜⬜⬛⬜⬜⬛\n",
            "⬛⬛⬛⬛⬜⬛⬛⬛⬛⬛⬛⬛⬛⬛⬛⬜⬛⬛⬜⬛⬜⬛⬛⬛⬜⬜⬜⬜⬛⬛⬛⬛⬜⬜⬜⬛⬜⬜⬛⬛⬜⬜⬜⬛⬜⬜⬛⬛⬜⬛⬛\n",
            "⬜⬜⬜⬛⬛⬛⬜⬜⬜⬜⬜⬜⬜⬜⬛⬛⬛⬛⬛⬛⬛⬛⬜⬛⬜⬜⬜⬛⬛⬜⬜⬛⬜⬜⬛⬛⬜⬛⬛⬛⬜⬜⬛⬛⬜⬛⬛⬛⬛⬛⬜\n",
            "⬜⬜⬛⬛⬜⬛⬜⬜⬜⬜⬜⬜⬜⬛⬛⬜⬜⬜⬜⬜⬜⬛⬛⬛⬜⬜⬛⬛⬛⬜⬛⬛⬜⬛⬛⬛⬛⬛⬜⬛⬜⬛⬛⬛⬛⬛⬜⬜⬜⬛⬜\n",
            "⬜⬛⬛⬛⬛⬛⬜⬜⬜⬜⬜⬜⬛⬛⬛⬜⬜⬜⬜⬜⬛⬛⬜⬛⬜⬛⬛⬜⬛⬛⬛⬛⬛⬛⬜⬜⬜⬛⬛⬛⬛⬛⬜⬜⬜⬛⬜⬜⬛⬛⬜\n",
            "⬛⬛⬜⬜⬜⬛⬜⬜⬜⬜⬜⬛⬛⬜⬛⬜⬜⬜⬜⬛⬛⬛⬛⬛⬛⬛⬛⬛⬛⬜⬜⬜⬜⬛⬜⬜⬛⬛⬜⬜⬜⬛⬜⬜⬛⬛⬜⬛⬛⬛⬜\n",
            "⬛⬛⬜⬜⬛⬛⬜⬜⬜⬜⬛⬛⬛⬛⬛⬜⬜⬜⬛⬛⬜⬜⬜⬜⬜⬜⬜⬜⬛⬜⬜⬜⬛⬛⬜⬛⬛⬛⬜⬜⬛⬛⬜⬛⬛⬛⬛⬛⬜⬛⬛\n",
            "⬜⬛⬜⬛⬛⬛⬜⬜⬜⬛⬛⬜⬜⬜⬛⬜⬜⬛⬛⬛⬜⬜⬜⬜⬜⬜⬜⬛⬛⬜⬜⬛⬛⬛⬛⬛⬜⬛⬜⬛⬛⬛⬛⬛⬜⬜⬜⬛⬛⬛⬜\n",
            "⬛⬛⬛⬛⬜⬛⬜⬜⬛⬛⬛⬜⬜⬛⬛⬜⬛⬛⬜⬛⬜⬜⬜⬜⬜⬜⬛⬛⬛⬜⬛⬛⬜⬜⬜⬛⬛⬛⬛⬛⬜⬜⬜⬛⬜⬜⬛⬛⬜⬛⬜\n",
            "⬛⬜⬜⬛⬛⬛⬜⬛⬛⬜⬛⬜⬛⬛⬛⬛⬛⬛⬛⬛⬜⬜⬜⬜⬜⬛⬛⬜⬛⬛⬛⬛⬜⬜⬛⬛⬜⬜⬜⬛⬜⬜⬛⬛⬜⬛⬛⬛⬛⬛⬛\n",
            "⬛⬜⬛⬛⬜⬛⬛⬛⬛⬛⬛⬛⬛⬜⬜⬜⬜⬜⬜⬛⬜⬜⬜⬜⬛⬛⬛⬛⬛⬜⬜⬛⬜⬛⬛⬛⬜⬜⬛⬛⬜⬛⬛⬛⬛⬛⬜⬜⬜⬜⬜\n",
            "⬛⬛⬛⬛⬛⬛⬜⬜⬜⬜⬜⬜⬛⬜⬜⬜⬜⬜⬛⬛⬜⬜⬜⬛⬛⬜⬜⬜⬛⬜⬛⬛⬛⬛⬜⬛⬜⬛⬛⬛⬛⬛⬜⬜⬜⬛⬜⬜⬜⬜⬛\n",
            "⬜⬜⬜⬜⬜⬛⬜⬜⬜⬜⬜⬛⬛⬜⬜⬜⬜⬛⬛⬛⬜⬜⬛⬛⬛⬜⬜⬛⬛⬛⬛⬜⬜⬛⬛⬛⬛⬛⬜⬜⬜⬛⬜⬜⬛⬛⬜⬜⬜⬛⬛\n",
            "⬜⬜⬜⬜⬛⬛⬜⬜⬜⬜⬛⬛⬛⬜⬜⬜⬛⬛⬜⬛⬜⬛⬛⬜⬛⬜⬛⬛⬜⬜⬛⬜⬛⬛⬜⬜⬜⬛⬜⬜⬛⬛⬜⬛⬛⬛⬜⬜⬛⬛⬛\n",
            "⬜⬜⬜⬛⬛⬛⬜⬜⬜⬛⬛⬜⬛⬜⬜⬛⬛⬛⬛⬛⬛⬛⬛⬛⬛⬛⬛⬛⬜⬛⬛⬛⬛⬛⬜⬜⬛⬛⬜⬛⬛⬛⬛⬛⬜⬛⬜⬛⬛⬜⬛\n",
            "⬜⬜⬛⬛⬜⬛⬜⬜⬛⬛⬛⬛⬛⬜⬛⬛⬜⬜⬜⬜⬜⬜⬜⬜⬜⬜⬜⬛⬛⬛⬜⬜⬜⬛⬜⬛⬛⬛⬛⬛⬜⬜⬜⬛⬛⬛⬛⬛⬛⬛⬛\n",
            "⬜⬛⬛⬛⬛⬛⬜⬛⬛⬜⬜⬜⬛⬛⬛⬛⬜⬜⬜⬜⬜⬜⬜⬜⬜⬜⬛⬛⬜⬛⬜⬜⬛⬛⬛⬛⬜⬜⬜⬛⬜⬜⬛⬛⬜⬜⬜⬜⬜⬜⬛\n",
            "⬛⬛⬜⬜⬜⬛⬛⬛⬛⬜⬜⬛⬛⬜⬜⬛⬜⬜⬜⬜⬜⬜⬜⬜⬜⬛⬛⬛⬛⬛⬜⬛⬛⬜⬜⬛⬜⬜⬛⬛⬜⬛⬛⬛⬜⬜⬜⬜⬜⬛⬛\n",
            "⬜⬛⬜⬜⬛⬛⬜⬜⬛⬜⬛⬛⬛⬜⬛⬛⬜⬜⬜⬜⬜⬜⬜⬜⬛⬛⬜⬜⬜⬛⬛⬛⬛⬜⬛⬛⬜⬛⬛⬛⬛⬛⬜⬛⬜⬜⬜⬜⬛⬛⬜\n",
            "⬛⬛⬜⬛⬛⬛⬜⬛⬛⬛⬛⬜⬛⬛⬛⬛⬜⬜⬜⬜⬜⬜⬜⬛⬛⬛⬜⬜⬛⬛⬜⬜⬛⬛⬛⬛⬛⬛⬜⬜⬜⬛⬛⬛⬜⬜⬜⬛⬛⬛⬜\n",
            "⬛⬛⬛⬛⬜⬛⬛⬛⬜⬜⬛⬛⬛⬜⬜⬛⬜⬜⬜⬜⬜⬜⬛⬛⬜⬛⬜⬛⬛⬛⬜⬛⬛⬜⬜⬜⬜⬛⬜⬜⬛⬛⬜⬛⬜⬜⬛⬛⬜⬛⬛\n",
            "⬜⬜⬜⬛⬛⬛⬜⬛⬜⬛⬛⬜⬛⬜⬛⬛⬜⬜⬜⬜⬜⬛⬛⬛⬛⬛⬛⬛⬜⬛⬛⬛⬛⬜⬜⬜⬛⬛⬜⬛⬛⬛⬛⬛⬜⬛⬛⬛⬛⬛⬜\n",
            "⬜⬜⬛⬛⬜⬛⬛⬛⬛⬛⬛⬛⬛⬛⬛⬛⬜⬜⬜⬜⬛⬛⬜⬜⬜⬜⬜⬛⬛⬛⬜⬜⬛⬜⬜⬛⬛⬛⬛⬛⬜⬜⬜⬛⬛⬛⬜⬜⬜⬛⬜\n",
            "⬜⬛⬛⬛⬛⬛⬜⬜⬜⬜⬜⬜⬜⬜⬜⬛⬜⬜⬜⬛⬛⬛⬜⬜⬜⬜⬛⬛⬜⬛⬜⬛⬛⬜⬛⬛⬜⬜⬜⬛⬜⬜⬛⬛⬜⬛⬜⬜⬛⬛⬜\n",
            "⬛⬛⬜⬜⬜⬛⬜⬜⬜⬜⬜⬜⬜⬜⬛⬛⬜⬜⬛⬛⬜⬛⬜⬜⬜⬛⬛⬛⬛⬛⬛⬛⬛⬛⬛⬛⬜⬜⬛⬛⬜⬛⬛⬛⬛⬛⬜⬛⬛⬛⬜\n",
            "⬛⬛⬜⬜⬛⬛⬜⬜⬜⬜⬜⬜⬜⬛⬛⬛⬜⬛⬛⬛⬛⬛⬜⬜⬛⬛⬜⬜⬜⬜⬜⬜⬜⬜⬜⬛⬜⬛⬛⬛⬛⬛⬜⬜⬜⬛⬛⬛⬜⬛⬛\n",
            "⬜⬛⬜⬛⬛⬛⬜⬜⬜⬜⬜⬜⬛⬛⬜⬛⬛⬛⬜⬜⬜⬛⬜⬛⬛⬛⬜⬜⬜⬜⬜⬜⬜⬜⬛⬛⬛⬛⬜⬜⬜⬛⬜⬜⬛⬛⬜⬛⬛⬛⬜\n",
            "⬛⬛⬛⬛⬜⬛⬜⬜⬜⬜⬜⬛⬛⬛⬛⬛⬜⬛⬜⬜⬛⬛⬛⬛⬜⬛⬜⬜⬜⬜⬜⬜⬜⬛⬛⬜⬜⬛⬜⬜⬛⬛⬜⬛⬛⬛⬛⬛⬜⬛⬜\n",
            "⬛⬜⬜⬛⬛⬛⬜⬜⬜⬜⬛⬛⬜⬜⬜⬛⬛⬛⬜⬛⬛⬜⬜⬛⬛⬛⬜⬜⬜⬜⬜⬜⬛⬛⬛⬜⬛⬛⬜⬛⬛⬛⬛⬛⬜⬜⬜⬛⬛⬛⬛\n",
            "⬛⬜⬛⬛⬜⬛⬜⬜⬜⬛⬛⬛⬜⬜⬛⬛⬜⬛⬛⬛⬛⬜⬛⬛⬜⬛⬜⬜⬜⬜⬜⬛⬛⬜⬛⬛⬛⬛⬛⬛⬜⬜⬜⬛⬜⬜⬛⬛⬜⬜⬜\n",
            "⬛⬛⬛⬛⬛⬛⬜⬜⬛⬛⬜⬛⬜⬛⬛⬛⬛⬛⬜⬜⬛⬛⬛⬛⬛⬛⬜⬜⬜⬜⬛⬛⬛⬛⬛⬜⬜⬜⬜⬛⬜⬜⬛⬛⬜⬛⬛⬛⬜⬜⬛\n",
            "⬜⬜⬜⬜⬜⬛⬜⬛⬛⬛⬛⬛⬛⬛⬜⬜⬜⬛⬜⬛⬛⬜⬜⬜⬜⬛⬜⬜⬜⬛⬛⬜⬜⬜⬛⬜⬜⬜⬛⬛⬜⬛⬛⬛⬛⬛⬜⬛⬜⬛⬛\n",
            "⬜⬜⬜⬜⬛⬛⬛⬛⬜⬜⬜⬜⬜⬛⬜⬜⬛⬛⬛⬛⬛⬜⬜⬜⬛⬛⬜⬜⬛⬛⬛⬜⬜⬛⬛⬜⬜⬛⬛⬛⬛⬛⬜⬜⬜⬛⬛⬛⬛⬛⬛\n",
            "⬜⬜⬜⬛⬛⬜⬜⬛⬜⬜⬜⬜⬛⬛⬜⬛⬛⬜⬜⬜⬛⬜⬜⬛⬛⬛⬜⬛⬛⬜⬛⬜⬛⬛⬛⬜⬛⬛⬜⬜⬜⬛⬜⬜⬛⬛⬜⬜⬜⬜⬛\n",
            "⬜⬜⬛⬛⬛⬜⬛⬛⬜⬜⬜⬛⬛⬛⬛⬛⬛⬜⬜⬛⬛⬜⬛⬛⬜⬛⬛⬛⬛⬛⬛⬛⬛⬜⬛⬛⬛⬛⬜⬜⬛⬛⬜⬛⬛⬛⬜⬜⬜⬛⬛\n",
            "⬜⬛⬛⬜⬛⬛⬛⬛⬜⬜⬛⬛⬜⬜⬜⬜⬛⬜⬛⬛⬛⬛⬛⬛⬛⬛⬜⬜⬜⬜⬜⬜⬛⬛⬛⬜⬜⬛⬜⬛⬛⬛⬛⬛⬜⬛⬜⬜⬛⬛⬛\n",
            "⬛⬛⬛⬛⬛⬜⬜⬛⬜⬛⬛⬛⬜⬜⬜⬛⬛⬛⬛⬜⬜⬜⬜⬜⬜⬛⬜⬜⬜⬜⬜⬛⬛⬜⬛⬜⬛⬛⬛⬛⬜⬜⬜⬛⬛⬛⬜⬛⬛⬜⬛\n",
            "⬜⬜⬜⬜⬛⬜⬛⬛⬛⬛⬜⬛⬜⬜⬛⬛⬜⬜⬛⬜⬜⬜⬜⬜⬛⬛⬜⬜⬜⬜⬛⬛⬛⬛⬛⬛⬛⬜⬜⬛⬜⬜⬛⬛⬜⬛⬛⬛⬛⬛⬛\n",
            "⬜⬜⬜⬛⬛⬛⬛⬜⬜⬛⬛⬛⬜⬛⬛⬛⬜⬛⬛⬜⬜⬜⬜⬛⬛⬛⬜⬜⬜⬛⬛⬜⬜⬜⬜⬜⬛⬜⬛⬛⬜⬛⬛⬛⬛⬛⬜⬜⬜⬜⬛\n",
            "⬜⬜⬛⬛⬜⬜⬛⬜⬛⬛⬜⬛⬛⬛⬜⬛⬛⬛⬛⬜⬜⬜⬛⬛⬜⬛⬜⬜⬛⬛⬛⬜⬜⬜⬜⬛⬛⬛⬛⬛⬛⬛⬜⬜⬜⬛⬜⬜⬜⬛⬛\n"
          ]
        }
      ],
      "source": [
        "# Počinjemo sa širokim poljem 0 i jednom jedinicom\n",
        "stanje = [0]*25+[1]+[0]*25\n",
        "\n",
        "pravilo = nabaviPravilo(110) # 110, 124, 137, 193\n",
        "\n",
        "for i in range(155):\n",
        "    print1DCA(stanje)\n",
        "    stanje = novaGeneracija(stanje, pravilo)"
      ]
    },
    {
      "cell_type": "markdown",
      "metadata": {
        "id": "F8QcycImBXX3"
      },
      "source": [
        "## **Conway's Game of Life**"
      ]
    },
    {
      "cell_type": "markdown",
      "metadata": {
        "id": "-ZAivPqJZZSV"
      },
      "source": [
        "### Teorijski dio"
      ]
    },
    {
      "cell_type": "markdown",
      "metadata": {
        "id": "YCJAKyepBhOj"
      },
      "source": [
        "Conwayeva igra života, poznata jednostavno kao Igra života (ili čak samo Život), je *cellular automata* kojeg je osmislio britanski matematičar *John Horton Conway* 1970. godine. To je igra bez igrača, što znači da se njezina evolucija određuje njezinim početnim stanjem, ne zahtjevajući daljnji unos. Sudjeluje se u Igru života stvaranjem početne konfiguracije i promatranjem kako se razvija. Ona je Turing-kompletna i može simulirati univerzalnog konstruktora ili bilo koju drugu Turingovu mašinu."
      ]
    },
    {
      "cell_type": "markdown",
      "metadata": {
        "id": "svFcEQK_EYSz"
      },
      "source": [
        "#### **Pravila:**\n",
        "Svijet Igre života je beskonačna, dvodimenzionalna ortogonalna rešetka kvadratnih ćelija, od kojih je svaka u jednom od dva moguća stanja, živa ili mrtva (ili populirana i ne-populirana, redom). Svaka ćelija ima interakciju sa svojih osam susjeda, koji se dijele na ćelije koje su vodoravno, vertikalno ili dijagonalno susjedne. U svakom koraku u vremenu, događaju se sljedeće tranzicije:\n",
        "\n",
        "1.   Svaka živa ćelija s manje od dva živa susjeda umire, kao da je podnaseljena.\n",
        "2.   Svaka živa ćelija s dva ili tri živa susjeda preživljava i prelazi u sljedeću generaciju.\n",
        "3.   Svaka živa ćelija s više od tri živa susjeda umire, kao da je prenaseljena.\n",
        "4.   Svaka mrtva ćelija s točno tri živa susjeda postaje živa ćelija, kao da je rođena.\n",
        "\n",
        "Početni uzorak predstavlja sjeme ili korijen sustava. Prva generacija stvara se primjenom gornjih pravila istovremeno na svaku ćeliju u sjemenu, živu ili mrtvu; rođenja i smrti se događaju istovremeno, a diskretni trenutak u kojem se to događa ponekad se naziva otkucaj. Svaka generacija je čista funkcija prethodne. Pravila se nastavljaju primjenjivati ponovno kako bi se stvorile daljnje generacije."
      ]
    },
    {
      "cell_type": "markdown",
      "metadata": {
        "id": "9b7pIPTTEvEv"
      },
      "source": [
        "Potaknut pitanjima u matematičkoj logici, a djelomično i radom na simulacijskim igrama *Stanislawa Ulama*, među ostalima, *John Conway* počeo je eksperimentirati 1968. godine s različitim pravilima dvodimenzionalnih *cellular automata*. *Conwayev* je početni cilj bio definirati zanimljiv i nepredvidiv *cellular automat*. Prema *Martinu Gardneru*, *Conway* je eksperimentirao s različitim pravilima, ciljajući na pravila koja bi omogućila rast uzoraka bez vidljivih granica, dok bi istovremeno bilo teško dokazati da će bilo koji dani uzorak to učiniti. Nadalje, neki \"jednostavni početni uzorci\" trebali bi \"rasti i mijenjati se tijekom značajnog vremena\" prije nego što se smire u statičku konfiguraciju ili ponavljajuću petlju. *Conway* je kasnije napisao da je osnovna motivacija za igru Život bila stvaranje \"univerzalnog\" *cellular automata*.\n",
        "\n",
        "Igra je prvi put javno predstavljena u listopadskom izdanju časopisa *Scientific American* 1970. godine, u *Martin Gardenerovim* \"Matematičkim igrama\" kolumni, koja se temeljila na osobnim razgovorima s *Conwayem*. Teoretski, Igra života ima moć univerzalne Turingove mašine: sve što se može računski izračunati može se izračunati unutar Igre života. *Gardner* je napisao: \"Zbog analogija Igre života s usponom, padom i promjenama u društvu živih organizama, pripada rastućem nizu onoga što se naziva 'simulacijske igre' (igre koje podsjećaju na procese u stvarnom životu)\".\n",
        "\n",
        "Otkako je objavljena, Igra života privukla je veliki interes zbog iznenađujućih načina na koje se uzorci mogu razvijati. Pruža primjer pojave i samoorganizacije. Verzija Igre života koja uključuje slučajne fluktuacije koristi se u fizici za proučavanje faznih prijelaza i dinamike izvan ravnoteže. Igra također može služiti kao didaktička analogija, koristeći se za prijenos donekle kontra-intuitivne ideje da dizajn i organizacija mogu spontano nastati u odsutnosti dizajnera. Na primjer, filozof *Daniel Dennett* koristio je analogiju \"svijeta\" Igre života u velikoj mjeri kako bi ilustrirao mogući razvoj složenih filozofskih konstrukata, poput svijesti i slobodne volje, iz relativno jednostavnog skupa determinističkih fizičkih zakona koji bi mogli upravljati našim univerzumom.\n",
        "\n",
        "Popularnost Igre života potaknuta je njezinim nastankom u isto vrijeme kada je pristup računalima postajao sve jeftiniji. Igru je bilo moguće pokretati satima na ovim strojevima, koji bi inače ostali neiskorišteni noću. U tom pogledu, Igra života je predvidjela kasniju popularnost računalno generiranih fraktala. Za mnoge, Igra života bila je jednostavno izazov programiranja: zabavan način korištenja inače nepotrošenih ciklusa procesora. Za neke, međutim, Igra života imala je više filozofskih konotacija. Razvila je kultno praćenje tijekom 1970-ih i dalje; trenutni razvoji otišli su toliko daleko da su stvorili teorijske emulacije računalnih sustava unutar okvira ploče Igre života."
      ]
    },
    {
      "cell_type": "markdown",
      "metadata": {
        "id": "UX3NLEum6bIV"
      },
      "source": [
        "### Praktični dio"
      ]
    },
    {
      "cell_type": "markdown",
      "metadata": {
        "id": "lKBpeetUcUrT"
      },
      "source": [
        "#### Implementacija Conwayeve igre života\n",
        "Za implementirati Conwayevu igru života moramo definirati početno stanje i funkciju koja generira novu generaciju."
      ]
    },
    {
      "cell_type": "code",
      "execution_count": 7,
      "metadata": {
        "colab": {
          "base_uri": "https://localhost:8080/"
        },
        "id": "9n12V0hEe13y",
        "outputId": "2161b41b-6131-4ee4-a2f2-d4cdb5ae002a"
      },
      "outputs": [
        {
          "name": "stdout",
          "output_type": "stream",
          "text": [
            "GEN  0\n",
            "⬜⬜⬜⬜⬜⬜⬜⬜⬜⬜⬜⬜\n",
            "⬜⬛⬛⬛⬜⬜⬜⬜⬜⬛⬜⬜\n",
            "⬜⬜⬛⬜⬜⬛⬜⬜⬜⬛⬜⬜\n",
            "⬜⬜⬜⬜⬛⬛⬜⬜⬜⬛⬜⬜\n",
            "⬜⬜⬜⬜⬜⬜⬜⬜⬜⬜⬜⬜\n",
            "GEN  1\n",
            "⬜⬜⬜⬜⬜⬜⬜⬜⬜⬜⬜⬜\n",
            "⬜⬛⬛⬛⬜⬜⬜⬜⬜⬜⬜⬜\n",
            "⬜⬛⬛⬜⬜⬛⬜⬜⬛⬛⬛⬜\n",
            "⬜⬜⬜⬜⬛⬛⬜⬜⬜⬜⬜⬜\n",
            "⬜⬜⬜⬜⬜⬜⬜⬜⬜⬜⬜⬜\n",
            "GEN  2\n",
            "⬜⬜⬜⬜⬜⬜⬜⬜⬜⬜⬜⬜\n",
            "⬜⬛⬜⬛⬜⬜⬜⬜⬜⬛⬜⬜\n",
            "⬜⬛⬜⬜⬜⬛⬜⬜⬜⬛⬜⬜\n",
            "⬜⬜⬜⬜⬛⬛⬜⬜⬜⬛⬜⬜\n",
            "⬜⬜⬜⬜⬜⬜⬜⬜⬜⬜⬜⬜\n",
            "GEN  3\n",
            "⬜⬜⬜⬜⬜⬜⬜⬜⬜⬜⬜⬜\n",
            "⬜⬜⬛⬜⬜⬜⬜⬜⬜⬜⬜⬜\n",
            "⬜⬜⬛⬜⬜⬛⬜⬜⬛⬛⬛⬜\n",
            "⬜⬜⬜⬜⬛⬛⬜⬜⬜⬜⬜⬜\n",
            "⬜⬜⬜⬜⬜⬜⬜⬜⬜⬜⬜⬜\n",
            "GEN  4\n",
            "⬜⬜⬜⬜⬜⬜⬜⬜⬜⬜⬜⬜\n",
            "⬜⬜⬜⬜⬜⬜⬜⬜⬜⬛⬜⬜\n",
            "⬜⬜⬜⬛⬛⬛⬜⬜⬜⬛⬜⬜\n",
            "⬜⬜⬜⬜⬛⬛⬜⬜⬜⬛⬜⬜\n",
            "⬜⬜⬜⬜⬜⬜⬜⬜⬜⬜⬜⬜\n",
            "GEN  5\n",
            "⬜⬜⬜⬜⬜⬜⬜⬜⬜⬜⬜⬜\n",
            "⬜⬜⬜⬜⬛⬜⬜⬜⬜⬜⬜⬜\n",
            "⬜⬜⬜⬛⬜⬛⬜⬜⬛⬛⬛⬜\n",
            "⬜⬜⬜⬛⬜⬛⬜⬜⬜⬜⬜⬜\n",
            "⬜⬜⬜⬜⬜⬜⬜⬜⬜⬜⬜⬜\n"
          ]
        }
      ],
      "source": [
        "from copy import deepcopy\n",
        "\n",
        "# Početno stanje definiramo eksplicitno\n",
        "mreza = [   [0,0,0,0,0,0,0,0,0,0,0,0],\n",
        "            [0,1,1,1,0,0,0,0,0,1,0,0],\n",
        "            [0,0,1,0,0,1,0,0,0,1,0,0],\n",
        "            [0,0,0,0,1,1,0,0,0,1,0,0],\n",
        "            [0,0,0,0,0,0,0,0,0,0,0,0]   ]\n",
        "\n",
        "# Generacija\n",
        "def novaGeneracijaConway(mreza):\n",
        "\n",
        "    novaMreza = deepcopy(mreza)\n",
        "\n",
        "    d = len(mreza)      # duljina\n",
        "    s = len(mreza[0])   # širina\n",
        "\n",
        "    for i in range(1, d-1):\n",
        "        for j in range(1, s-1):\n",
        "\n",
        "            susjedi = 0\n",
        "            for k in [-1,0,1]:\n",
        "                for l in [-1,0,1]:\n",
        "                    susjedi += mreza[i+k][j+l]\n",
        "\n",
        "            if mreza[i][j] == 1:\n",
        "\n",
        "                susjedi -= 1 # Sebe ne broji kao susjeda!\n",
        "\n",
        "                # Umire od samoće\n",
        "                if susjedi < 2:\n",
        "                    novaMreza[i][j] = 0\n",
        "\n",
        "                # elif 2 <= susjedi <= 3:\n",
        "                    # ne mijenja se\n",
        "\n",
        "                # Umire od prenaseljenosti\n",
        "                elif susjedi > 3:\n",
        "                    novaMreza[i][j] = 0\n",
        "\n",
        "            else: # mreza[i][j] == 0\n",
        "                # Rađa se\n",
        "                if susjedi == 3:\n",
        "                    novaMreza[i][j] = 1\n",
        "\n",
        "    return novaMreza\n",
        "\n",
        "\n",
        "for i in range(6):\n",
        "    print(\"GEN \", i)\n",
        "    for j in mreza:\n",
        "        print1DCA(j)\n",
        "    mreza = novaGeneracijaConway(mreza)"
      ]
    },
    {
      "cell_type": "markdown",
      "metadata": {
        "id": "cKiL8cBQxRCR"
      },
      "source": [
        "Generirajuća funkcija duplom for petljom prolazi po svim ćelijama osim rubnim. Ovaj način rješavanja graničnih slučajeva nikad ne mijenja rub ravnine / mreže pa živi uzorci \"nestaju\" jedan piksel ranije. Zatim za svaku ćeliju izračunamo broj živih susjeda novom duplom for petljom te na kraju nizom if-ova implementiramo navedena četiri pravila.\n",
        "\n",
        "Dalje definiramo metodu vizualizacije prigodnu za jupyter okruženje i način igranja igre života."
      ]
    },
    {
      "cell_type": "code",
      "execution_count": 8,
      "metadata": {
        "colab": {
          "base_uri": "https://localhost:8080/"
        },
        "id": "6BENtcWq1qBb",
        "outputId": "f5cb98b2-1f43-4e3a-bb2d-29666bbbf81e"
      },
      "outputs": [
        {
          "name": "stdout",
          "output_type": "stream",
          "text": [
            "⬜⬜⬜⬜⬜⬜⬜⬜⬜⬜⬜⬜\n",
            "⬜⬜⬜⬜⬜⬜⬜⬜⬜⬜⬜⬜\n",
            "⬜⬜⬜⬜⬜⬜⬜⬜⬛⬛⬛⬜\n",
            "⬜⬜⬜⬜⬜⬜⬜⬜⬜⬜⬜⬜\n",
            "⬜⬜⬜⬜⬜⬜⬜⬜⬜⬜⬜⬜\n",
            "\n"
          ]
        }
      ],
      "source": [
        "from IPython.display import display, clear_output\n",
        "import time\n",
        "\n",
        "# Estetska funkcija, pretvara mrežu u string ⬜ i ⬛\n",
        "def getString(mreza):\n",
        "    s=\"\"\n",
        "    for i in mreza:\n",
        "        for j in i:\n",
        "            if j == 0:\n",
        "                s+=\"⬜\"\n",
        "            elif j == 1:\n",
        "                s+=\"⬛\"\n",
        "            else:\n",
        "                s+=str(j)\n",
        "        s+=\"\\n\"\n",
        "    return s\n",
        "\n",
        "\n",
        " # Conwayeva igra života\n",
        "def igrajIgruZivota(mreza, broj_generacija):\n",
        "\n",
        "    s = getString(mreza)\n",
        "\n",
        "    gen = 0\n",
        "    while(gen < broj_generacija):\n",
        "\n",
        "        clear_output()\n",
        "        print(s)\n",
        "\n",
        "        mreza = novaGeneracijaConway(mreza)\n",
        "        s = getString(mreza)\n",
        "        gen += 1\n",
        "        time.sleep(1)\n",
        "\n",
        "\n",
        "# Početno stanje definiramo eksplicitno\n",
        "mreza = [   [0,0,0,0,0,0,0,0,0,0,0,0],\n",
        "            [0,1,1,1,0,0,0,0,0,1,0,0],\n",
        "            [0,0,1,0,0,1,0,0,0,1,0,0],\n",
        "            [0,0,0,0,1,1,0,0,0,1,0,0],\n",
        "            [0,0,0,0,0,0,0,0,0,0,0,0]   ]\n",
        "\n",
        "igrajIgruZivota(mreza, 10)"
      ]
    },
    {
      "cell_type": "markdown",
      "metadata": {
        "id": "4klt7VJlqas0"
      },
      "source": [
        "U funkciji `igrajIgruZivota` u svakom koraku while petlje ispisujemo stanje (generaciju), zatim računamo novu generaciju i generiramo novi string. To obavljamo prije `time.sleep(1)` funkcije da string bude spreman čim krenemo u novu iteraciju petlje. Tako je vrijeme između `clear_output()` i `print(s)` (tj. vrijeme bez prikazane mreže) minimizirano."
      ]
    },
    {
      "cell_type": "markdown",
      "metadata": {
        "id": "ztECRoR-sLqU"
      },
      "source": [
        "#### Demonstracija Conweyeve igre života\n",
        "U gornjem primjeru već se vidi da neke strukture dobivene u CGL (*Conway's game of life*) osciliraju beskonačno. Točnije, osciliraju dok im se ne približe nove ćelije i promijene ih. Postoje strukture koje **osciliraju** i s većim periodom od 2, postoje strukture koje ostaju **statične** i ne mijenjaju se, a postoje i strukture koje se \"**kreću**\" po mreži. Kretnje su slične osciliranju u smislu da se struktura ponavlja s određenim periodom, ali za razliku od osciliranja, struktura se ne ponavlja na istoj poziciji. Strukture koje se kreću nazivaju se \"svemirski brodovi\".\n",
        "\n",
        "Pogledajmo neke od tih struktura."
      ]
    },
    {
      "cell_type": "code",
      "execution_count": 9,
      "metadata": {
        "colab": {
          "base_uri": "https://localhost:8080/"
        },
        "id": "SXViIw8-uv4b",
        "outputId": "5c8a388a-6027-430b-ec5a-c4da61c18f47"
      },
      "outputs": [
        {
          "name": "stdout",
          "output_type": "stream",
          "text": [
            "⬜⬜⬜⬜⬜⬜⬜⬜⬜⬜⬜⬜⬜⬜⬜⬜⬜⬜⬜⬜⬜⬜⬜⬜⬜⬜⬜⬜⬜⬜⬜⬜⬜⬜⬜⬜⬜⬜⬜⬜⬜⬜⬜⬜⬜⬜\n",
            "⬜⬛⬛⬜⬜⬜⬛⬛⬜⬜⬜⬜⬜⬛⬛⬜⬜⬜⬜⬜⬜⬜⬜⬜⬜⬜⬜⬜⬜⬜⬜⬜⬜⬜⬜⬜⬜⬜⬜⬜⬜⬜⬜⬜⬜⬜\n",
            "⬜⬛⬛⬜⬜⬜⬛⬜⬜⬛⬜⬜⬜⬛⬛⬜⬜⬜⬜⬜⬜⬜⬜⬜⬜⬜⬜⬜⬜⬜⬜⬜⬜⬜⬜⬜⬜⬜⬜⬜⬜⬜⬛⬛⬜⬜\n",
            "⬜⬜⬜⬜⬜⬜⬜⬜⬛⬛⬜⬜⬜⬜⬜⬛⬛⬜⬜⬜⬜⬜⬜⬜⬜⬜⬜⬜⬜⬜⬜⬜⬜⬜⬜⬜⬜⬜⬜⬜⬛⬛⬜⬛⬛⬜\n",
            "⬜⬜⬜⬜⬜⬜⬜⬜⬜⬜⬜⬜⬜⬜⬜⬛⬛⬜⬜⬜⬜⬜⬜⬜⬜⬜⬜⬜⬜⬜⬜⬜⬜⬜⬜⬜⬜⬜⬜⬜⬛⬛⬛⬛⬜⬜\n",
            "⬜⬜⬜⬜⬜⬜⬜⬜⬜⬜⬜⬜⬜⬜⬜⬜⬜⬜⬜⬜⬜⬜⬜⬜⬜⬜⬜⬜⬜⬜⬜⬜⬜⬜⬜⬜⬜⬜⬜⬜⬜⬛⬛⬜⬜⬜\n",
            "⬜⬛⬛⬛⬜⬜⬜⬜⬜⬜⬜⬜⬜⬜⬜⬜⬜⬜⬜⬜⬜⬜⬜⬜⬜⬛⬛⬜⬜⬜⬜⬜⬜⬜⬜⬜⬜⬜⬜⬜⬜⬜⬜⬜⬜⬜\n",
            "⬜⬜⬜⬜⬜⬜⬜⬜⬜⬜⬜⬜⬜⬜⬜⬜⬜⬜⬜⬜⬜⬜⬜⬜⬜⬛⬛⬜⬜⬜⬜⬜⬜⬜⬜⬜⬜⬜⬜⬜⬜⬜⬜⬜⬜⬜\n",
            "⬜⬜⬜⬜⬜⬜⬜⬜⬜⬜⬜⬜⬜⬜⬜⬜⬜⬜⬜⬜⬜⬜⬜⬜⬜⬜⬜⬜⬜⬜⬜⬜⬜⬜⬜⬜⬜⬜⬜⬜⬜⬜⬜⬜⬜⬜\n",
            "\n"
          ]
        }
      ],
      "source": [
        "# Početno stanje definiramo eksplicitno\n",
        "mreza = [   [0,0,0,0,0,0,0,0,0,0,0,0,0,0,0,0,0,0,0,0,0,0,0,0,0,0,0,0,0,0,0,0,0,0,0,0,0,0,0,0,0,0,0,0,0,0],\n",
        "            [0,1,1,0,0,0,1,1,0,0,0,0,0,1,1,0,0,0,0,0,0,1,0,0,0,1,0,0,1,0,0,0,0,0,0,0,0,0,0,0,0,0,0,0,0,0],\n",
        "            [0,1,1,0,0,0,1,0,0,1,0,0,0,1,0,0,0,0,0,0,0,0,1,0,0,0,0,0,0,1,0,0,0,0,0,0,0,0,0,0,0,0,0,0,0,0],\n",
        "            [0,0,0,0,0,0,0,0,1,1,0,0,0,0,0,0,1,0,0,0,1,1,1,0,0,1,0,0,0,1,0,0,0,0,0,0,0,0,0,0,0,0,0,0,0,0],\n",
        "            [0,0,0,0,0,0,0,0,0,0,0,0,0,0,0,1,1,0,0,0,0,0,0,0,0,0,1,1,1,1,0,0,0,0,0,0,0,0,0,0,0,0,0,0,0,0],\n",
        "            [0,0,1,0,0,0,0,0,0,0,0,0,0,0,0,0,0,0,0,0,0,0,0,0,0,0,0,0,0,0,0,0,0,0,0,0,0,0,0,0,0,0,0,0,0,0],\n",
        "            [0,0,1,0,0,0,0,0,0,0,0,0,0,0,0,0,0,0,0,0,0,0,0,0,0,0,0,0,0,0,0,0,0,0,0,0,0,0,0,0,0,0,0,0,0,0],\n",
        "            [0,0,1,0,0,0,0,0,0,0,0,0,0,0,0,0,0,0,0,0,0,0,0,0,0,0,0,0,0,0,0,0,0,0,0,0,0,0,0,0,0,0,0,0,0,0],\n",
        "            [0,0,0,0,0,0,0,0,0,0,0,0,0,0,0,0,0,0,0,0,0,0,0,0,0,0,0,0,0,0,0,0,0,0,0,0,0,0,0,0,0,0,0,0,0,0]   ]\n",
        "\n",
        "igrajIgruZivota(mreza, 30)"
      ]
    },
    {
      "cell_type": "markdown",
      "metadata": {
        "id": "8kgk0Q0ByUXb"
      },
      "source": [
        "Prva dva elementa su statična, ispod njih je najjednostavniji oscilator (takozvani *blinker*), treći element je još jedan jednostavan oscilator.\n",
        "\n",
        "Četvrti element je \"*glider*\", svemirski brod koji se kreće dijagonalno. Da je mreža beskonačna ili da su granični slučajevi drugačije riješeni kretao bi se beskonačno.\n",
        "\n",
        "Peti element je svemirski brod koji se kreće u jednom smjeru.\n",
        "\n",
        "Slijede primjeri kompliciranijih oscilatora."
      ]
    },
    {
      "cell_type": "code",
      "execution_count": 30,
      "metadata": {
        "colab": {
          "base_uri": "https://localhost:8080/"
        },
        "id": "nS3bkPeU2xtx",
        "outputId": "b4c012ad-ff9d-4398-e557-c044df01ebe2"
      },
      "outputs": [
        {
          "name": "stdout",
          "output_type": "stream",
          "text": [
            "⬜⬜⬜⬜⬜⬜⬜⬜⬜⬜⬜⬜⬜⬜⬜⬜⬜\n",
            "⬜⬜⬜⬜⬜⬜⬜⬜⬜⬜⬜⬜⬜⬜⬜⬜⬜\n",
            "⬜⬜⬜⬜⬛⬛⬜⬜⬜⬜⬜⬛⬛⬜⬜⬜⬜\n",
            "⬜⬜⬜⬜⬜⬛⬛⬜⬜⬜⬛⬛⬜⬜⬜⬜⬜\n",
            "⬜⬜⬛⬜⬜⬛⬜⬛⬜⬛⬜⬛⬜⬜⬛⬜⬜\n",
            "⬜⬜⬛⬛⬛⬜⬛⬛⬜⬛⬛⬜⬛⬛⬛⬜⬜\n",
            "⬜⬜⬜⬛⬜⬛⬜⬛⬜⬛⬜⬛⬜⬛⬜⬜⬜\n",
            "⬜⬜⬜⬜⬛⬛⬛⬜⬜⬜⬛⬛⬛⬜⬜⬜⬜\n",
            "⬜⬜⬜⬜⬜⬜⬜⬜⬜⬜⬜⬜⬜⬜⬜⬜⬜\n",
            "⬜⬜⬜⬜⬛⬛⬛⬜⬜⬜⬛⬛⬛⬜⬜⬜⬜\n",
            "⬜⬜⬜⬛⬜⬛⬜⬛⬜⬛⬜⬛⬜⬛⬜⬜⬜\n",
            "⬜⬜⬛⬛⬛⬜⬛⬛⬜⬛⬛⬜⬛⬛⬛⬜⬜\n",
            "⬜⬜⬛⬜⬜⬛⬜⬛⬜⬛⬜⬛⬜⬜⬛⬜⬜\n",
            "⬜⬜⬜⬜⬜⬛⬛⬜⬜⬜⬛⬛⬜⬜⬜⬜⬜\n",
            "⬜⬜⬜⬜⬛⬛⬜⬜⬜⬜⬜⬛⬛⬜⬜⬜⬜\n",
            "⬜⬜⬜⬜⬜⬜⬜⬜⬜⬜⬜⬜⬜⬜⬜⬜⬜\n",
            "⬜⬜⬜⬜⬜⬜⬜⬜⬜⬜⬜⬜⬜⬜⬜⬜⬜\n",
            "\n"
          ]
        }
      ],
      "source": [
        "# Pulsar (period 3)\n",
        "\n",
        "# Početno stanje definiramo eksplicitno\n",
        "mreza = [   [0,0,0,0,0,0,0,0,0,0,0,0,0,0,0,0,0],\n",
        "            [0,0,0,0,0,0,0,0,0,0,0,0,0,0,0,0,0],\n",
        "            [0,0,0,0,1,1,1,0,0,0,1,1,1,0,0,0,0],\n",
        "            [0,0,0,0,0,0,0,0,0,0,0,0,0,0,0,0,0],\n",
        "            [0,0,1,0,0,0,0,1,0,1,0,0,0,0,1,0,0],\n",
        "            [0,0,1,0,0,0,0,1,0,1,0,0,0,0,1,0,0],\n",
        "            [0,0,1,0,0,0,0,1,0,1,0,0,0,0,1,0,0],\n",
        "            [0,0,0,0,1,1,1,0,0,0,1,1,1,0,0,0,0],\n",
        "            [0,0,0,0,0,0,0,0,0,0,0,0,0,0,0,0,0],\n",
        "            [0,0,0,0,1,1,1,0,0,0,1,1,1,0,0,0,0],\n",
        "            [0,0,1,0,0,0,0,1,0,1,0,0,0,0,1,0,0],\n",
        "            [0,0,1,0,0,0,0,1,0,1,0,0,0,0,1,0,0],\n",
        "            [0,0,1,0,0,0,0,1,0,1,0,0,0,0,1,0,0],\n",
        "            [0,0,0,0,0,0,0,0,0,0,0,0,0,0,0,0,0],\n",
        "            [0,0,0,0,1,1,1,0,0,0,1,1,1,0,0,0,0],\n",
        "            [0,0,0,0,0,0,0,0,0,0,0,0,0,0,0,0,0],\n",
        "            [0,0,0,0,0,0,0,0,0,0,0,0,0,0,0,0,0]     ]\n",
        "\n",
        "igrajIgruZivota(mreza, 30)"
      ]
    },
    {
      "cell_type": "code",
      "execution_count": 29,
      "metadata": {
        "colab": {
          "base_uri": "https://localhost:8080/"
        },
        "id": "NM_XNwww41p5",
        "outputId": "240d515c-3cd7-4bfa-b7f7-e9b5b33fec0c"
      },
      "outputs": [
        {
          "name": "stdout",
          "output_type": "stream",
          "text": [
            "⬜⬜⬜⬜⬜⬜⬜⬜⬜⬜⬜⬜⬜⬜⬜⬜⬜⬜\n",
            "⬜⬜⬜⬜⬜⬜⬜⬜⬜⬜⬜⬜⬜⬜⬜⬜⬜⬜\n",
            "⬜⬜⬜⬜⬜⬜⬜⬜⬜⬜⬜⬜⬜⬜⬜⬜⬜⬜\n",
            "⬜⬜⬜⬜⬜⬜⬜⬜⬜⬜⬜⬜⬜⬜⬜⬜⬜⬜\n",
            "⬜⬜⬜⬜⬜⬛⬜⬛⬜⬜⬛⬜⬛⬜⬜⬜⬜⬜\n",
            "⬜⬛⬛⬜⬛⬜⬜⬛⬜⬜⬛⬜⬜⬛⬜⬛⬛⬜\n",
            "⬜⬜⬜⬜⬜⬛⬜⬛⬜⬜⬛⬜⬛⬜⬜⬜⬜⬜\n",
            "⬜⬜⬜⬜⬜⬜⬜⬜⬜⬜⬜⬜⬜⬜⬜⬜⬜⬜\n",
            "⬜⬜⬜⬜⬜⬜⬜⬜⬜⬜⬜⬜⬜⬜⬜⬜⬜⬜\n",
            "⬜⬜⬜⬜⬜⬜⬜⬜⬜⬜⬜⬜⬜⬜⬜⬜⬜⬜\n",
            "⬜⬜⬜⬜⬜⬜⬜⬜⬜⬜⬜⬜⬜⬜⬜⬜⬜⬜\n",
            "\n"
          ]
        }
      ],
      "source": [
        "# Penta-decathlon (period 15)\n",
        "\n",
        "# Početno stanje definiramo eksplicitno\n",
        "mreza = [   [0,0,0,0,0,0,0,0,0,0,0,0,0,0,0,0,0,0],\n",
        "            [0,0,0,0,0,0,0,0,0,0,0,0,0,0,0,0,0,0],\n",
        "            [0,0,0,0,0,0,0,0,0,0,0,0,0,0,0,0,0,0],\n",
        "            [0,0,0,0,0,0,0,0,0,0,0,0,0,0,0,0,0,0],\n",
        "            [0,0,0,0,0,0,1,0,0,0,0,1,0,0,0,0,0,0],\n",
        "            [0,0,0,0,1,1,0,1,1,1,1,0,1,1,0,0,0,0],\n",
        "            [0,0,0,0,0,0,1,0,0,0,0,1,0,0,0,0,0,0],\n",
        "            [0,0,0,0,0,0,0,0,0,0,0,0,0,0,0,0,0,0],\n",
        "            [0,0,0,0,0,0,0,0,0,0,0,0,0,0,0,0,0,0],\n",
        "            [0,0,0,0,0,0,0,0,0,0,0,0,0,0,0,0,0,0],\n",
        "            [0,0,0,0,0,0,0,0,0,0,0,0,0,0,0,0,0,0]   ]\n",
        "\n",
        "igrajIgruZivota(mreza, 60)"
      ]
    },
    {
      "cell_type": "markdown",
      "metadata": {
        "id": "-RV5HvTwNl8y"
      },
      "source": [
        "Postoje i mnogo kompleksnije strukture kao što su:\n",
        "\n",
        "*   Oscilatori s većim periodima\n",
        "*   *Methuselah* uzorci, tj. vrlo mali uzorci kojima treba veliki broj generacija da se na kraju stabiliziraju\n",
        "*   \"Pištolji\" tj. uzorci koji beskonačno generiraju svemirske brodove\n",
        "\n",
        "Zbog limitacija *jupyter* okruženja i implementirane metode vizualizacije, ove strukture nije moguće lijepo demonstrirat. Zato prilažemo slike primjera tih pojava.\n"
      ]
    },
    {
      "cell_type": "markdown",
      "metadata": {
        "id": "pLkcLmv2d1o3"
      },
      "source": [
        "**Cribbage** - oscilator perioda 19 i dimenzija 32 x 21\n",
        "\n",
        "![Cribbage.gif](data:image/gif;base64,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)"
      ]
    },
    {
      "cell_type": "markdown",
      "metadata": {
        "id": "ivP86VYZhGBd"
      },
      "source": [
        "**R-pentomino** - *methusela* s početkom:\n",
        "\n",
        "![Rpentomino.png](data:image/png;base64,iVBORw0KGgoAAAANSUhEUgAAAFEAAABRBAMAAABYoVcFAAAALHRFWHRDcmVhdGlvbiBUaW1lAFNhdCAxMCBKYW4gMjAwOSAxMDowMzoyMCAtMDUwMGjCakMAAAAHdElNRQfZAQoPAyXATe4qAAAACXBIWXMAAAsSAAALEgHS3X78AAAABGdBTUEAALGPC/xhBQAAAAlQTFRFxsbG////AAAAqx8dsgAAAFBJREFUeNpjYCASMDEwCkIAIXpU5ahK6qkkP30yKUEAjMZt+6jKUZXkqiQ9feIyC9P2UZWjKilVSXn5Sbj0HlU5qpJclaPtz1GVg1kl0ekTAJk005P4UdBJAAAAAElFTkSuQmCC)"
      ]
    },
    {
      "cell_type": "markdown",
      "metadata": {
        "id": "oP3DUF8hkBFm"
      },
      "source": [
        "i stabiliziranim stanjem (stanjem sa statičnim elementima i oscilatorima):\n",
        "\n",
        "![Snimka zaslona 2024-02-18 194734.png](data:image/png;base64,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)\n",
        "\n",
        "Obojane ćelije predstavljaju ćelije koje su u nekom trenu bile žive. Plavija nijansa znači da je ćelija bila češće živa. Stanje je lokalno stabilizirano, a iz njega je \"pobjeglo\" 6 *glidera*."
      ]
    },
    {
      "cell_type": "markdown",
      "metadata": {
        "id": "8EIKA0XDlDA7"
      },
      "source": [
        "**Gosper glider gun** - \"pištolj\", generator *glidera*.\n",
        "\n",
        "![Gosper_glider_gun_with_grid.gif](data:image/gif;base64,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)\n"
      ]
    },
    {
      "cell_type": "markdown",
      "metadata": {
        "id": "_C52C099MNvr"
      },
      "source": [
        "## **Cellular Automata i Umjetna inteligencija**"
      ]
    },
    {
      "cell_type": "markdown",
      "metadata": {
        "id": "l-RDY44wl0xb"
      },
      "source": [
        "###Teorijski dio"
      ]
    },
    {
      "cell_type": "markdown",
      "metadata": {
        "id": "9KE9Bm6nMVqi"
      },
      "source": [
        "Umjetna inteligencija (AI) i *cellular automata* su dva različita područja koja su zadnjih godina uzdrmala svijet tehnologije. Dok se umjetna inteligencija fokusira na stvaranje inteligentnih strojeva koji mogu učiti i prilagođavati se, *cellular automati* su matematički modeli koji simuliraju ponašanje kompleksnih sustava putem jednostavnih pravila. Paralelno, dok se ova dva područja nastavljaju razvijati, istraživači otkrivaju uzbudljive načine kako kombinirati njihove snage, što vodi inovativnim primjenama i napretku."
      ]
    },
    {
      "cell_type": "markdown",
      "metadata": {
        "id": "Qco0kPr5M-Gv"
      },
      "source": [
        "Jedno od najperspektivnijih susreta između AI-a i *cellular automata* leži u području strojnog učenja. Strojno učenje, podskup AI-a, uključuje razvoj algoritama koji omogućuju računalima učenje i predviđanje na temelju podataka. S druge strane, *cellular automati* mogu se koristiti za modeliranje kompleksnih sustava i procesa, poput dinamike fluida, urbanog rasta i bioloških sustava. Integracijom *cellular automata* s algoritmima strojnog učenja, istraživači mogu stvoriti preciznije i efikasnije modele koji se mogu koristiti za rješavanje širokog spektra problema.\n",
        "\n",
        "Na primjer, u području računalne dinamike fluida, istraživači su koristili *cellular automate* za modeliranje ponašanja fluida, poput zraka i vode, u različitim uvjetima. Integracijom tehnika strojnog učenja, ovi modeli mogu se poboljšati kako bi bolje predvidjeli ponašanje fluida u stvarnim situacijama, poput predviđanja širenja onečišćenja u atmosferi ili protoka vode u rijekama, morima i oceanima. To može dovesti do učinkovitijih strategija za upravljanje okolišem i poboljšanih sigurnosnih mjera u industrijama poput zrakoplovstva i pomorskog prijevoza."
      ]
    },
    {
      "cell_type": "markdown",
      "metadata": {
        "id": "OikWagBpNXW8"
      },
      "source": [
        "Još jedno područje gdje se susreću AI i *cellular automati* je proučavanje bioloških sustava. *Cellular automati* već se dugo vremena koriste za modeliranje ponašanja stanica i drugih bioloških entiteta, pomažući istraživačima u razumijevanju složenih procesa poput diobe stanica, rasta tkiva i širenja bolesti. Integracijom tehnika umjetne inteligencije, ovi modeli mogu se unaprijediti kako bi bolje razumjeli temeljne mehanizme koji pokreću ove procese i razvili učinkovitije tretmane za različite bolesti.\n",
        "\n",
        "Na primjer, istraživači su nedavno razvili model *cellularnog automata* koji simulira rast karcinoma. Integracijom algoritama strojnog učenja, model se može trenirati da predviđa rast i širenje tumora na temelju različitih faktora, poput vrste karcinoma, stadija bolesti i općeg zdravstvenog stanja pacijenta. To može pomoći liječnicima u razvoju personaliziranih planova liječenja i poboljšanju ishoda pacijenata."
      ]
    },
    {
      "cell_type": "markdown",
      "metadata": {
        "id": "db0wCNAAN9Lz"
      },
      "source": [
        "Osim ovih primjena, kombinacija AI-a i *cellular automata* također je dovela do inovacija u drugim područjima, poput urbanog planiranja, upravljanja prometom, pa čak i dizajna video igara. Na primjer, istraživači su koristili *cellular automate* za modeliranje rasta gradova i kretanja ljudi unutar njih. Integracijom tehnika umjetne inteligencije, ovi modeli mogu se koristiti za predviđanje utjecaja različitih urbanističkih odluka, poput izgradnje novih cesta ili implementacije javnog prijevoza. To može pomoći urbanim planerima da donose informirane odluke i stvaraju održivije i ugodnije urbane okoline.\n",
        "\n",
        "Slično tome, u području upravljanja prometom, istraživači su koristili *cellular automate* za modeliranje protoka vozila na cestama i autocestama. Integracijom AI algoritama, ovi modeli mogu se koristiti za predviđanje uzoraka prometa i razvoj učinkovitijih strategija upravljanja prometom, poput optimizacije vremena semafora ili implementacije dinamičnog cjenovnog sustava naplate cestarine."
      ]
    },
    {
      "cell_type": "markdown",
      "metadata": {
        "id": "HB08VzfVm9lk"
      },
      "source": [
        "###Praktični dio"
      ]
    },
    {
      "cell_type": "markdown",
      "metadata": {
        "id": "z7vrSeuMnBdy"
      },
      "source": [
        "Cilj praktičnog dijela u ovom odjeljku je prikazati bliskost CA i umjetne inteligencije. Htjeli smo povezati steknuto znanje o CA s gradivom kolegija. Odlučili smo osmisliti i implementirati svoj CA koji:\n",
        "\n",
        "*   neće biti puno kompliciraniji od Conwayeve igre života\n",
        "*   ima čim manji broj pravila\n",
        "*   ćelije mijenja **samo** u ovisnosti o susjedstvu\n",
        "*   simulira nešto što smo naučili na kolegiju\n",
        "\n",
        "Odlučili smo implementirati CA koji pretraživanjem prostora stanja nalazi izlaz iz labirinta. Za početak definirajmo moguća stanja ćelija:\n",
        "\n",
        "*   ⬜, 0 - prazan prostor\n",
        "*   ⬛, 1 - zid\n",
        "*   🟥, 2 - POČETAK\n",
        "*   🟧, 3 - \"istraživač\"\n",
        "*   🟨, 4 - trag\n",
        "*   🟩, 5 - CILJ\n",
        "\n",
        "Kao susjedstvo ćemo gledati *von Neummanovo* susjedstvo koje se sastoji samo od četiri susjedne ćelije (ne uzima u obzir dijagonalne). Potrebna će nam biti samo sljedeća dva pravila za CA:\n",
        "\n",
        "\n",
        "1.   Ako sam ⬜ (praznina) i imam za susjeda 🟥 ili 🟧 (početak ili istraživača)\n",
        "        *   Postajem 🟧 (istraživač)   \n",
        "2.   Ako sam 🟧 (istraživač)\n",
        "        *   Postajem 🟨 (ostavljam trag)\n",
        "\n",
        "Dodajemo i treće:\n",
        "3.   Ako sam 🟩 (CILJ) i imam za susjeda 🟧 (pronašao me istraživač)\n",
        "        *   Zaustavi simulaciju\n",
        "\n",
        "Treće pravilo je izdvojeno jer nije nužno pravilo CA već pravilo simulacije."
      ]
    },
    {
      "cell_type": "code",
      "execution_count": 15,
      "metadata": {
        "colab": {
          "base_uri": "https://localhost:8080/"
        },
        "id": "g8XdkxO8EzgW",
        "outputId": "f5064c55-5a77-4e89-e36c-e5150953221b"
      },
      "outputs": [
        {
          "name": "stdout",
          "output_type": "stream",
          "text": [
            "⬛⬛⬛⬛⬛⬛⬛\n",
            "🟥🟨🟨🟨🟨🟨⬛\n",
            "⬛🟨⬛🟨⬛🟨⬛\n",
            "⬛🟨⬛⬛⬛⬛⬛\n",
            "⬛🟨🟨🟨🟨🟨⬛\n",
            "⬛🟨⬛🟨⬛🟨⬛\n",
            "⬛⬛⬛⬛⬛🟩⬛\n",
            "\n"
          ]
        }
      ],
      "source": [
        "# Nova generacija labirinta\n",
        "def istrazi_v1(labirint):\n",
        "\n",
        "    noviLabirint = deepcopy(labirint)\n",
        "\n",
        "    d = len(labirint)      # duljina\n",
        "    s = len(labirint[0])   # širina\n",
        "\n",
        "    # Ne gledamo rubne slučajeve\n",
        "    #   --> Zadavat ćemo \"obrubljene labirinte\", tj. takve da im je rub = 1 (zid ⬛ )\n",
        "    for i in range(1, d-1):\n",
        "        for j in range(1, s-1):\n",
        "\n",
        "            # Ako sam ⬜\n",
        "            if labirint[i][j] == 0:\n",
        "\n",
        "                # i NETKO od susjeda je 🟥 ili 🟧\n",
        "                if labirint[i+1][j] == 2 or labirint[i+1][j] == 3:\n",
        "\n",
        "                    # postajem 🟧\n",
        "                    noviLabirint[i][j] = 3\n",
        "\n",
        "                # ostali susjedi...\n",
        "                elif labirint[i-1][j] == 2 or labirint[i-1][j] == 3:\n",
        "                    noviLabirint[i][j] = 3\n",
        "                elif labirint[i][j+1] == 2 or labirint[i][j+1] == 3:\n",
        "                    noviLabirint[i][j] = 3\n",
        "                elif labirint[i][j-1] == 2 or labirint[i][j-1] == 3:\n",
        "                    noviLabirint[i][j] = 3\n",
        "\n",
        "            # Ako sam 🟧\n",
        "            elif labirint[i][j] == 3:\n",
        "                # Postajem 🟨\n",
        "                noviLabirint[i][j] = 4\n",
        "\n",
        "    return noviLabirint\n",
        "\n",
        "\n",
        "\n",
        "#   ⬜, 0 - prazan prostor\n",
        "#   ⬛, 1 - zid\n",
        "#   🟥, 2 - POČETAK\n",
        "#   🟧, 3 - \"istraživač\"\n",
        "#   🟨, 4 - trag\n",
        "#   🟩, 5 - CILJ\n",
        "\n",
        "\n",
        "def labirintString(labirint):\n",
        "    s=\"\"\n",
        "    for j in labirint:\n",
        "        for i in j:\n",
        "            if i == 0:\n",
        "                s+=\"⬜\"\n",
        "            elif i == 1:\n",
        "                s+=\"⬛\"\n",
        "            elif i == 2:\n",
        "                s+=\"🟥\"\n",
        "            elif i == 3:\n",
        "                s+=\"🟧\"\n",
        "            elif i == 4:\n",
        "                s+=\"🟨\"\n",
        "            elif i == 5:\n",
        "                s+=\"🟩\"\n",
        "        s+=\"\\n\"\n",
        "    return s\n",
        "\n",
        "#labirint zadajemo eksplicitno:\n",
        "labirint = [    [1,1,1,1,1,1,1],\n",
        "                [2,0,0,0,0,0,1],\n",
        "                [1,0,1,0,1,0,1],\n",
        "                [1,0,1,1,1,1,1],\n",
        "                [1,0,0,0,0,0,1],\n",
        "                [1,0,1,0,1,5,1],\n",
        "                [1,1,1,1,1,1,1] ]\n",
        "\n",
        "for i in range(11):\n",
        "    clear_output()\n",
        "    print(labirintString(labirint))\n",
        "    labirint = istrazi_v1(labirint)\n",
        "    time.sleep(1)\n"
      ]
    },
    {
      "cell_type": "markdown",
      "metadata": {
        "id": "A6YDKfDTemF1"
      },
      "source": [
        "Gornji primjer dokazuje da su nam ova 2 jednostavna pravila dovoljna da naš CA dođe do cilja labirinta. Slijedi implementacija funkcije `rijesiLabirint` koja će koristiti 3. pravilo da sama sebe zaustavi."
      ]
    },
    {
      "cell_type": "code",
      "execution_count": 18,
      "metadata": {
        "colab": {
          "base_uri": "https://localhost:8080/"
        },
        "id": "7YAUlxwjfwRp",
        "outputId": "6e6bd82f-2a08-4935-8950-c4f5870979d5"
      },
      "outputs": [
        {
          "name": "stdout",
          "output_type": "stream",
          "text": [
            "⬛⬛⬛⬛⬛⬛⬛\n",
            "🟥🟨🟨🟨🟨🟨⬛\n",
            "⬛🟨⬛🟨⬛🟨⬛\n",
            "⬛🟨⬛🟨⬛⬛⬛\n",
            "⬛🟨⬛🟨🟨🟨⬛\n",
            "⬛🟨🟨🟨⬛🟩⬛\n",
            "⬛⬛⬛⬛⬛⬛⬛\n",
            "\n"
          ]
        }
      ],
      "source": [
        "# Nova generacija labirinta\n",
        "#   --> dodano 3. pravilo\n",
        "#   --> dodana jos jedna izlazna varijabla koja označava kraj simulacije\n",
        "def istrazi_v2(labirint):\n",
        "\n",
        "    pobjeda = 0\n",
        "    noviLabirint = deepcopy(labirint)\n",
        "\n",
        "    d = len(labirint)      # duljina\n",
        "    s = len(labirint[0])   # širina\n",
        "\n",
        "    # Ne gledamo rubne slučajeve\n",
        "    #   --> Zadavat ćemo \"obrubljene labirinte\", tj. takve da im je rub = 1 (zid ⬛ )\n",
        "    for i in range(1, d-1):\n",
        "        for j in range(1, s-1):\n",
        "\n",
        "            # Ako sam ⬜\n",
        "            if labirint[i][j] == 0:\n",
        "\n",
        "                # i NETKO od susjeda je 🟥 ili 🟧\n",
        "                if labirint[i+1][j] == 2 or labirint[i+1][j] == 3:\n",
        "\n",
        "                    # postajem 🟧\n",
        "                    noviLabirint[i][j] = 3\n",
        "\n",
        "                # ostali susjedi...\n",
        "                elif labirint[i-1][j] == 2 or labirint[i-1][j] == 3:\n",
        "                    noviLabirint[i][j] = 3\n",
        "                elif labirint[i][j+1] == 2 or labirint[i][j+1] == 3:\n",
        "                    noviLabirint[i][j] = 3\n",
        "                elif labirint[i][j-1] == 2 or labirint[i][j-1] == 3:\n",
        "                    noviLabirint[i][j] = 3\n",
        "\n",
        "            # Ako sam 🟧\n",
        "            elif labirint[i][j] == 3:\n",
        "                # Postajem 🟨\n",
        "                noviLabirint[i][j] = 4\n",
        "\n",
        "            # Ako sam 🟩\n",
        "            elif labirint[i][j] == 5:\n",
        "\n",
        "                # I pronašao me istraživač 🟧\n",
        "                if labirint[i+1][j] == 3 or labirint[i-1][j] == 3 or labirint[i][j+1] == 3 or labirint[i][j-1] == 3:\n",
        "\n",
        "                    #Kraj simulacije:\n",
        "                    pobjeda = 1\n",
        "\n",
        "\n",
        "    return noviLabirint, pobjeda\n",
        "\n",
        "\n",
        "def rijesiLabirint(labirint):\n",
        "    pobjeda = 0\n",
        "    s = labirintString(labirint)\n",
        "    while pobjeda == 0 :\n",
        "        clear_output()\n",
        "        print(s)\n",
        "        output = istrazi_v2(labirint)\n",
        "        labirint = output[0]\n",
        "        pobjeda  = output[1]\n",
        "        s = labirintString(labirint)\n",
        "        time.sleep(1)\n",
        "    clear_output()\n",
        "    print(s)\n",
        "\n",
        "\n",
        "#labirint zadajemo eksplicitno:\n",
        "labirint = [    [1,1,1,1,1,1,1],\n",
        "                [2,0,0,0,0,0,1],\n",
        "                [1,0,1,0,1,0,1],\n",
        "                [1,0,1,0,1,1,1],\n",
        "                [1,0,1,0,0,0,1],\n",
        "                [1,0,0,0,1,5,1],\n",
        "                [1,1,1,1,1,1,1] ]\n",
        "\n",
        "rijesiLabirint(labirint)"
      ]
    },
    {
      "cell_type": "markdown",
      "metadata": {
        "id": "qEDwOVGRnOVs"
      },
      "source": [
        "Ovime smo definirali i implementirali vrlo jednostavan CA koji nalazi izlaz iz labirinta.\n",
        "\n",
        "Glavna premisa CA općenito, pa tako i 1D CA i Conweyeve igre života, je vidjeti koliko kompleksne strukture / pojave možemo dobiti iz čim jednostavnijih početnih struktura. Zato smo jako zadovoljni s činjenicom da smo u samo 2 pravila uspjeli postići simulaciju pretraživanja stanja. Individualni istraživač zapravo prolazi kroz labirint DFS-om, ali se na raskrižjima razmnožava pa zapravo simuliramo BFS. Jedna instanca labirinta ne predstavlja jedan korak u BFS-u nego niz koraka (onoliko koraka koliko imamo \"aktivnih\" istraživača).\n",
        "\n",
        "Ovaj primjer jako lijepo predstavlja odnos CA i umjetne inteligencije koji se u najvećem dijelu javlja samo kao inspiracija ili simulacija. Nastavimo li graditi naš CA dodavanjem pravila mogli bi isprogramirati i kompleksnije istraživače. Prva ideja koja nama pada na pamet je dodati pravilo:\n",
        "\n",
        "4.  Ako sam 🟨 (trag) i imam 3 ⬛ susjeda (dead-end)\n",
        "    *   postajem ⬛\n",
        "\n",
        "Ovim pravilom, ako dopustimo simulaciji da dovoljno dugo radi, u labirintu bi ostao samo put od početka 🟥 do cilja 🟩 (ili više njih ako postoje). Ovo ćemo pravilo kasnije i implementirati.\n",
        "\n",
        "Još neke ideje za nadogradnju:\n",
        "*   Proširiti skup stanja ćelije (dodati nove oznake / brojke: 🟦, 6). Jedna oznaka bi mogla predstavljati raskrižje i s još nekoliko pravila koja sprječavaju razmnožavanje istraživača, mogli bi probati simulirati pravi DFS.\n",
        "*   Modificirati početak da neprestano odašilje nove istraživače\n",
        "*   Koristiti decimalne brojeve <0,1> umjesto oznake traga (🟨) koje bi označavale koliko puta je (neki) istraživač prošao po njima, a zatim modificirati istraživače da preferiraju manji broj (jer je šansa za pronalazak rješenja veća u prostoru koji je manje istražen)\n",
        "\n",
        "Povečavanjem kompleksnosti i dodavanjem pravila CA može se prijeći granica između CA i umjetne inteligencije. Logički agent za rješavanje Wumpusovog svijeta bi se mogao realizirati kao CA (uz veliki broj modifikacija) gdje svaka ćelija ima niz podataka (propuh, zlato, sjaj, stopa rizika...), a ne samo jedan. Susjedstvo ne bi definirali jer po pravilima Wumpusovog svijeta ne vidimo u susjedne ćelije (tj. ćelija je sama sebi susjedstvo). Ovdje je već jasno da je granica prijeđena, ali razmišljanje o ovoj temi jasno pokazuje bliskost CA i umjetne inteligencije.\n",
        "\n",
        "Za kraj još implementiramo traženje puta do cilja koristeći gore spomenuto 4. pravilo."
      ]
    },
    {
      "cell_type": "code",
      "execution_count": 19,
      "metadata": {
        "colab": {
          "base_uri": "https://localhost:8080/"
        },
        "id": "I7miA-ssKm1f",
        "outputId": "4eec93e3-3033-4756-d05d-380f2ac5f0fa"
      },
      "outputs": [
        {
          "name": "stdout",
          "output_type": "stream",
          "text": [
            "⬛⬛⬛⬛⬛⬛⬛\n",
            "🟥🟨⬛⬛⬛⬛⬛\n",
            "⬛🟨⬛⬛⬛⬛⬛\n",
            "⬛🟨⬛⬛⬛⬛⬛\n",
            "⬛🟨🟨🟨🟨🟨⬛\n",
            "⬛⬛⬛⬛⬛🟩⬛\n",
            "⬛⬛⬛⬛⬛⬛⬛\n",
            "\n"
          ]
        }
      ],
      "source": [
        "# Nova generacija labirinta\n",
        "#   --> dodano 4. pravilo\n",
        "#   --> varijabla 'pobjeda' zamjenjena varijablom 'promjena' koja označava je li\n",
        "#       došlo do ikakvih promjena u ovoj iteraciji\n",
        "#   --> maknnuto 3. pravilo\n",
        "def istrazi_v3(labirint):\n",
        "\n",
        "    promjena = 0\n",
        "    noviLabirint = deepcopy(labirint)\n",
        "\n",
        "    d = len(labirint)      # duljina\n",
        "    s = len(labirint[0])   # širina\n",
        "\n",
        "    # Ne gledamo rubne slučajeve\n",
        "    #   --> Zadavat ćemo \"obrubljene labirinte\", tj. takve da im je rub = 1 (zid ⬛ )\n",
        "    for i in range(1, d-1):\n",
        "        for j in range(1, s-1):\n",
        "\n",
        "            # Ako sam ⬜\n",
        "            if labirint[i][j] == 0:\n",
        "\n",
        "                # i NETKO od susjeda je 🟥 ili 🟧\n",
        "                if labirint[i+1][j] == 2 or labirint[i+1][j] == 3:\n",
        "\n",
        "                    # postajem 🟧\n",
        "                    noviLabirint[i][j] = 3\n",
        "                    promjena += 1\n",
        "\n",
        "                # ostali susjedi...\n",
        "                elif labirint[i-1][j] == 2 or labirint[i-1][j] == 3:\n",
        "                    noviLabirint[i][j] = 3\n",
        "                    promjena += 1\n",
        "                elif labirint[i][j+1] == 2 or labirint[i][j+1] == 3:\n",
        "                    noviLabirint[i][j] = 3\n",
        "                    promjena +=1\n",
        "                elif labirint[i][j-1] == 2 or labirint[i][j-1] == 3:\n",
        "                    noviLabirint[i][j] = 3\n",
        "                    promjena += 1\n",
        "\n",
        "            # Ako sam 🟧\n",
        "            elif labirint[i][j] == 3:\n",
        "                # Postajem 🟨\n",
        "                noviLabirint[i][j] = 4\n",
        "                promjena += 1\n",
        "\n",
        "            # Ako sam 🟨\n",
        "            elif labirint[i][j] == 4:\n",
        "\n",
        "                # Brojimo ⬛ susjede\n",
        "                crniSusjedi = 0\n",
        "\n",
        "                if labirint[i+1][j] == 1:\n",
        "                    crniSusjedi += 1\n",
        "\n",
        "                if labirint[i-1][j] == 1:\n",
        "                    crniSusjedi += 1\n",
        "\n",
        "                if labirint[i][j+1] == 1:\n",
        "                    crniSusjedi += 1\n",
        "\n",
        "                if labirint[i][j-1] == 1:\n",
        "                    crniSusjedi += 1\n",
        "\n",
        "                # Ako ih je 3, postajemo ⬛, tj. \"zakopavamo\" put\n",
        "                if crniSusjedi >=3:\n",
        "                    noviLabirint[i][j] = 1\n",
        "                    promjena += 1\n",
        "\n",
        "\n",
        "\n",
        "\n",
        "    return noviLabirint, promjena\n",
        "\n",
        "def putKrozLabirint(labirint):\n",
        "    promjena = 100\n",
        "    s = labirintString(labirint)\n",
        "    while promjena != 0 :\n",
        "        clear_output()\n",
        "        print(s)\n",
        "        output = istrazi_v3(labirint)\n",
        "        labirint = output[0]\n",
        "        promjena = output[1]\n",
        "        s = labirintString(labirint)\n",
        "        time.sleep(1)\n",
        "\n",
        "\n",
        "\n",
        "#labirint zadajemo eksplicitno:\n",
        "labirint = [    [1,1,1,1,1,1,1],\n",
        "                [2,0,0,0,0,0,1],\n",
        "                [1,0,1,0,1,0,1],\n",
        "                [1,0,1,1,1,1,1],\n",
        "                [1,0,0,0,0,0,1],\n",
        "                [1,0,1,0,1,5,1],\n",
        "                [1,1,1,1,1,1,1]     ]\n",
        "\n",
        "putKrozLabirint(labirint)"
      ]
    },
    {
      "cell_type": "markdown",
      "metadata": {
        "id": "R0syx15WQX5E"
      },
      "source": [
        "Ovako dobiveno završno stanje predstavlja točan put (izlaz iz labirinta), ali gubi oblik labirinta. Ako umjesto \"zakopavanja\" puta samo obrišemo trag (🟨 ➡ ⬜) dobit ćemo model originalnog labirinta s iscrtanim putem (tragom) do izlaza. To ćemo postići tako da brojimo i zidvoe ⬛ i praznine ⬜ u gore implementiranom 4. pravilu."
      ]
    },
    {
      "cell_type": "code",
      "execution_count": 21,
      "metadata": {
        "colab": {
          "base_uri": "https://localhost:8080/"
        },
        "id": "fM87ZbClRqzR",
        "outputId": "a8afe38b-815f-4990-b80b-09e6409d37f7"
      },
      "outputs": [
        {
          "name": "stdout",
          "output_type": "stream",
          "text": [
            "⬛⬛⬛⬛⬛⬛⬛\n",
            "🟥🟨⬜⬜⬜⬜⬛\n",
            "⬛🟨⬛⬜⬛⬜⬛\n",
            "⬛🟨⬛⬛⬛⬛⬛\n",
            "⬛🟨🟨🟨🟨🟨⬛\n",
            "⬛⬜⬛⬜⬛🟩⬛\n",
            "⬛⬛⬛⬛⬛⬛⬛\n",
            "\n"
          ]
        }
      ],
      "source": [
        "# Nova generacija labirinta\n",
        "#   --> dodano 4. pravilo\n",
        "#   --> varijabla 'pobjeda' zamjenjena varijablom 'promjena' koja označava je li\n",
        "#       došlo do ikakvih promjena u ovoj iteraciji\n",
        "#   --> maknnuto 3. pravilo\n",
        "def istrazi_v3(labirint):\n",
        "\n",
        "    promjena = 0\n",
        "    noviLabirint = deepcopy(labirint)\n",
        "\n",
        "    d = len(labirint)      # duljina\n",
        "    s = len(labirint[0])   # širina\n",
        "\n",
        "    # Ne gledamo rubne slučajeve\n",
        "    #   --> Zadavat ćemo \"obrubljene labirinte\", tj. takve da im je rub = 1 (zid ⬛ )\n",
        "    for i in range(1, d-1):\n",
        "        for j in range(1, s-1):\n",
        "\n",
        "            # Ako sam ⬜\n",
        "            if labirint[i][j] == 0:\n",
        "\n",
        "                # i NETKO od susjeda je 🟥 ili 🟧\n",
        "                if labirint[i+1][j] == 2 or labirint[i+1][j] == 3:\n",
        "\n",
        "                    # postajem 🟧\n",
        "                    noviLabirint[i][j] = 3\n",
        "                    promjena += 1\n",
        "\n",
        "                # ostali susjedi...\n",
        "                elif labirint[i-1][j] == 2 or labirint[i-1][j] == 3:\n",
        "                    noviLabirint[i][j] = 3\n",
        "                    promjena += 1\n",
        "                elif labirint[i][j+1] == 2 or labirint[i][j+1] == 3:\n",
        "                    noviLabirint[i][j] = 3\n",
        "                    promjena +=1\n",
        "                elif labirint[i][j-1] == 2 or labirint[i][j-1] == 3:\n",
        "                    noviLabirint[i][j] = 3\n",
        "                    promjena += 1\n",
        "\n",
        "            # Ako sam 🟧\n",
        "            elif labirint[i][j] == 3:\n",
        "                # Postajem 🟨\n",
        "                noviLabirint[i][j] = 4\n",
        "                promjena += 1\n",
        "\n",
        "            # Ako sam 🟨\n",
        "            elif labirint[i][j] == 4:\n",
        "\n",
        "                # Brojimo ⬛ i ⬜ susjede\n",
        "                CiBSusjedi = 0\n",
        "\n",
        "                if labirint[i+1][j] in [0,1] :\n",
        "                    CiBSusjedi += 1\n",
        "\n",
        "                if labirint[i-1][j] in [0,1]:\n",
        "                    CiBSusjedi += 1\n",
        "\n",
        "                if labirint[i][j+1] in [0,1]:\n",
        "                    CiBSusjedi += 1\n",
        "\n",
        "                if labirint[i][j-1] in [0,1]:\n",
        "                    CiBSusjedi += 1\n",
        "\n",
        "                # Ako ih je 3, postajemo ⬜, tj. brišem trag\n",
        "                if CiBSusjedi >=3:\n",
        "                    noviLabirint[i][j] = 0\n",
        "                    promjena += 1\n",
        "\n",
        "\n",
        "\n",
        "\n",
        "    return noviLabirint, promjena\n",
        "\n",
        "def putKrozLabirint(labirint):\n",
        "    promjena = 100\n",
        "    s = labirintString(labirint)\n",
        "    while promjena != 0 :\n",
        "        clear_output()\n",
        "        print(s)\n",
        "        output = istrazi_v3(labirint)\n",
        "        labirint = output[0]\n",
        "        promjena = output[1]\n",
        "        s = labirintString(labirint)\n",
        "        time.sleep(1)\n",
        "\n",
        "\n",
        "\n",
        "#labirint zadajemo eksplicitno:\n",
        "labirint = [    [1,1,1,1,1,1,1],\n",
        "                [2,0,0,0,0,0,1],\n",
        "                [1,0,1,0,1,0,1],\n",
        "                [1,0,1,1,1,1,1],\n",
        "                [1,0,0,0,0,0,1],\n",
        "                [1,0,1,0,1,5,1],\n",
        "                [1,1,1,1,1,1,1]     ]\n",
        "\n",
        "putKrozLabirint(labirint)"
      ]
    },
    {
      "cell_type": "markdown",
      "metadata": {
        "id": "9Jjv9KsXRY60"
      },
      "source": [
        "Spomenimo još da je brojanje promjena pravilo (funkcionalnost) simulacije, a ne pravilo CA. CA bi se tako razvijao i bez tog brojača, ali na ovaj način smo osigurali da ne moramo eksplicitno navoditi broj generacija koji želimo vidjeti u pozivu funkcije već stajemo točno kad treba. Maknuto je i 3. pravilo (također funkcija simulacije) jer smo za funkciju `putKrozLabirint` definirali drugačiji kriterij zaustavljanja.\n",
        "\n",
        "Za kraj, u nastavku slijedi demonstracija ovih CA na nekim labirintima."
      ]
    },
    {
      "cell_type": "markdown",
      "metadata": {
        "id": "MK6UmfkvSm0w"
      },
      "source": [
        "####Labirint 1"
      ]
    },
    {
      "cell_type": "code",
      "execution_count": 22,
      "metadata": {
        "colab": {
          "base_uri": "https://localhost:8080/"
        },
        "id": "q_uJhSV6Stsq",
        "outputId": "2eb5a4e9-6d1a-442a-84fb-18eb8f25d61b"
      },
      "outputs": [
        {
          "name": "stdout",
          "output_type": "stream",
          "text": [
            "⬛⬛⬛⬛⬛⬛⬛⬛⬛⬛\n",
            "🟥🟨🟨⬛🟨🟨🟨⬛⬛⬛\n",
            "⬛⬛🟨⬛🟨⬛🟨⬛⬛⬛\n",
            "⬛⬛🟨⬛🟨⬛🟨🟨🟨⬛\n",
            "⬛🟨🟨⬛🟨⬛⬛⬛🟨⬛\n",
            "⬛🟨⬛⬛🟨⬛⬛🟨🟨⬛\n",
            "⬛🟨⬛⬛🟨⬛🟨🟨⬛⬛\n",
            "⬛🟨🟨⬛🟨⬛🟨⬛⬛⬛\n",
            "⬛⬛🟨🟨🟨⬛🟨🟨🟩⬛\n",
            "⬛⬛⬛⬛⬛⬛⬛⬛⬛⬛\n",
            "\n"
          ]
        }
      ],
      "source": [
        "# Labirint zadajemo eksplicitno:\n",
        "\n",
        "labirint = [    [1, 1, 1, 1, 1, 1, 1, 1, 1, 1],\n",
        "                [2, 0, 0, 1, 0, 0, 0, 1, 1, 1],\n",
        "                [1, 1, 0, 1, 0, 1, 0, 1, 1, 1],\n",
        "                [1, 1, 0, 1, 0, 1, 0, 0, 0, 1],\n",
        "                [1, 0, 0, 1, 0, 1, 1, 1, 0, 1],\n",
        "                [1, 0, 1, 1, 0, 1, 1, 0, 0, 1],\n",
        "                [1, 0, 1, 1, 0, 1, 0, 0, 1, 1],\n",
        "                [1, 0, 0, 1, 0, 1, 0, 1, 1, 1],\n",
        "                [1, 1, 0, 0, 0, 1, 0, 0, 5, 1],\n",
        "                [1, 1, 1, 1, 1, 1, 1, 1, 1, 1]  ]\n",
        "\n",
        "\n",
        "rijesiLabirint(labirint)\n",
        "#putKrozLabirint(labirint)"
      ]
    },
    {
      "cell_type": "markdown",
      "metadata": {
        "id": "tdMmjck4Tmv1"
      },
      "source": [
        "####Labirint 2"
      ]
    },
    {
      "cell_type": "code",
      "execution_count": 23,
      "metadata": {
        "colab": {
          "base_uri": "https://localhost:8080/"
        },
        "id": "4uPzbUFbTpKm",
        "outputId": "4c132c04-ab17-4116-d685-27631ab3e33b"
      },
      "outputs": [
        {
          "name": "stdout",
          "output_type": "stream",
          "text": [
            "⬛⬛⬛⬛⬛⬛⬛⬛⬛⬛\n",
            "🟥🟨⬛⬜⬜⬜⬛🟨🟩⬛\n",
            "⬛🟨⬜⬜⬛⬜⬛🟨⬛⬛\n",
            "⬛🟨⬛⬛⬛⬜⬛🟨⬛⬛\n",
            "⬛🟨⬛⬛⬛⬜⬛🟨⬛⬛\n",
            "⬛🟨🟨🟨⬛⬜⬛🟨⬛⬛\n",
            "⬛⬛⬛🟨⬛⬛⬛🟨⬛⬛\n",
            "⬛⬜⬛🟨⬛⬛⬛🟨⬛⬛\n",
            "⬛⬜⬜🟨🟨🟨🟨🟨⬛⬛\n",
            "⬛⬛⬛⬛⬛⬛⬛⬛⬛⬛\n",
            "\n"
          ]
        }
      ],
      "source": [
        "# Labirint zadajemo eksplicitno:\n",
        "\n",
        "labirint = [    [1, 1, 1, 1, 1, 1, 1, 1, 1, 1],\n",
        "                [2, 0, 1, 0, 0, 0, 1, 0, 5, 1],\n",
        "                [1, 0, 0, 0, 1, 0, 1, 0, 1, 1],\n",
        "                [1, 0, 1, 1, 1, 0, 1, 0, 1, 1],\n",
        "                [1, 0, 1, 1, 1, 0, 1, 0, 1, 1],\n",
        "                [1, 0, 0, 0, 1, 0, 1, 0, 1, 1],\n",
        "                [1, 1, 1, 0, 1, 1, 1, 0, 1, 1],\n",
        "                [1, 0, 1, 0, 1, 1, 1, 0, 1, 1],\n",
        "                [1, 0, 0, 0, 0, 0, 0, 0, 1, 1],\n",
        "                [1, 1, 1, 1, 1, 1, 1, 1, 1, 1]  ]\n",
        "\n",
        "\n",
        "#rijesiLabirint(labirint)\n",
        "putKrozLabirint(labirint)"
      ]
    },
    {
      "cell_type": "markdown",
      "metadata": {
        "id": "WI5eLym0URH5"
      },
      "source": [
        "#### Labirint 3 i komentar"
      ]
    },
    {
      "cell_type": "code",
      "execution_count": 24,
      "metadata": {
        "colab": {
          "base_uri": "https://localhost:8080/"
        },
        "id": "soUephjDUgMM",
        "outputId": "022b0cc0-cf94-4d7d-8ab3-ff301ae24a68"
      },
      "outputs": [
        {
          "name": "stdout",
          "output_type": "stream",
          "text": [
            "⬛⬛⬛⬛⬛⬛⬛⬛⬛⬛⬛⬛⬛⬛⬛⬛⬛⬛⬛⬛\n",
            "⬛🟥🟨🟨🟨🟨🟨🟨🟨🟨🟨🟨🟨⬛🟨🟨🟨🟨🟨⬛\n",
            "⬛🟨🟨🟨⬛⬛⬛⬛⬛🟨🟨🟨🟨⬛🟨⬛⬛⬛🟨⬛\n",
            "⬛🟨🟨🟨🟨🟨⬛⬜⬜🟨🟨🟨🟨⬛🟨🟨🟨⬛🟨⬛\n",
            "⬛🟨🟨🟨⬛🟨⬛⬛⬛⬛⬛⬛⬛⬛🟨⬛🟨⬛🟨⬛\n",
            "⬛🟨🟨🟨⬛🟨🟨🟨🟨🟨🟨🟨🟨🟨🟨⬛🟨⬛🟨⬛\n",
            "⬛🟨🟨🟨⬛⬛⬛⬛⬛⬛⬛⬛⬛⬛🟨⬛🟨⬛🟨⬛\n",
            "⬛🟨🟨🟨⬛🟨🟨🟨🟨🟨🟨🟨🟨🟨🟨⬛🟨⬛🟨⬛\n",
            "⬛🟨🟨🟨⬛🟨⬛⬛⬛⬛⬛⬛⬛⬛⬛⬛🟨⬛🟨⬛\n",
            "⬛🟨🟨🟨🟨🟨⬜⬜⬛⬜⬜⬜⬜⬜🟨🟨🟨⬛🟨⬛\n",
            "⬛🟨🟨🟨⬛⬛⬛⬛⬛⬛⬛⬛⬛⬛🟨⬛🟨⬛🟨⬛\n",
            "⬛🟨🟨🟨⬛🟨🟨🟨🟨🟨🟨🟨🟨🟨🟨⬛🟨⬛🟨⬛\n",
            "⬛🟨⬛🟨⬛🟨⬛⬛⬛⬛⬛⬛⬛⬛⬛⬛🟨🟨🟨⬛\n",
            "⬛🟨⬛🟨🟨🟨⬜⬜⬜⬜⬜⬜⬜⬜⬜⬛🟨🟨🟨⬛\n",
            "⬛🟨⬛⬛⬛⬛⬛⬛⬛⬛⬛⬛⬛⬛⬜⬛🟨🟨🟨⬛\n",
            "⬛🟨⬛⬜⬜⬜⬜⬜⬜⬜⬜⬜⬜⬜⬜⬛🟨🟨🟨⬛\n",
            "⬛🟨⬛⬛⬛⬛⬛⬛⬛⬛⬛⬛⬛⬛⬛⬛🟨🟨🟨⬛\n",
            "⬛🟨⬛🟨🟨🟨🟨🟨⬜⬜⬛⬜⬜⬜⬛⬛🟨🟨🟨⬛\n",
            "⬛🟨🟨🟨⬛🟨🟨🟨⬛⬜⬜⬜⬛⬜⬜⬛⬜⬛🟩⬛\n",
            "⬛⬛⬛⬛⬛⬛⬛⬛⬛⬛⬛⬛⬛⬛⬛⬛⬛⬛⬛⬛\n",
            "\n"
          ]
        }
      ],
      "source": [
        "# Labirint zadajemo eksplicitno\n",
        "labirint = [\n",
        "[1, 1, 1, 1, 1, 1, 1, 1, 1, 1, 1, 1, 1, 1, 1, 1, 1, 1, 1, 1],\n",
        "[1, 2, 0, 0, 0, 0, 0, 0, 0, 0, 0, 0, 0, 1, 0, 0, 0, 0, 0, 1],\n",
        "[1, 0, 0, 0, 1, 1, 1, 1, 1, 0, 0, 0, 0, 1, 0, 1, 1, 1, 0, 1],\n",
        "[1, 0, 0, 0, 0, 0, 1, 0, 0, 0, 0, 0, 0, 1, 0, 0, 0, 1, 0, 1],\n",
        "[1, 0, 0, 0, 1, 0, 1, 1, 1, 1, 1, 1, 1, 1, 0, 1, 0, 1, 0, 1],\n",
        "[1, 0, 0, 0, 1, 0, 0, 0, 0, 0, 0, 0, 0, 0, 0, 1, 0, 1, 0, 1],\n",
        "[1, 0, 0, 0, 1, 1, 1, 1, 1, 1, 1, 1, 1, 1, 0, 1, 0, 1, 0, 1],\n",
        "[1, 0, 0, 0, 1, 0, 0, 0, 0, 0, 0, 0, 0, 0, 0, 1, 0, 1, 0, 1],\n",
        "[1, 0, 0, 0, 1, 0, 1, 1, 1, 1, 1, 1, 1, 1, 1, 1, 0, 1, 0, 1],\n",
        "[1, 0, 0, 0, 0, 0, 0, 0, 1, 0, 0, 0, 0, 0, 0, 0, 0, 1, 0, 1],\n",
        "[1, 0, 0, 0, 1, 1, 1, 1, 1, 1, 1, 1, 1, 1, 0, 1, 0, 1, 0, 1],\n",
        "[1, 0, 0, 0, 1, 0, 0, 0, 0, 0, 0, 0, 0, 0, 0, 1, 0, 1, 0, 1],\n",
        "[1, 0, 1, 0, 1, 0, 1, 1, 1, 1, 1, 1, 1, 1, 1, 1, 0, 0, 0, 1],\n",
        "[1, 0, 1, 0, 0, 0, 0, 0, 0, 0, 0, 0, 0, 0, 0, 1, 0, 0, 0, 1],\n",
        "[1, 0, 1, 1, 1, 1, 1, 1, 1, 1, 1, 1, 1, 1, 0, 1, 0, 0, 0, 1],\n",
        "[1, 0, 1, 0, 0, 0, 0, 0, 0, 0, 0, 0, 0, 0, 0, 1, 0, 0, 0, 1],\n",
        "[1, 0, 1, 1, 1, 1, 1, 1, 1, 1, 1, 1, 1, 1, 1, 1, 0, 0, 0, 1],\n",
        "[1, 0, 1, 0, 0, 0, 0, 0, 0, 0, 1, 0, 0, 0, 1, 1, 0, 0, 0, 1],\n",
        "[1, 0, 0, 0, 1, 0, 0, 0, 1, 0, 0, 0, 1, 0, 0, 1, 0, 1, 5, 1],\n",
        "[1, 1, 1, 1, 1, 1, 1, 1, 1, 1, 1, 1, 1, 1, 1, 1, 1, 1, 1, 1]    ]\n",
        "\n",
        "\n",
        "#rijesiLabirint(labirint)\n",
        "putKrozLabirint(labirint)"
      ]
    },
    {
      "cell_type": "markdown",
      "metadata": {
        "id": "ipl0V7_cg6oS"
      },
      "source": [
        "Ovaj primjer, iako ne daje lijepo rješenje, služi nam za bolje shvaćanje rada modela.\n",
        "\n",
        "Prvo, pokazuje da se širenje istraživača \"lijepo\" ponaša i kad je u pitanju veća praznina (a ne širine 1 ćelije kao u ostalim primjerima).\n",
        "\n",
        "Problem nastaje kod zatvaranja slijepih ulica (pravilo 4., kod korištenja funkcije `putKrozLabirint`). Taj proces nije prilagođen za šire praznine i nejedinstvene puteve.\n",
        "\n",
        "Drugo, htjeli smo se osvrnuti na izradu modela. Kao kod svake simulacije, pa tako i simulacije koristeći CA, bitno je konstruirati što pogodniji model. U ovom primjeru glavna mana je ostavljanje širih puteva. Funkcionalno, širi put ne predstavlja nikakvu prednost nad užim, bitni su jedino putevi koji iz njega izlaze. Problem se mogao riješiti boljim modelom, ali naravno i kompleksnijom funkcijom, tj. dodavanjem pravila u CA. Cilj sofisticiranije umjetne inteligencije je da radi na što većem broju modela pa ovim razmišljanjem ponovo dolazimo do rasprave o granici između CA i UI."
      ]
    },
    {
      "cell_type": "markdown",
      "metadata": {
        "id": "P4a9pOqaV0MR"
      },
      "source": [
        "####Labirint 4"
      ]
    },
    {
      "cell_type": "code",
      "execution_count": 26,
      "metadata": {
        "colab": {
          "base_uri": "https://localhost:8080/"
        },
        "id": "C2fqnpzZV8JU",
        "outputId": "6b294d16-c8c1-4d7c-c3fe-09127e9ee559"
      },
      "outputs": [
        {
          "name": "stdout",
          "output_type": "stream",
          "text": [
            "⬛⬛⬛⬛⬛⬛⬛⬛⬛⬛⬛⬛⬛⬛⬛⬛⬛⬛⬛⬛\n",
            "⬛⬜⬛🟨🟨🟨🟨🟨🟨🟨🟨🟨🟨⬛🟨🟨🟨⬛🟩⬛\n",
            "⬛⬜⬛🟨⬛⬛⬛⬛⬛⬛⬛⬛🟨⬛🟨⬛🟨⬛🟨⬛\n",
            "⬛⬜⬛🟨🟨🟨🟨⬛🟨🟨🟨🟨🟨⬛🟨⬛🟨⬛🟨⬛\n",
            "⬛⬜⬛⬛⬛⬛🟨⬛🟨⬛⬛⬛⬛⬛🟨⬛🟨🟨🟨⬛\n",
            "⬛⬜⬛🟨🟨🟨🟨⬛🟨🟨🟨🟨🟨⬛🟨⬛⬛⬛⬛⬛\n",
            "⬛⬜⬛🟨⬛⬛⬛⬛⬛⬛⬛⬛🟨⬛🟨🟨🟨🟨🟨⬛\n",
            "⬛⬜⬜🟨🟨🟨⬛🟨🟨🟨🟨🟨🟨⬛⬛⬛⬛⬛🟨⬛\n",
            "⬛⬛⬛⬛⬛🟨⬛🟨⬛⬛⬛⬛⬛⬛🟨🟨🟨🟨🟨⬛\n",
            "⬛🟨🟨🟨⬛🟨⬛🟨🟨🟨🟨🟨🟨🟨🟨⬛⬛⬛⬛⬛\n",
            "⬛🟨⬛🟨⬛🟨⬛⬛⬛⬛⬛⬛⬛⬛⬛⬛⬜⬜⬜⬛\n",
            "⬛🟨⬛🟨⬛🟨⬛⬜⬜⬜⬜⬜⬜⬜⬜⬜⬜⬛⬜⬛\n",
            "⬛🟨⬛🟨⬛🟨⬛⬜⬛⬛⬛⬛⬛⬛⬛⬛⬛⬛⬜⬛\n",
            "⬛🟨⬛🟨🟨🟨⬛⬜⬜⬜⬜⬛⬜⬜⬜⬜⬜⬜⬜⬛\n",
            "⬛🟨⬛⬛⬛⬛⬛⬛⬛⬛⬜⬛⬜⬛⬛⬛⬛⬛⬛⬛\n",
            "⬛🟨⬛⬛🟨🟨🟨⬜⬜⬛⬜⬛⬜⬛⬜⬜⬜⬛⬜⬛\n",
            "⬛🟨🟨🟨🟨⬛🟨⬛⬜⬛⬜⬛⬜⬛⬜⬛⬜⬛⬜⬛\n",
            "⬛⬛⬛⬛⬛⬛🟨⬛⬜⬛⬜⬛⬜⬛⬜⬛⬜⬛⬜⬛\n",
            "🟥🟨🟨🟨🟨🟨🟨⬛⬜⬜⬜⬛⬜⬜⬜⬛⬜⬜⬜⬛\n",
            "⬛⬛⬛⬛⬛⬛⬛⬛⬛⬛⬛⬛⬛⬛⬛⬛⬛⬛⬛⬛\n",
            "\n"
          ]
        }
      ],
      "source": [
        "# Labirint zadajemo eksplicitno\n",
        "labirint = [\n",
        "[1, 1, 1, 1, 1, 1, 1, 1, 1, 1, 1, 1, 1, 1, 1, 1, 1, 1, 1, 1],\n",
        "[1, 0, 1, 0, 0, 0, 0, 0, 0, 0, 0, 0, 0, 1, 0, 0, 0, 1, 5, 1],\n",
        "[1, 0, 1, 0, 1, 1, 1, 1, 1, 1, 1, 1, 0, 1, 0, 1, 0, 1, 0, 1],\n",
        "[1, 0, 1, 0, 0, 0, 0, 1, 0, 0, 0, 0, 0, 1, 0, 1, 0, 1, 0, 1],\n",
        "[1, 0, 1, 1, 1, 1, 0, 1, 0, 1, 1, 1, 1, 1, 0, 1, 0, 0, 0, 1],\n",
        "[1, 0, 1, 0, 0, 0, 0, 1, 0, 0, 0, 0, 0, 1, 0, 1, 1, 1, 1, 1],\n",
        "[1, 0, 1, 0, 1, 1, 1, 1, 1, 1, 1, 1, 0, 1, 0, 0, 0, 0, 0, 1],\n",
        "[1, 0, 0, 0, 0, 0, 1, 0, 0, 0, 0, 0, 0, 1, 1, 1, 1, 1, 0, 1],\n",
        "[1, 1, 1, 1, 1, 0, 1, 0, 1, 1, 1, 1, 1, 1, 0, 0, 0, 0, 0, 1],\n",
        "[1, 0, 0, 0, 1, 0, 1, 0, 0, 0, 0, 0, 0, 0, 0, 1, 1, 1, 1, 1],\n",
        "[1, 0, 1, 0, 1, 0, 1, 1, 1, 1, 1, 1, 1, 1, 1, 1, 0, 0, 0, 1],\n",
        "[1, 0, 1, 0, 1, 0, 1, 0, 0, 0, 0, 0, 0, 0, 0, 0, 0, 1, 0, 1],\n",
        "[1, 0, 1, 0, 1, 0, 1, 0, 1, 1, 1, 1, 1, 1, 1, 1, 1, 1, 0, 1],\n",
        "[1, 0, 1, 0, 0, 0, 1, 0, 0, 0, 0, 1, 0, 0, 0, 0, 0, 0, 0, 1],\n",
        "[1, 0, 1, 1, 1, 1, 1, 1, 1, 1, 0, 1, 0, 1, 1, 1, 1, 1, 1, 1],\n",
        "[1, 0, 1, 1, 0, 0, 0, 0, 0, 1, 0, 1, 0, 1, 0, 0, 0, 1, 0, 1],\n",
        "[1, 0, 0, 0, 0, 1, 0, 1, 0, 1, 0, 1, 0, 1, 0, 1, 0, 1, 0, 1],\n",
        "[1, 1, 1, 1, 1, 1, 0, 1, 0, 1, 0, 1, 0, 1, 0, 1, 0, 1, 0, 1],\n",
        "[2, 0, 0, 0, 0, 0, 0, 1, 0, 0, 0, 1, 0, 0, 0, 1, 0, 0, 0, 1],\n",
        "[1, 1, 1, 1, 1, 1, 1, 1, 1, 1, 1, 1, 1, 1, 1, 1, 1, 1, 1, 1]    ]\n",
        "\n",
        "\n",
        "#rijesiLabirint(labirint)\n",
        "putKrozLabirint(labirint)"
      ]
    },
    {
      "cell_type": "markdown",
      "metadata": {
        "id": "2RlB6BfQW5rl"
      },
      "source": [
        "#### Labirint 5"
      ]
    },
    {
      "cell_type": "code",
      "execution_count": 28,
      "metadata": {
        "colab": {
          "base_uri": "https://localhost:8080/"
        },
        "id": "Mq60-go3W8ME",
        "outputId": "30fa23b0-4e97-4c4e-eceb-6daca017a3a6"
      },
      "outputs": [
        {
          "name": "stdout",
          "output_type": "stream",
          "text": [
            "⬛🟥⬛⬛⬛⬛⬛⬛⬛⬛⬛⬛⬛⬛⬛⬛⬛⬛⬛⬛⬛⬛⬛⬛⬛⬛⬛⬛⬛⬛\n",
            "⬛🟨⬛⬜⬜⬜⬛⬜⬜⬜⬜⬛⬜⬜⬜⬛⬜⬜⬜⬛⬜⬜⬜⬜⬜⬜⬜⬜⬜⬛\n",
            "⬛🟨⬛⬜⬛⬜⬛⬛⬛⬛⬜⬛⬜⬛⬜⬛⬜⬛⬜⬛⬜⬛⬛⬛⬛⬛⬛⬛⬜⬛\n",
            "⬛🟨⬛⬜⬛⬜⬛⬜⬜⬜⬜⬛⬜⬛⬜⬛⬜⬛⬜⬛⬜⬜⬜⬜⬜⬜⬜⬛⬜⬛\n",
            "⬛🟨⬛⬜⬛⬜⬛⬜⬛⬛⬛⬛⬜⬛⬜⬛⬜⬛⬜⬛⬛⬛⬛⬛⬛⬛⬜⬛⬜⬛\n",
            "⬛🟨⬛⬜⬛⬜⬛⬜⬜⬜⬜⬛⬜⬛⬜⬛⬜⬛⬛⬛⬜⬜⬜⬜⬜⬜⬜⬛⬜⬛\n",
            "⬛🟨⬛⬜⬛⬜⬛⬛⬛⬛⬜⬛⬜⬛⬜⬛⬜⬜⬜⬛⬜⬛⬛⬛⬛⬛⬛⬛⬜⬛\n",
            "⬛🟨⬛⬜⬛⬜⬜⬜⬜⬜⬜⬛⬜⬛⬜⬛⬛⬛⬜⬜⬜⬜⬜⬜⬜⬜⬜⬛⬜⬛\n",
            "⬛🟨⬛⬜⬛⬛⬛⬛⬛⬛⬛⬛⬜⬛⬜⬜⬜⬛⬛⬛⬛⬛⬛⬛⬛⬛⬛⬛⬜⬛\n",
            "⬛🟨⬛⬜⬜⬜⬛⬜⬜⬜⬜⬜⬜⬛⬜⬛⬜⬛⬜⬛⬜⬜⬜⬜⬛⬜⬜⬜⬜⬛\n",
            "⬛🟨⬛⬛⬛⬜⬛⬜⬛⬛⬛⬛⬛⬛⬜⬛⬜⬛⬜⬛⬜⬛⬛⬜⬛⬜⬛⬛⬜⬛\n",
            "⬛🟨🟨🟨⬜⬜⬛⬜⬜⬜⬜⬜⬛⬜⬜⬛⬜⬜⬜⬛⬜⬜⬛⬜⬛⬜⬛⬜⬜⬛\n",
            "⬛⬛⬛🟨⬛⬛⬛⬛⬛⬛⬛⬜⬛⬜⬛⬛⬛⬛⬛⬛⬛⬜⬛⬜⬜⬜⬛⬜⬛⬛\n",
            "⬛⬜⬛🟨⬛⬜⬜⬜⬜⬜⬜⬜⬛⬜⬜⬛⬜⬜⬜⬜⬛⬜⬛⬛⬛⬛⬛⬛⬛⬛\n",
            "⬛⬜⬛🟨⬛⬜⬛⬛⬛⬛⬛⬛⬛⬛⬜⬛⬜⬛⬛⬜⬛⬜⬜⬜⬜⬜⬜⬜⬜⬛\n",
            "⬛⬜⬛🟨⬛⬜⬛🟨🟨🟨🟨🟨🟨⬛⬜⬛⬜⬜⬛⬜⬛⬛⬛⬛⬛⬛⬛⬛⬜⬛\n",
            "⬛⬜⬛🟨⬛⬜⬛🟨⬛⬛⬛⬛🟨⬛⬜⬛⬛⬜⬛⬜⬜⬜⬜⬜⬜⬜⬜⬜⬜⬛\n",
            "⬛⬜⬛🟨⬛⬜⬛🟨⬛🟨🟨🟨🟨⬛⬜⬜⬛⬜⬛⬛⬛⬛⬛⬛⬛⬛⬛⬛⬛⬛\n",
            "⬛⬜⬛🟨⬛⬜⬛🟨⬛🟨⬛⬛⬛⬛⬛⬜⬜⬜⬛⬜⬜⬛🟨🟨🟨⬛🟨🟨🟨⬛\n",
            "⬛⬜⬛🟨⬛⬜⬛🟨⬛🟨⬛🟨🟨🟨⬛⬛⬛⬛⬛⬜⬛⬛🟨⬛🟨⬛🟨⬛🟨⬛\n",
            "⬛⬜⬛🟨⬛⬜⬛🟨⬛🟨🟨🟨⬛🟨🟨🟨🟨🟨⬛🟨🟨🟨🟨⬛🟨🟨🟨⬛🟨⬛\n",
            "⬛⬜⬛🟨⬛⬜⬛🟨⬛⬛⬛⬛⬛⬛⬛⬛⬛🟨⬛🟨⬛⬛⬛⬛⬛⬛⬛⬛🟨⬛\n",
            "⬛⬜⬛🟨⬜⬜⬛🟨🟨🟨🟨🟨🟨🟨🟨🟨⬛🟨⬛🟨⬛🟨🟨🟨🟨🟨🟨🟨🟨⬛\n",
            "⬛⬜⬜🟨⬛⬛⬛⬛⬛⬛⬛⬛⬛⬛⬛🟨⬛🟨⬛🟨⬛🟨⬛⬛⬛⬛⬛⬛⬛⬛\n",
            "⬛⬛⬛🟨⬛🟨🟨🟨🟨🟨🟨🟨🟨🟨⬛🟨⬛🟨⬛🟨⬛🟨🟨🟨🟨🟨🟨🟨🟨⬛\n",
            "⬛⬜⬛🟨⬛🟨⬛⬛⬛⬛⬛⬛⬛🟨⬛🟨⬛🟨⬛🟨⬛⬛⬛⬛⬛⬛⬛⬛🟨⬛\n",
            "⬛⬜⬛🟨⬛🟨🟨🟨🟨🟨🟨🟨⬛🟨⬛🟨⬛🟨⬛🟨🟨🟨🟨🟨🟨🟨⬛🟨🟨⬛\n",
            "⬛⬜⬛🟨⬛⬛⬛⬛⬛⬛⬛🟨⬛🟨⬛🟨⬛🟨⬛⬛⬛⬛⬛⬛⬛🟨⬛🟨⬛⬛\n",
            "⬛⬜⬜🟨🟨🟨🟨🟨🟨🟨🟨🟨⬛🟨🟨🟨⬛🟨🟨🟨🟨🟨🟨🟨🟨🟨⬛🟨🟩⬛\n",
            "⬛⬛⬛⬛⬛⬛⬛⬛⬛⬛⬛⬛⬛⬛⬛⬛⬛⬛⬛⬛⬛⬛⬛⬛⬛⬛⬛⬛⬛⬛\n",
            "\n"
          ]
        }
      ],
      "source": [
        "# Labirint zadajemo eksplicitno\n",
        "labirint = [\n",
        "[1, 2, 1, 1, 1, 1, 1, 1, 1, 1, 1, 1, 1, 1, 1, 1, 1, 1, 1, 1, 1, 1, 1, 1, 1, 1, 1, 1, 1, 1],\n",
        "[1, 0, 1, 0, 0, 0, 1, 0, 0, 0, 0, 1, 0, 0, 0, 1, 0, 0, 0, 1, 0, 0, 0, 0, 0, 0, 0, 0, 0, 1],\n",
        "[1, 0, 1, 0, 1, 0, 1, 1, 1, 1, 0, 1, 0, 1, 0, 1, 0, 1, 0, 1, 0, 1, 1, 1, 1, 1, 1, 1, 0, 1],\n",
        "[1, 0, 1, 0, 1, 0, 1, 0, 0, 0, 0, 1, 0, 1, 0, 1, 0, 1, 0, 1, 0, 0, 0, 0, 0, 0, 0, 1, 0, 1],\n",
        "[1, 0, 1, 0, 1, 0, 1, 0, 1, 1, 1, 1, 0, 1, 0, 1, 0, 1, 0, 1, 1, 1, 1, 1, 1, 1, 0, 1, 0, 1],\n",
        "[1, 0, 1, 0, 1, 0, 1, 0, 0, 0, 0, 1, 0, 1, 0, 1, 0, 1, 1, 1, 0, 0, 0, 0, 0, 0, 0, 1, 0, 1],\n",
        "[1, 0, 1, 0, 1, 0, 1, 1, 1, 1, 0, 1, 0, 1, 0, 1, 0, 0, 0, 1, 0, 1, 1, 1, 1, 1, 1, 1, 0, 1],\n",
        "[1, 0, 1, 0, 1, 0, 0, 0, 0, 0, 0, 1, 0, 1, 0, 1, 1, 1, 0, 0, 0, 0, 0, 0, 0, 0, 0, 1, 0, 1],\n",
        "[1, 0, 1, 0, 1, 1, 1, 1, 1, 1, 1, 1, 0, 1, 0, 0, 0, 1, 1, 1, 1, 1, 1, 1, 1, 1, 1, 1, 0, 1],\n",
        "[1, 0, 1, 0, 0, 0, 1, 0, 0, 0, 0, 0, 0, 1, 0, 1, 0, 1, 0, 1, 0, 0, 0, 0, 1, 0, 0, 0, 0, 1],\n",
        "[1, 0, 1, 1, 1, 0, 1, 0, 1, 1, 1, 1, 1, 1, 0, 1, 0, 1, 0, 1, 0, 1, 1, 0, 1, 0, 1, 1, 0, 1],\n",
        "[1, 0, 0, 0, 0, 0, 1, 0, 0, 0, 0, 0, 1, 0, 0, 1, 0, 0, 0, 1, 0, 0, 1, 0, 1, 0, 1, 0, 0, 1],\n",
        "[1, 1, 1, 0, 1, 1, 1, 1, 1, 1, 1, 0, 1, 0, 1, 1, 1, 1, 1, 1, 1, 0, 1, 0, 0, 0, 1, 0, 1, 1],\n",
        "[1, 0, 1, 0, 1, 0, 0, 0, 0, 0, 0, 0, 1, 0, 0, 1, 0, 0, 0, 0, 1, 0, 1, 1, 1, 1, 1, 1, 1, 1],\n",
        "[1, 0, 1, 0, 1, 0, 1, 1, 1, 1, 1, 1, 1, 1, 0, 1, 0, 1, 1, 0, 1, 0, 0, 0, 0, 0, 0, 0, 0, 1],\n",
        "[1, 0, 1, 0, 1, 0, 1, 0, 0, 0, 0, 0, 0, 1, 0, 1, 0, 0, 1, 0, 1, 1, 1, 1, 1, 1, 1, 1, 0, 1],\n",
        "[1, 0, 1, 0, 1, 0, 1, 0, 1, 1, 1, 1, 0, 1, 0, 1, 1, 0, 1, 0, 0, 0, 0, 0, 0, 0, 0, 0, 0, 1],\n",
        "[1, 0, 1, 0, 1, 0, 1, 0, 1, 0, 0, 0, 0, 1, 0, 0, 1, 0, 1, 1, 1, 1, 1, 1, 1, 1, 1, 1, 1, 1],\n",
        "[1, 0, 1, 0, 1, 0, 1, 0, 1, 0, 1, 1, 1, 1, 1, 0, 0, 0, 1, 0, 0, 1, 0, 0, 0, 1, 0, 0, 0, 1],\n",
        "[1, 0, 1, 0, 1, 0, 1, 0, 1, 0, 1, 0, 0, 0, 1, 1, 1, 1, 1, 0, 1, 1, 0, 1, 0, 1, 0, 1, 0, 1],\n",
        "[1, 0, 1, 0, 1, 0, 1, 0, 1, 0, 0, 0, 1, 0, 0, 0, 0, 0, 1, 0, 0, 0, 0, 1, 0, 0, 0, 1, 0, 1],\n",
        "[1, 0, 1, 0, 1, 0, 1, 0, 1, 1, 1, 1, 1, 1, 1, 1, 1, 0, 1, 0, 1, 1, 1, 1, 1, 1, 1, 1, 0, 1],\n",
        "[1, 0, 1, 0, 0, 0, 1, 0, 0, 0, 0, 0, 0, 0, 0, 0, 1, 0, 1, 0, 1, 0, 0, 0, 0, 0, 0, 0, 0, 1],\n",
        "[1, 0, 0, 0, 1, 1, 1, 1, 1, 1, 1, 1, 1, 1, 1, 0, 1, 0, 1, 0, 1, 0, 1, 1, 1, 1, 1, 1, 1, 1],\n",
        "[1, 1, 1, 0, 1, 0, 0, 0, 0, 0, 0, 0, 0, 0, 1, 0, 1, 0, 1, 0, 1, 0, 0, 0, 0, 0, 0, 0, 0, 1],\n",
        "[1, 0, 1, 0, 1, 0, 1, 1, 1, 1, 1, 1, 1, 0, 1, 0, 1, 0, 1, 0, 1, 1, 1, 1, 1, 1, 1, 1, 0, 1],\n",
        "[1, 0, 1, 0, 1, 0, 0, 0, 0, 0, 0, 0, 1, 0, 1, 0, 1, 0, 1, 0, 0, 0, 0, 0, 0, 0, 1, 0, 0, 1],\n",
        "[1, 0, 1, 0, 1, 1, 1, 1, 1, 1, 1, 0, 1, 0, 1, 0, 1, 0, 1, 1, 1, 1, 1, 1, 1, 0, 1, 0, 1, 1],\n",
        "[1, 0, 0, 0, 0, 0, 0, 0, 0, 0, 0, 0, 1, 0, 0, 0, 1, 0, 0, 0, 0, 0, 0, 0, 0, 0, 1, 0, 5, 1],\n",
        "[1, 1, 1, 1, 1, 1, 1, 1, 1, 1, 1, 1, 1, 1, 1, 1, 1, 1, 1, 1, 1, 1, 1, 1, 1, 1, 1, 1, 1, 1]    ]\n",
        "\n",
        "\n",
        "#rijesiLabirint(labirint)\n",
        "putKrozLabirint(labirint)"
      ]
    },
    {
      "cell_type": "markdown",
      "metadata": {
        "id": "3JzVHw6_nmwy"
      },
      "source": [
        "## Zaključak\n",
        "\n",
        "Susret umjetne inteligencije i *cellular automata* nudi mnoštvo prilika za inovacije i napredak u različitim područjima. Spajanjem snaga ovih područja, istraživači mogu razviti preciznije i efikasnije modele koji se mogu koristiti za rješavanje složenih problema i poboljšanje našeg razumijevanja svijeta oko nas. Kako se AI i *cellular automati* nastavljaju razvijati, možemo očekivati još uzbudljivijih primjena i otkrića u godinama koje dolaze."
      ]
    }
  ],
  "metadata": {
    "colab": {
      "provenance": [],
      "toc_visible": true
    },
    "kernelspec": {
      "display_name": "Python 3",
      "name": "python3"
    },
    "language_info": {
      "name": "python"
    }
  },
  "nbformat": 4,
  "nbformat_minor": 0
}
